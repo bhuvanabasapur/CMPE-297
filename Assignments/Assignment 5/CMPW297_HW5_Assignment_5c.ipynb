{
  "nbformat": 4,
  "nbformat_minor": 0,
  "metadata": {
    "colab": {
      "name": "CMPW297_HW5_Avalanche_2.ipynb",
      "provenance": [],
      "collapsed_sections": []
    },
    "kernelspec": {
      "name": "python3",
      "display_name": "Python 3"
    },
    "language_info": {
      "name": "python"
    },
    "widgets": {
      "application/vnd.jupyter.widget-state+json": {
        "77e1ce76a9134149b8729c6803b076b1": {
          "model_module": "@jupyter-widgets/controls",
          "model_name": "HBoxModel",
          "model_module_version": "1.5.0",
          "state": {
            "_view_name": "HBoxView",
            "_dom_classes": [],
            "_model_name": "HBoxModel",
            "_view_module": "@jupyter-widgets/controls",
            "_model_module_version": "1.5.0",
            "_view_count": null,
            "_view_module_version": "1.5.0",
            "box_style": "",
            "layout": "IPY_MODEL_e1ed75d8b7ea49bda59a120e947b603e",
            "_model_module": "@jupyter-widgets/controls",
            "children": [
              "IPY_MODEL_bfd27a43f2604e9badbeede3312b2514",
              "IPY_MODEL_c673f89269b54652bb8cc925a69447d0",
              "IPY_MODEL_afe7a45e5f624a6cbbe4cdae3f53be32"
            ]
          }
        },
        "e1ed75d8b7ea49bda59a120e947b603e": {
          "model_module": "@jupyter-widgets/base",
          "model_name": "LayoutModel",
          "model_module_version": "1.2.0",
          "state": {
            "_view_name": "LayoutView",
            "grid_template_rows": null,
            "right": null,
            "justify_content": null,
            "_view_module": "@jupyter-widgets/base",
            "overflow": null,
            "_model_module_version": "1.2.0",
            "_view_count": null,
            "flex_flow": null,
            "width": null,
            "min_width": null,
            "border": null,
            "align_items": null,
            "bottom": null,
            "_model_module": "@jupyter-widgets/base",
            "top": null,
            "grid_column": null,
            "overflow_y": null,
            "overflow_x": null,
            "grid_auto_flow": null,
            "grid_area": null,
            "grid_template_columns": null,
            "flex": null,
            "_model_name": "LayoutModel",
            "justify_items": null,
            "grid_row": null,
            "max_height": null,
            "align_content": null,
            "visibility": null,
            "align_self": null,
            "height": null,
            "min_height": null,
            "padding": null,
            "grid_auto_rows": null,
            "grid_gap": null,
            "max_width": null,
            "order": null,
            "_view_module_version": "1.2.0",
            "grid_template_areas": null,
            "object_position": null,
            "object_fit": null,
            "grid_auto_columns": null,
            "margin": null,
            "display": null,
            "left": null
          }
        },
        "bfd27a43f2604e9badbeede3312b2514": {
          "model_module": "@jupyter-widgets/controls",
          "model_name": "HTMLModel",
          "model_module_version": "1.5.0",
          "state": {
            "_view_name": "HTMLView",
            "style": "IPY_MODEL_7cf675320d48484d9dc95a8351d50ca5",
            "_dom_classes": [],
            "description": "",
            "_model_name": "HTMLModel",
            "placeholder": "​",
            "_view_module": "@jupyter-widgets/controls",
            "_model_module_version": "1.5.0",
            "value": "",
            "_view_count": null,
            "_view_module_version": "1.5.0",
            "description_tooltip": null,
            "_model_module": "@jupyter-widgets/controls",
            "layout": "IPY_MODEL_f02f5dd6f7094ee39e3b39632ab6b8fb"
          }
        },
        "c673f89269b54652bb8cc925a69447d0": {
          "model_module": "@jupyter-widgets/controls",
          "model_name": "FloatProgressModel",
          "model_module_version": "1.5.0",
          "state": {
            "_view_name": "ProgressView",
            "style": "IPY_MODEL_af6b7b2d15324be5b2fbe0ea6908f5a9",
            "_dom_classes": [],
            "description": "",
            "_model_name": "FloatProgressModel",
            "bar_style": "success",
            "max": 9464212,
            "_view_module": "@jupyter-widgets/controls",
            "_model_module_version": "1.5.0",
            "value": 9464212,
            "_view_count": null,
            "_view_module_version": "1.5.0",
            "orientation": "horizontal",
            "min": 0,
            "description_tooltip": null,
            "_model_module": "@jupyter-widgets/controls",
            "layout": "IPY_MODEL_79ed5d64e2e548bfb557d5927be474a9"
          }
        },
        "afe7a45e5f624a6cbbe4cdae3f53be32": {
          "model_module": "@jupyter-widgets/controls",
          "model_name": "HTMLModel",
          "model_module_version": "1.5.0",
          "state": {
            "_view_name": "HTMLView",
            "style": "IPY_MODEL_58f3cf14e2e44018a5951a65d3ee91e1",
            "_dom_classes": [],
            "description": "",
            "_model_name": "HTMLModel",
            "placeholder": "​",
            "_view_module": "@jupyter-widgets/controls",
            "_model_module_version": "1.5.0",
            "value": " 9464832/? [00:00&lt;00:00, 16948388.42it/s]",
            "_view_count": null,
            "_view_module_version": "1.5.0",
            "description_tooltip": null,
            "_model_module": "@jupyter-widgets/controls",
            "layout": "IPY_MODEL_f128304713614b7789e78e41c2445a43"
          }
        },
        "7cf675320d48484d9dc95a8351d50ca5": {
          "model_module": "@jupyter-widgets/controls",
          "model_name": "DescriptionStyleModel",
          "model_module_version": "1.5.0",
          "state": {
            "_view_name": "StyleView",
            "_model_name": "DescriptionStyleModel",
            "description_width": "",
            "_view_module": "@jupyter-widgets/base",
            "_model_module_version": "1.5.0",
            "_view_count": null,
            "_view_module_version": "1.2.0",
            "_model_module": "@jupyter-widgets/controls"
          }
        },
        "f02f5dd6f7094ee39e3b39632ab6b8fb": {
          "model_module": "@jupyter-widgets/base",
          "model_name": "LayoutModel",
          "model_module_version": "1.2.0",
          "state": {
            "_view_name": "LayoutView",
            "grid_template_rows": null,
            "right": null,
            "justify_content": null,
            "_view_module": "@jupyter-widgets/base",
            "overflow": null,
            "_model_module_version": "1.2.0",
            "_view_count": null,
            "flex_flow": null,
            "width": null,
            "min_width": null,
            "border": null,
            "align_items": null,
            "bottom": null,
            "_model_module": "@jupyter-widgets/base",
            "top": null,
            "grid_column": null,
            "overflow_y": null,
            "overflow_x": null,
            "grid_auto_flow": null,
            "grid_area": null,
            "grid_template_columns": null,
            "flex": null,
            "_model_name": "LayoutModel",
            "justify_items": null,
            "grid_row": null,
            "max_height": null,
            "align_content": null,
            "visibility": null,
            "align_self": null,
            "height": null,
            "min_height": null,
            "padding": null,
            "grid_auto_rows": null,
            "grid_gap": null,
            "max_width": null,
            "order": null,
            "_view_module_version": "1.2.0",
            "grid_template_areas": null,
            "object_position": null,
            "object_fit": null,
            "grid_auto_columns": null,
            "margin": null,
            "display": null,
            "left": null
          }
        },
        "af6b7b2d15324be5b2fbe0ea6908f5a9": {
          "model_module": "@jupyter-widgets/controls",
          "model_name": "ProgressStyleModel",
          "model_module_version": "1.5.0",
          "state": {
            "_view_name": "StyleView",
            "_model_name": "ProgressStyleModel",
            "description_width": "",
            "_view_module": "@jupyter-widgets/base",
            "_model_module_version": "1.5.0",
            "_view_count": null,
            "_view_module_version": "1.2.0",
            "bar_color": null,
            "_model_module": "@jupyter-widgets/controls"
          }
        },
        "79ed5d64e2e548bfb557d5927be474a9": {
          "model_module": "@jupyter-widgets/base",
          "model_name": "LayoutModel",
          "model_module_version": "1.2.0",
          "state": {
            "_view_name": "LayoutView",
            "grid_template_rows": null,
            "right": null,
            "justify_content": null,
            "_view_module": "@jupyter-widgets/base",
            "overflow": null,
            "_model_module_version": "1.2.0",
            "_view_count": null,
            "flex_flow": null,
            "width": null,
            "min_width": null,
            "border": null,
            "align_items": null,
            "bottom": null,
            "_model_module": "@jupyter-widgets/base",
            "top": null,
            "grid_column": null,
            "overflow_y": null,
            "overflow_x": null,
            "grid_auto_flow": null,
            "grid_area": null,
            "grid_template_columns": null,
            "flex": null,
            "_model_name": "LayoutModel",
            "justify_items": null,
            "grid_row": null,
            "max_height": null,
            "align_content": null,
            "visibility": null,
            "align_self": null,
            "height": null,
            "min_height": null,
            "padding": null,
            "grid_auto_rows": null,
            "grid_gap": null,
            "max_width": null,
            "order": null,
            "_view_module_version": "1.2.0",
            "grid_template_areas": null,
            "object_position": null,
            "object_fit": null,
            "grid_auto_columns": null,
            "margin": null,
            "display": null,
            "left": null
          }
        },
        "58f3cf14e2e44018a5951a65d3ee91e1": {
          "model_module": "@jupyter-widgets/controls",
          "model_name": "DescriptionStyleModel",
          "model_module_version": "1.5.0",
          "state": {
            "_view_name": "StyleView",
            "_model_name": "DescriptionStyleModel",
            "description_width": "",
            "_view_module": "@jupyter-widgets/base",
            "_model_module_version": "1.5.0",
            "_view_count": null,
            "_view_module_version": "1.2.0",
            "_model_module": "@jupyter-widgets/controls"
          }
        },
        "f128304713614b7789e78e41c2445a43": {
          "model_module": "@jupyter-widgets/base",
          "model_name": "LayoutModel",
          "model_module_version": "1.2.0",
          "state": {
            "_view_name": "LayoutView",
            "grid_template_rows": null,
            "right": null,
            "justify_content": null,
            "_view_module": "@jupyter-widgets/base",
            "overflow": null,
            "_model_module_version": "1.2.0",
            "_view_count": null,
            "flex_flow": null,
            "width": null,
            "min_width": null,
            "border": null,
            "align_items": null,
            "bottom": null,
            "_model_module": "@jupyter-widgets/base",
            "top": null,
            "grid_column": null,
            "overflow_y": null,
            "overflow_x": null,
            "grid_auto_flow": null,
            "grid_area": null,
            "grid_template_columns": null,
            "flex": null,
            "_model_name": "LayoutModel",
            "justify_items": null,
            "grid_row": null,
            "max_height": null,
            "align_content": null,
            "visibility": null,
            "align_self": null,
            "height": null,
            "min_height": null,
            "padding": null,
            "grid_auto_rows": null,
            "grid_gap": null,
            "max_width": null,
            "order": null,
            "_view_module_version": "1.2.0",
            "grid_template_areas": null,
            "object_position": null,
            "object_fit": null,
            "grid_auto_columns": null,
            "margin": null,
            "display": null,
            "left": null
          }
        },
        "c5781bd3ab7249879b01b488fd3751d9": {
          "model_module": "@jupyter-widgets/controls",
          "model_name": "HBoxModel",
          "model_module_version": "1.5.0",
          "state": {
            "_view_name": "HBoxView",
            "_dom_classes": [],
            "_model_name": "HBoxModel",
            "_view_module": "@jupyter-widgets/controls",
            "_model_module_version": "1.5.0",
            "_view_count": null,
            "_view_module_version": "1.5.0",
            "box_style": "",
            "layout": "IPY_MODEL_8d8906cbfd9d40dc94a4b0500e729dab",
            "_model_module": "@jupyter-widgets/controls",
            "children": [
              "IPY_MODEL_18058b8c44aa4963b0922038ef92aa46",
              "IPY_MODEL_3173d8b3991b4623883c553a9d775d22",
              "IPY_MODEL_cd20d4fcf2884799961e561ac280b8d8"
            ]
          }
        },
        "8d8906cbfd9d40dc94a4b0500e729dab": {
          "model_module": "@jupyter-widgets/base",
          "model_name": "LayoutModel",
          "model_module_version": "1.2.0",
          "state": {
            "_view_name": "LayoutView",
            "grid_template_rows": null,
            "right": null,
            "justify_content": null,
            "_view_module": "@jupyter-widgets/base",
            "overflow": null,
            "_model_module_version": "1.2.0",
            "_view_count": null,
            "flex_flow": null,
            "width": null,
            "min_width": null,
            "border": null,
            "align_items": null,
            "bottom": null,
            "_model_module": "@jupyter-widgets/base",
            "top": null,
            "grid_column": null,
            "overflow_y": null,
            "overflow_x": null,
            "grid_auto_flow": null,
            "grid_area": null,
            "grid_template_columns": null,
            "flex": null,
            "_model_name": "LayoutModel",
            "justify_items": null,
            "grid_row": null,
            "max_height": null,
            "align_content": null,
            "visibility": null,
            "align_self": null,
            "height": null,
            "min_height": null,
            "padding": null,
            "grid_auto_rows": null,
            "grid_gap": null,
            "max_width": null,
            "order": null,
            "_view_module_version": "1.2.0",
            "grid_template_areas": null,
            "object_position": null,
            "object_fit": null,
            "grid_auto_columns": null,
            "margin": null,
            "display": null,
            "left": null
          }
        },
        "18058b8c44aa4963b0922038ef92aa46": {
          "model_module": "@jupyter-widgets/controls",
          "model_name": "HTMLModel",
          "model_module_version": "1.5.0",
          "state": {
            "_view_name": "HTMLView",
            "style": "IPY_MODEL_4571fb1405a6497d8a8ba6de9376538d",
            "_dom_classes": [],
            "description": "",
            "_model_name": "HTMLModel",
            "placeholder": "​",
            "_view_module": "@jupyter-widgets/controls",
            "_model_module_version": "1.5.0",
            "value": "",
            "_view_count": null,
            "_view_module_version": "1.5.0",
            "description_tooltip": null,
            "_model_module": "@jupyter-widgets/controls",
            "layout": "IPY_MODEL_3f4fa0d5112a4eadbc96ea53d8010ba1"
          }
        },
        "3173d8b3991b4623883c553a9d775d22": {
          "model_module": "@jupyter-widgets/controls",
          "model_name": "FloatProgressModel",
          "model_module_version": "1.5.0",
          "state": {
            "_view_name": "ProgressView",
            "style": "IPY_MODEL_d7c7499c9930495681017641f79da66f",
            "_dom_classes": [],
            "description": "",
            "_model_name": "FloatProgressModel",
            "bar_style": "success",
            "max": 6462886,
            "_view_module": "@jupyter-widgets/controls",
            "_model_module_version": "1.5.0",
            "value": 6462886,
            "_view_count": null,
            "_view_module_version": "1.5.0",
            "orientation": "horizontal",
            "min": 0,
            "description_tooltip": null,
            "_model_module": "@jupyter-widgets/controls",
            "layout": "IPY_MODEL_2d279f538da24b65bb3ee673cb846e15"
          }
        },
        "cd20d4fcf2884799961e561ac280b8d8": {
          "model_module": "@jupyter-widgets/controls",
          "model_name": "HTMLModel",
          "model_module_version": "1.5.0",
          "state": {
            "_view_name": "HTMLView",
            "style": "IPY_MODEL_39065ad42c33481c963eb9a86ae298a9",
            "_dom_classes": [],
            "description": "",
            "_model_name": "HTMLModel",
            "placeholder": "​",
            "_view_module": "@jupyter-widgets/controls",
            "_model_module_version": "1.5.0",
            "value": " 6463488/? [00:00&lt;00:00, 10249980.96it/s]",
            "_view_count": null,
            "_view_module_version": "1.5.0",
            "description_tooltip": null,
            "_model_module": "@jupyter-widgets/controls",
            "layout": "IPY_MODEL_7377156d3f474d5980af8656e64516d2"
          }
        },
        "4571fb1405a6497d8a8ba6de9376538d": {
          "model_module": "@jupyter-widgets/controls",
          "model_name": "DescriptionStyleModel",
          "model_module_version": "1.5.0",
          "state": {
            "_view_name": "StyleView",
            "_model_name": "DescriptionStyleModel",
            "description_width": "",
            "_view_module": "@jupyter-widgets/base",
            "_model_module_version": "1.5.0",
            "_view_count": null,
            "_view_module_version": "1.2.0",
            "_model_module": "@jupyter-widgets/controls"
          }
        },
        "3f4fa0d5112a4eadbc96ea53d8010ba1": {
          "model_module": "@jupyter-widgets/base",
          "model_name": "LayoutModel",
          "model_module_version": "1.2.0",
          "state": {
            "_view_name": "LayoutView",
            "grid_template_rows": null,
            "right": null,
            "justify_content": null,
            "_view_module": "@jupyter-widgets/base",
            "overflow": null,
            "_model_module_version": "1.2.0",
            "_view_count": null,
            "flex_flow": null,
            "width": null,
            "min_width": null,
            "border": null,
            "align_items": null,
            "bottom": null,
            "_model_module": "@jupyter-widgets/base",
            "top": null,
            "grid_column": null,
            "overflow_y": null,
            "overflow_x": null,
            "grid_auto_flow": null,
            "grid_area": null,
            "grid_template_columns": null,
            "flex": null,
            "_model_name": "LayoutModel",
            "justify_items": null,
            "grid_row": null,
            "max_height": null,
            "align_content": null,
            "visibility": null,
            "align_self": null,
            "height": null,
            "min_height": null,
            "padding": null,
            "grid_auto_rows": null,
            "grid_gap": null,
            "max_width": null,
            "order": null,
            "_view_module_version": "1.2.0",
            "grid_template_areas": null,
            "object_position": null,
            "object_fit": null,
            "grid_auto_columns": null,
            "margin": null,
            "display": null,
            "left": null
          }
        },
        "d7c7499c9930495681017641f79da66f": {
          "model_module": "@jupyter-widgets/controls",
          "model_name": "ProgressStyleModel",
          "model_module_version": "1.5.0",
          "state": {
            "_view_name": "StyleView",
            "_model_name": "ProgressStyleModel",
            "description_width": "",
            "_view_module": "@jupyter-widgets/base",
            "_model_module_version": "1.5.0",
            "_view_count": null,
            "_view_module_version": "1.2.0",
            "bar_color": null,
            "_model_module": "@jupyter-widgets/controls"
          }
        },
        "2d279f538da24b65bb3ee673cb846e15": {
          "model_module": "@jupyter-widgets/base",
          "model_name": "LayoutModel",
          "model_module_version": "1.2.0",
          "state": {
            "_view_name": "LayoutView",
            "grid_template_rows": null,
            "right": null,
            "justify_content": null,
            "_view_module": "@jupyter-widgets/base",
            "overflow": null,
            "_model_module_version": "1.2.0",
            "_view_count": null,
            "flex_flow": null,
            "width": null,
            "min_width": null,
            "border": null,
            "align_items": null,
            "bottom": null,
            "_model_module": "@jupyter-widgets/base",
            "top": null,
            "grid_column": null,
            "overflow_y": null,
            "overflow_x": null,
            "grid_auto_flow": null,
            "grid_area": null,
            "grid_template_columns": null,
            "flex": null,
            "_model_name": "LayoutModel",
            "justify_items": null,
            "grid_row": null,
            "max_height": null,
            "align_content": null,
            "visibility": null,
            "align_self": null,
            "height": null,
            "min_height": null,
            "padding": null,
            "grid_auto_rows": null,
            "grid_gap": null,
            "max_width": null,
            "order": null,
            "_view_module_version": "1.2.0",
            "grid_template_areas": null,
            "object_position": null,
            "object_fit": null,
            "grid_auto_columns": null,
            "margin": null,
            "display": null,
            "left": null
          }
        },
        "39065ad42c33481c963eb9a86ae298a9": {
          "model_module": "@jupyter-widgets/controls",
          "model_name": "DescriptionStyleModel",
          "model_module_version": "1.5.0",
          "state": {
            "_view_name": "StyleView",
            "_model_name": "DescriptionStyleModel",
            "description_width": "",
            "_view_module": "@jupyter-widgets/base",
            "_model_module_version": "1.5.0",
            "_view_count": null,
            "_view_module_version": "1.2.0",
            "_model_module": "@jupyter-widgets/controls"
          }
        },
        "7377156d3f474d5980af8656e64516d2": {
          "model_module": "@jupyter-widgets/base",
          "model_name": "LayoutModel",
          "model_module_version": "1.2.0",
          "state": {
            "_view_name": "LayoutView",
            "grid_template_rows": null,
            "right": null,
            "justify_content": null,
            "_view_module": "@jupyter-widgets/base",
            "overflow": null,
            "_model_module_version": "1.2.0",
            "_view_count": null,
            "flex_flow": null,
            "width": null,
            "min_width": null,
            "border": null,
            "align_items": null,
            "bottom": null,
            "_model_module": "@jupyter-widgets/base",
            "top": null,
            "grid_column": null,
            "overflow_y": null,
            "overflow_x": null,
            "grid_auto_flow": null,
            "grid_area": null,
            "grid_template_columns": null,
            "flex": null,
            "_model_name": "LayoutModel",
            "justify_items": null,
            "grid_row": null,
            "max_height": null,
            "align_content": null,
            "visibility": null,
            "align_self": null,
            "height": null,
            "min_height": null,
            "padding": null,
            "grid_auto_rows": null,
            "grid_gap": null,
            "max_width": null,
            "order": null,
            "_view_module_version": "1.2.0",
            "grid_template_areas": null,
            "object_position": null,
            "object_fit": null,
            "grid_auto_columns": null,
            "margin": null,
            "display": null,
            "left": null
          }
        }
      }
    }
  },
  "cells": [
    {
      "cell_type": "markdown",
      "metadata": {
        "id": "E_bPihOfS8s-"
      },
      "source": [
        "# **Continual Learning with Avalanche**\n",
        "\n",
        "* CL consists of algorithms that learn about the external world continuously and adaptively through time, enabling the incremental1development of ever more complex skills and knowledge. \n",
        "* Rather than assuming a fixed and representative training set available a priori, as usually done in regularML, CL algorithms deal with a possibly non iid and unlimited stream of data or tasks.\n",
        "* The rationale behind CL is learning efficiently in an online manner and without forgetting previously learned concepts\n",
        "* In this notebook we will summarize the major Avalanche features for continual learning.\n",
        "\n",
        "## **Main reference**\n",
        "* https://medium.com/@NataliaDiazRodr/conceiving-avalanche-a-comprehensive-framework-for-continual-learning-research-d8b6820ab5e0\n",
        "* https://github.com/ContinualAI/avalanche"
      ]
    },
    {
      "cell_type": "markdown",
      "metadata": {
        "id": "r_r9zQHHrUb9"
      },
      "source": [
        "## **Installing Avalanche**"
      ]
    },
    {
      "cell_type": "code",
      "metadata": {
        "colab": {
          "base_uri": "https://localhost:8080/"
        },
        "id": "sqRZbo5KweH3",
        "outputId": "77be6e5d-614e-43e6-f2d9-1ab3c8e7bebf"
      },
      "source": [
        "pip install git+https://github.com/ContinualAI/avalanche.git"
      ],
      "execution_count": null,
      "outputs": [
        {
          "output_type": "stream",
          "name": "stdout",
          "text": [
            "Collecting git+https://github.com/ContinualAI/avalanche.git\n",
            "  Cloning https://github.com/ContinualAI/avalanche.git to /tmp/pip-req-build-85n8g0wu\n",
            "  Running command git clone -q https://github.com/ContinualAI/avalanche.git /tmp/pip-req-build-85n8g0wu\n",
            "  Installing build dependencies ... \u001b[?25l\u001b[?25hdone\n",
            "  Getting requirements to build wheel ... \u001b[?25l\u001b[?25hdone\n",
            "    Preparing wheel metadata ... \u001b[?25l\u001b[?25hdone\n",
            "Collecting wandb\n",
            "  Downloading wandb-0.12.6-py2.py3-none-any.whl (1.7 MB)\n",
            "\u001b[K     |████████████████████████████████| 1.7 MB 5.2 MB/s \n",
            "\u001b[?25hRequirement already satisfied: tensorboard in /usr/local/lib/python3.7/dist-packages (from avalanche-lib==0.0.1) (2.7.0)\n",
            "Requirement already satisfied: tqdm in /usr/local/lib/python3.7/dist-packages (from avalanche-lib==0.0.1) (4.62.3)\n",
            "Requirement already satisfied: pycocotools in /usr/local/lib/python3.7/dist-packages (from avalanche-lib==0.0.1) (2.0.2)\n",
            "Requirement already satisfied: numpy in /usr/local/lib/python3.7/dist-packages (from avalanche-lib==0.0.1) (1.19.5)\n",
            "Requirement already satisfied: torchvision in /usr/local/lib/python3.7/dist-packages (from avalanche-lib==0.0.1) (0.10.0+cu111)\n",
            "Collecting quadprog\n",
            "  Downloading quadprog-0.1.10.tar.gz (121 kB)\n",
            "\u001b[K     |████████████████████████████████| 121 kB 40.8 MB/s \n",
            "\u001b[?25h  Installing build dependencies ... \u001b[?25l\u001b[?25hdone\n",
            "  Getting requirements to build wheel ... \u001b[?25l\u001b[?25hdone\n",
            "    Preparing wheel metadata ... \u001b[?25l\u001b[?25hdone\n",
            "Requirement already satisfied: scikit-learn in /usr/local/lib/python3.7/dist-packages (from avalanche-lib==0.0.1) (0.22.2.post1)\n",
            "Requirement already satisfied: typing-extensions in /usr/local/lib/python3.7/dist-packages (from avalanche-lib==0.0.1) (3.10.0.2)\n",
            "Requirement already satisfied: torch in /usr/local/lib/python3.7/dist-packages (from avalanche-lib==0.0.1) (1.9.0+cu111)\n",
            "Requirement already satisfied: gdown in /usr/local/lib/python3.7/dist-packages (from avalanche-lib==0.0.1) (3.6.4)\n",
            "Collecting gputil\n",
            "  Downloading GPUtil-1.4.0.tar.gz (5.5 kB)\n",
            "Requirement already satisfied: psutil in /usr/local/lib/python3.7/dist-packages (from avalanche-lib==0.0.1) (5.4.8)\n",
            "Collecting pytorchcv\n",
            "  Downloading pytorchcv-0.0.67-py2.py3-none-any.whl (532 kB)\n",
            "\u001b[K     |████████████████████████████████| 532 kB 51.9 MB/s \n",
            "\u001b[?25hRequirement already satisfied: matplotlib in /usr/local/lib/python3.7/dist-packages (from avalanche-lib==0.0.1) (3.2.2)\n",
            "Requirement already satisfied: six in /usr/local/lib/python3.7/dist-packages (from gdown->avalanche-lib==0.0.1) (1.15.0)\n",
            "Requirement already satisfied: requests in /usr/local/lib/python3.7/dist-packages (from gdown->avalanche-lib==0.0.1) (2.23.0)\n",
            "Requirement already satisfied: python-dateutil>=2.1 in /usr/local/lib/python3.7/dist-packages (from matplotlib->avalanche-lib==0.0.1) (2.8.2)\n",
            "Requirement already satisfied: cycler>=0.10 in /usr/local/lib/python3.7/dist-packages (from matplotlib->avalanche-lib==0.0.1) (0.11.0)\n",
            "Requirement already satisfied: pyparsing!=2.0.4,!=2.1.2,!=2.1.6,>=2.0.1 in /usr/local/lib/python3.7/dist-packages (from matplotlib->avalanche-lib==0.0.1) (2.4.7)\n",
            "Requirement already satisfied: kiwisolver>=1.0.1 in /usr/local/lib/python3.7/dist-packages (from matplotlib->avalanche-lib==0.0.1) (1.3.2)\n",
            "Requirement already satisfied: cython>=0.27.3 in /usr/local/lib/python3.7/dist-packages (from pycocotools->avalanche-lib==0.0.1) (0.29.24)\n",
            "Requirement already satisfied: setuptools>=18.0 in /usr/local/lib/python3.7/dist-packages (from pycocotools->avalanche-lib==0.0.1) (57.4.0)\n",
            "Requirement already satisfied: urllib3!=1.25.0,!=1.25.1,<1.26,>=1.21.1 in /usr/local/lib/python3.7/dist-packages (from requests->gdown->avalanche-lib==0.0.1) (1.24.3)\n",
            "Requirement already satisfied: certifi>=2017.4.17 in /usr/local/lib/python3.7/dist-packages (from requests->gdown->avalanche-lib==0.0.1) (2021.10.8)\n",
            "Requirement already satisfied: chardet<4,>=3.0.2 in /usr/local/lib/python3.7/dist-packages (from requests->gdown->avalanche-lib==0.0.1) (3.0.4)\n",
            "Requirement already satisfied: idna<3,>=2.5 in /usr/local/lib/python3.7/dist-packages (from requests->gdown->avalanche-lib==0.0.1) (2.10)\n",
            "Requirement already satisfied: joblib>=0.11 in /usr/local/lib/python3.7/dist-packages (from scikit-learn->avalanche-lib==0.0.1) (1.1.0)\n",
            "Requirement already satisfied: scipy>=0.17.0 in /usr/local/lib/python3.7/dist-packages (from scikit-learn->avalanche-lib==0.0.1) (1.4.1)\n",
            "Requirement already satisfied: google-auth<3,>=1.6.3 in /usr/local/lib/python3.7/dist-packages (from tensorboard->avalanche-lib==0.0.1) (1.35.0)\n",
            "Requirement already satisfied: wheel>=0.26 in /usr/local/lib/python3.7/dist-packages (from tensorboard->avalanche-lib==0.0.1) (0.37.0)\n",
            "Requirement already satisfied: google-auth-oauthlib<0.5,>=0.4.1 in /usr/local/lib/python3.7/dist-packages (from tensorboard->avalanche-lib==0.0.1) (0.4.6)\n",
            "Requirement already satisfied: tensorboard-data-server<0.7.0,>=0.6.0 in /usr/local/lib/python3.7/dist-packages (from tensorboard->avalanche-lib==0.0.1) (0.6.1)\n",
            "Requirement already satisfied: werkzeug>=0.11.15 in /usr/local/lib/python3.7/dist-packages (from tensorboard->avalanche-lib==0.0.1) (1.0.1)\n",
            "Requirement already satisfied: absl-py>=0.4 in /usr/local/lib/python3.7/dist-packages (from tensorboard->avalanche-lib==0.0.1) (0.12.0)\n",
            "Requirement already satisfied: grpcio>=1.24.3 in /usr/local/lib/python3.7/dist-packages (from tensorboard->avalanche-lib==0.0.1) (1.41.1)\n",
            "Requirement already satisfied: protobuf>=3.6.0 in /usr/local/lib/python3.7/dist-packages (from tensorboard->avalanche-lib==0.0.1) (3.17.3)\n",
            "Requirement already satisfied: tensorboard-plugin-wit>=1.6.0 in /usr/local/lib/python3.7/dist-packages (from tensorboard->avalanche-lib==0.0.1) (1.8.0)\n",
            "Requirement already satisfied: markdown>=2.6.8 in /usr/local/lib/python3.7/dist-packages (from tensorboard->avalanche-lib==0.0.1) (3.3.4)\n",
            "Requirement already satisfied: pyasn1-modules>=0.2.1 in /usr/local/lib/python3.7/dist-packages (from google-auth<3,>=1.6.3->tensorboard->avalanche-lib==0.0.1) (0.2.8)\n",
            "Requirement already satisfied: rsa<5,>=3.1.4 in /usr/local/lib/python3.7/dist-packages (from google-auth<3,>=1.6.3->tensorboard->avalanche-lib==0.0.1) (4.7.2)\n",
            "Requirement already satisfied: cachetools<5.0,>=2.0.0 in /usr/local/lib/python3.7/dist-packages (from google-auth<3,>=1.6.3->tensorboard->avalanche-lib==0.0.1) (4.2.4)\n",
            "Requirement already satisfied: requests-oauthlib>=0.7.0 in /usr/local/lib/python3.7/dist-packages (from google-auth-oauthlib<0.5,>=0.4.1->tensorboard->avalanche-lib==0.0.1) (1.3.0)\n",
            "Requirement already satisfied: importlib-metadata in /usr/local/lib/python3.7/dist-packages (from markdown>=2.6.8->tensorboard->avalanche-lib==0.0.1) (4.8.1)\n",
            "Requirement already satisfied: pyasn1<0.5.0,>=0.4.6 in /usr/local/lib/python3.7/dist-packages (from pyasn1-modules>=0.2.1->google-auth<3,>=1.6.3->tensorboard->avalanche-lib==0.0.1) (0.4.8)\n",
            "Requirement already satisfied: oauthlib>=3.0.0 in /usr/local/lib/python3.7/dist-packages (from requests-oauthlib>=0.7.0->google-auth-oauthlib<0.5,>=0.4.1->tensorboard->avalanche-lib==0.0.1) (3.1.1)\n",
            "Requirement already satisfied: zipp>=0.5 in /usr/local/lib/python3.7/dist-packages (from importlib-metadata->markdown>=2.6.8->tensorboard->avalanche-lib==0.0.1) (3.6.0)\n",
            "Requirement already satisfied: pillow>=5.3.0 in /usr/local/lib/python3.7/dist-packages (from torchvision->avalanche-lib==0.0.1) (7.1.2)\n",
            "Collecting docker-pycreds>=0.4.0\n",
            "  Downloading docker_pycreds-0.4.0-py2.py3-none-any.whl (9.0 kB)\n",
            "Collecting pathtools\n",
            "  Downloading pathtools-0.1.2.tar.gz (11 kB)\n",
            "Collecting yaspin>=1.0.0\n",
            "  Downloading yaspin-2.1.0-py3-none-any.whl (18 kB)\n",
            "Requirement already satisfied: Click!=8.0.0,>=7.0 in /usr/local/lib/python3.7/dist-packages (from wandb->avalanche-lib==0.0.1) (7.1.2)\n",
            "Requirement already satisfied: PyYAML in /usr/local/lib/python3.7/dist-packages (from wandb->avalanche-lib==0.0.1) (3.13)\n",
            "Collecting sentry-sdk>=1.0.0\n",
            "  Downloading sentry_sdk-1.4.3-py2.py3-none-any.whl (139 kB)\n",
            "\u001b[K     |████████████████████████████████| 139 kB 66.0 MB/s \n",
            "\u001b[?25hCollecting GitPython>=1.0.0\n",
            "  Downloading GitPython-3.1.24-py3-none-any.whl (180 kB)\n",
            "\u001b[K     |████████████████████████████████| 180 kB 53.8 MB/s \n",
            "\u001b[?25hCollecting configparser>=3.8.1\n",
            "  Downloading configparser-5.1.0-py3-none-any.whl (19 kB)\n",
            "Requirement already satisfied: promise<3,>=2.0 in /usr/local/lib/python3.7/dist-packages (from wandb->avalanche-lib==0.0.1) (2.3)\n",
            "Collecting subprocess32>=3.5.3\n",
            "  Downloading subprocess32-3.5.4.tar.gz (97 kB)\n",
            "\u001b[K     |████████████████████████████████| 97 kB 5.4 MB/s \n",
            "\u001b[?25hCollecting shortuuid>=0.5.0\n",
            "  Downloading shortuuid-1.0.7-py3-none-any.whl (8.6 kB)\n",
            "Collecting gitdb<5,>=4.0.1\n",
            "  Downloading gitdb-4.0.9-py3-none-any.whl (63 kB)\n",
            "\u001b[K     |████████████████████████████████| 63 kB 1.4 MB/s \n",
            "\u001b[?25hCollecting smmap<6,>=3.0.1\n",
            "  Downloading smmap-5.0.0-py3-none-any.whl (24 kB)\n",
            "Requirement already satisfied: termcolor<2.0.0,>=1.1.0 in /usr/local/lib/python3.7/dist-packages (from yaspin>=1.0.0->wandb->avalanche-lib==0.0.1) (1.1.0)\n",
            "Building wheels for collected packages: avalanche-lib, gputil, quadprog, subprocess32, pathtools\n",
            "  Building wheel for avalanche-lib (PEP 517) ... \u001b[?25l\u001b[?25hdone\n",
            "  Created wheel for avalanche-lib: filename=avalanche_lib-0.0.1-py3-none-any.whl size=426447 sha256=d31e3283c8a02bd9510634895ce35550c3dbfea6a12d7bb9d9b42358844fdcfc\n",
            "  Stored in directory: /tmp/pip-ephem-wheel-cache-t3ql7xew/wheels/60/fb/ef/c106a98bc821c758882e32e24bb6b3ed11b691715590a071d1\n",
            "  Building wheel for gputil (setup.py) ... \u001b[?25l\u001b[?25hdone\n",
            "  Created wheel for gputil: filename=GPUtil-1.4.0-py3-none-any.whl size=7411 sha256=0b24d531eb0d8c992af08737f9b37137c870c295fd9ecf8ccc797566aa9b9664\n",
            "  Stored in directory: /root/.cache/pip/wheels/6e/f8/83/534c52482d6da64622ddbf72cd93c35d2ef2881b78fd08ff0c\n",
            "  Building wheel for quadprog (PEP 517) ... \u001b[?25l\u001b[?25hdone\n",
            "  Created wheel for quadprog: filename=quadprog-0.1.10-cp37-cp37m-linux_x86_64.whl size=290739 sha256=3e27b23b5f734f5c92f9be024d3968f979040a4d2c9d8e2d39015491f5e9654b\n",
            "  Stored in directory: /root/.cache/pip/wheels/e9/af/76/c5335ed32afc1284e6100b86588d1f75f5c4906fa26df6efda\n",
            "  Building wheel for subprocess32 (setup.py) ... \u001b[?25l\u001b[?25hdone\n",
            "  Created wheel for subprocess32: filename=subprocess32-3.5.4-py3-none-any.whl size=6502 sha256=a963342108f10bd1e6ae76f7e6b606c4fd85f77efd7943525e0e26f24c025af6\n",
            "  Stored in directory: /root/.cache/pip/wheels/50/ca/fa/8fca8d246e64f19488d07567547ddec8eb084e8c0d7a59226a\n",
            "  Building wheel for pathtools (setup.py) ... \u001b[?25l\u001b[?25hdone\n",
            "  Created wheel for pathtools: filename=pathtools-0.1.2-py3-none-any.whl size=8807 sha256=9ae5e123081376a8f6b2e6b0f71052d946d7d1596ce95fb65d6e21989df6ff56\n",
            "  Stored in directory: /root/.cache/pip/wheels/3e/31/09/fa59cef12cdcfecc627b3d24273699f390e71828921b2cbba2\n",
            "Successfully built avalanche-lib gputil quadprog subprocess32 pathtools\n",
            "Installing collected packages: smmap, gitdb, yaspin, subprocess32, shortuuid, sentry-sdk, pathtools, GitPython, docker-pycreds, configparser, wandb, quadprog, pytorchcv, gputil, avalanche-lib\n",
            "Successfully installed GitPython-3.1.24 avalanche-lib-0.0.1 configparser-5.1.0 docker-pycreds-0.4.0 gitdb-4.0.9 gputil-1.4.0 pathtools-0.1.2 pytorchcv-0.0.67 quadprog-0.1.10 sentry-sdk-1.4.3 shortuuid-1.0.7 smmap-5.0.0 subprocess32-3.5.4 wandb-0.12.6 yaspin-2.1.0\n"
          ]
        }
      ]
    },
    {
      "cell_type": "code",
      "metadata": {
        "colab": {
          "base_uri": "https://localhost:8080/",
          "height": 35
        },
        "id": "QErRXBScwoJc",
        "outputId": "51eeb327-9099-486b-d702-919b4bb02bb8"
      },
      "source": [
        "import avalanche\n",
        "avalanche.__version__"
      ],
      "execution_count": null,
      "outputs": [
        {
          "output_type": "execute_result",
          "data": {
            "application/vnd.google.colaboratory.intrinsic+json": {
              "type": "string"
            },
            "text/plain": [
              "'0.0.1'"
            ]
          },
          "metadata": {},
          "execution_count": 2
        }
      ]
    },
    {
      "cell_type": "code",
      "metadata": {
        "id": "fjjIyUGLwA47"
      },
      "source": [
        "from __future__ import absolute_import\n",
        "from __future__ import division\n",
        "from __future__ import print_function"
      ],
      "execution_count": null,
      "outputs": []
    },
    {
      "cell_type": "code",
      "metadata": {
        "id": "F9KK4Bv6wE0o"
      },
      "source": [
        "import torch\n",
        "import argparse\n",
        "from torch.nn import CrossEntropyLoss\n",
        "from torch.optim import SGD"
      ],
      "execution_count": null,
      "outputs": []
    },
    {
      "cell_type": "code",
      "metadata": {
        "id": "8Psjz1hm0Nz2"
      },
      "source": [
        "from avalanche.benchmarks.classic import PermutedOmniglot, RotatedOmniglot, \\\n",
        "    SplitOmniglot\n",
        "from avalanche.models import SimpleMLP\n",
        "from avalanche.training.strategies import Naive"
      ],
      "execution_count": null,
      "outputs": []
    },
    {
      "cell_type": "code",
      "metadata": {
        "id": "KeAakgJEwqOf"
      },
      "source": [
        "device = torch.device(f\"cuda:{args.cuda}\"\n",
        "                          if torch.cuda.is_available() and\n",
        "                          args.cuda >= 0 else \"cpu\")"
      ],
      "execution_count": null,
      "outputs": []
    },
    {
      "cell_type": "markdown",
      "metadata": {
        "id": "8w6ZKw_krZqk"
      },
      "source": [
        "## **Using Simple MLP as defined in the avalanche framework**"
      ]
    },
    {
      "cell_type": "code",
      "metadata": {
        "id": "vDbtx5jnwuWC"
      },
      "source": [
        "# model\n",
        "model = SimpleMLP(num_classes=964)"
      ],
      "execution_count": null,
      "outputs": []
    },
    {
      "cell_type": "code",
      "metadata": {
        "id": "m2logcFuVXG7"
      },
      "source": [
        "parser = argparse.ArgumentParser()"
      ],
      "execution_count": null,
      "outputs": []
    },
    {
      "cell_type": "code",
      "metadata": {
        "colab": {
          "base_uri": "https://localhost:8080/"
        },
        "id": "M9cKsO5EVYro",
        "outputId": "e1e13375-58a5-4cf9-f022-d5c1bc34cd87"
      },
      "source": [
        "parser.add_argument('--mnist_type', type=str, default='split',\n",
        "                        choices=['rotated', 'permuted', 'split'],\n",
        "                        help='Choose between MNIST variations: '\n",
        "                             'rotated, permuted or split.')"
      ],
      "execution_count": null,
      "outputs": [
        {
          "output_type": "execute_result",
          "data": {
            "text/plain": [
              "_StoreAction(option_strings=['--mnist_type'], dest='mnist_type', nargs=None, const=None, default='split', type=<class 'str'>, choices=['rotated', 'permuted', 'split'], help='Choose between MNIST variations: rotated, permuted or split.', metavar=None)"
            ]
          },
          "metadata": {},
          "execution_count": 14
        }
      ]
    },
    {
      "cell_type": "code",
      "metadata": {
        "colab": {
          "base_uri": "https://localhost:8080/"
        },
        "id": "F_yrzyF3Vhtt",
        "outputId": "1ee1640c-4a4a-4e22-c9ba-58e75c9fbab1"
      },
      "source": [
        "parser.add_argument('--cuda', type=int, default=0,\n",
        "                        help='Select zero-indexed cuda device. -1 to use CPU.')"
      ],
      "execution_count": null,
      "outputs": [
        {
          "output_type": "execute_result",
          "data": {
            "text/plain": [
              "_StoreAction(option_strings=['--cuda'], dest='cuda', nargs=None, const=None, default=0, type=<class 'int'>, choices=None, help='Select zero-indexed cuda device. -1 to use CPU.', metavar=None)"
            ]
          },
          "metadata": {},
          "execution_count": 10
        }
      ]
    },
    {
      "cell_type": "code",
      "metadata": {
        "id": "Tb6v1I16VkrX"
      },
      "source": [
        "args, unknown = parser.parse_known_args()"
      ],
      "execution_count": null,
      "outputs": []
    },
    {
      "cell_type": "markdown",
      "metadata": {
        "id": "wecS2wJBrjmA"
      },
      "source": [
        "## **Downloading the omniglot dataset**"
      ]
    },
    {
      "cell_type": "code",
      "metadata": {
        "colab": {
          "base_uri": "https://localhost:8080/",
          "height": 168,
          "referenced_widgets": [
            "77e1ce76a9134149b8729c6803b076b1",
            "e1ed75d8b7ea49bda59a120e947b603e",
            "bfd27a43f2604e9badbeede3312b2514",
            "c673f89269b54652bb8cc925a69447d0",
            "afe7a45e5f624a6cbbe4cdae3f53be32",
            "7cf675320d48484d9dc95a8351d50ca5",
            "f02f5dd6f7094ee39e3b39632ab6b8fb",
            "af6b7b2d15324be5b2fbe0ea6908f5a9",
            "79ed5d64e2e548bfb557d5927be474a9",
            "58f3cf14e2e44018a5951a65d3ee91e1",
            "f128304713614b7789e78e41c2445a43",
            "c5781bd3ab7249879b01b488fd3751d9",
            "8d8906cbfd9d40dc94a4b0500e729dab",
            "18058b8c44aa4963b0922038ef92aa46",
            "3173d8b3991b4623883c553a9d775d22",
            "cd20d4fcf2884799961e561ac280b8d8",
            "4571fb1405a6497d8a8ba6de9376538d",
            "3f4fa0d5112a4eadbc96ea53d8010ba1",
            "d7c7499c9930495681017641f79da66f",
            "2d279f538da24b65bb3ee673cb846e15",
            "39065ad42c33481c963eb9a86ae298a9",
            "7377156d3f474d5980af8656e64516d2"
          ]
        },
        "id": "_tnI30lRwwU7",
        "outputId": "e17b3a03-afd1-4cae-fc6a-1e7b3d6b27e5"
      },
      "source": [
        "scenario = PermutedOmniglot(n_experiences=4, seed=1)"
      ],
      "execution_count": null,
      "outputs": [
        {
          "output_type": "stream",
          "name": "stdout",
          "text": [
            "Downloading https://raw.githubusercontent.com/brendenlake/omniglot/master/python/images_background.zip to /root/.avalanche/data/omniglot/omniglot-py/omniglot-py/images_background.zip\n"
          ]
        },
        {
          "output_type": "display_data",
          "data": {
            "application/vnd.jupyter.widget-view+json": {
              "model_id": "77e1ce76a9134149b8729c6803b076b1",
              "version_minor": 0,
              "version_major": 2
            },
            "text/plain": [
              "  0%|          | 0/9464212 [00:00<?, ?it/s]"
            ]
          },
          "metadata": {}
        },
        {
          "output_type": "stream",
          "name": "stdout",
          "text": [
            "Extracting /root/.avalanche/data/omniglot/omniglot-py/omniglot-py/images_background.zip to /root/.avalanche/data/omniglot/omniglot-py/omniglot-py\n",
            "Downloading https://raw.githubusercontent.com/brendenlake/omniglot/master/python/images_evaluation.zip to /root/.avalanche/data/omniglot/omniglot-py/omniglot-py/images_evaluation.zip\n"
          ]
        },
        {
          "output_type": "display_data",
          "data": {
            "application/vnd.jupyter.widget-view+json": {
              "model_id": "c5781bd3ab7249879b01b488fd3751d9",
              "version_minor": 0,
              "version_major": 2
            },
            "text/plain": [
              "  0%|          | 0/6462886 [00:00<?, ?it/s]"
            ]
          },
          "metadata": {}
        },
        {
          "output_type": "stream",
          "name": "stdout",
          "text": [
            "Extracting /root/.avalanche/data/omniglot/omniglot-py/omniglot-py/images_evaluation.zip to /root/.avalanche/data/omniglot/omniglot-py/omniglot-py\n"
          ]
        }
      ]
    },
    {
      "cell_type": "code",
      "metadata": {
        "id": "LmbYPTodwyHZ"
      },
      "source": [
        "# Then we can extract the parallel train and test streams\n",
        "train_stream = scenario.train_stream\n",
        "test_stream = scenario.test_stream"
      ],
      "execution_count": null,
      "outputs": []
    },
    {
      "cell_type": "code",
      "metadata": {
        "id": "dkVh11Flw00r"
      },
      "source": [
        "# Prepare for training & testing\n",
        "optimizer = SGD(model.parameters(), lr=0.001, momentum=0.9)\n",
        "criterion = CrossEntropyLoss()"
      ],
      "execution_count": null,
      "outputs": []
    },
    {
      "cell_type": "code",
      "metadata": {
        "id": "bhiWblgow2i3"
      },
      "source": [
        "# Continual learning strategy with default logger\n",
        "cl_strategy = Naive(model, optimizer, criterion, train_mb_size=32, train_epochs=2,\n",
        "        eval_mb_size=32, device=device)"
      ],
      "execution_count": null,
      "outputs": []
    },
    {
      "cell_type": "markdown",
      "metadata": {
        "id": "R96wo8LHr65b"
      },
      "source": [
        "### **Split omniglot dataset**"
      ]
    },
    {
      "cell_type": "code",
      "metadata": {
        "colab": {
          "base_uri": "https://localhost:8080/"
        },
        "id": "MX7pZlbfiIlc",
        "outputId": "d3afeeca-cf36-4597-ce23-66bcf79cc894"
      },
      "source": [
        "from avalanche.benchmarks.classic import SplitOmniglot\n",
        "scenario = SplitOmniglot(n_experiences=4, seed=1)\n",
        "print(\"Starting experiment...\")\n",
        "results = []\n",
        "for experience in scenario.test_stream:\n",
        "  print(\"Start of experience: \", experience.current_experience)\n",
        "  print(\"Current classes: \", experience.classes_in_this_experience)\n",
        "\n",
        "  train_res = cl_strategy.train(experience)\n",
        "  print(\"Training completed\")\n",
        "\n",
        "  print(\"Computing accuracy on the whole test set\")\n",
        "  results.append(cl_strategy.eval(scenario.test_stream))"
      ],
      "execution_count": null,
      "outputs": [
        {
          "output_type": "stream",
          "name": "stdout",
          "text": [
            "Starting experiment...\n",
            "Start of experience:  0\n",
            "Current classes:  [5, 6]\n",
            "-- >> Start of training phase << --\n",
            "-- Starting training on experience 0 (Task 0) from test stream --\n",
            "100%|██████████| 58/58 [02:16<00:00,  2.35s/it]\n",
            "Epoch 0 ended.\n",
            "\tLoss_Epoch/train_phase/test_stream/Task000 = 2.0732\n",
            "\tTop1_Acc_Epoch/train_phase/test_stream/Task000 = 0.7405\n",
            "100%|██████████| 58/58 [00:01<00:00, 44.12it/s]\n",
            "Epoch 1 ended.\n",
            "\tLoss_Epoch/train_phase/test_stream/Task000 = 0.1081\n",
            "\tTop1_Acc_Epoch/train_phase/test_stream/Task000 = 0.9616\n",
            "-- >> End of training phase << --\n",
            "Training completed\n",
            "Computing accuracy on the whole test set\n",
            "-- >> Start of eval phase << --\n",
            "-- Starting eval on experience 0 (Task 0) from test stream --\n",
            "100%|██████████| 58/58 [00:00<00:00, 60.11it/s]\n",
            "> Eval on experience 0 (Task 0) from test stream ended.\n",
            "\tLoss_Exp/eval_phase/test_stream/Task000/Exp000 = 0.0694\n",
            "\tTop1_Acc_Exp/eval_phase/test_stream/Task000/Exp000 = 0.9768\n",
            "-- Starting eval on experience 1 (Task 0) from test stream --\n",
            "100%|██████████| 68/68 [00:01<00:00, 63.62it/s]\n",
            "> Eval on experience 1 (Task 0) from test stream ended.\n",
            "\tLoss_Exp/eval_phase/test_stream/Task000/Exp001 = 6.6860\n",
            "\tTop1_Acc_Exp/eval_phase/test_stream/Task000/Exp001 = 0.0000\n",
            "-- Starting eval on experience 2 (Task 0) from test stream --\n",
            "100%|██████████| 62/62 [00:00<00:00, 63.59it/s]\n",
            "> Eval on experience 2 (Task 0) from test stream ended.\n",
            "\tLoss_Exp/eval_phase/test_stream/Task000/Exp002 = 10.6585\n",
            "\tTop1_Acc_Exp/eval_phase/test_stream/Task000/Exp002 = 0.0000\n",
            "-- Starting eval on experience 3 (Task 0) from test stream --\n",
            "100%|██████████| 64/64 [00:01<00:00, 62.67it/s]\n",
            "> Eval on experience 3 (Task 0) from test stream ended.\n",
            "\tLoss_Exp/eval_phase/test_stream/Task000/Exp003 = 11.2601\n",
            "\tTop1_Acc_Exp/eval_phase/test_stream/Task000/Exp003 = 0.0000\n",
            "-- Starting eval on experience 4 (Task 0) from test stream --\n",
            "100%|██████████| 63/63 [00:01<00:00, 60.75it/s]\n",
            "> Eval on experience 4 (Task 0) from test stream ended.\n",
            "\tLoss_Exp/eval_phase/test_stream/Task000/Exp004 = 8.2990\n",
            "\tTop1_Acc_Exp/eval_phase/test_stream/Task000/Exp004 = 0.0000\n",
            "-- >> End of eval phase << --\n",
            "\tLoss_Stream/eval_phase/test_stream/Task000 = 7.4859\n",
            "\tTop1_Acc_Stream/eval_phase/test_stream/Task000 = 0.1807\n",
            "Start of experience:  1\n",
            "Current classes:  [1, 2]\n",
            "-- >> Start of training phase << --\n",
            "-- Starting training on experience 1 (Task 0) from test stream --\n",
            "100%|██████████| 68/68 [00:01<00:00, 45.13it/s]\n",
            "Epoch 0 ended.\n",
            "\tLoss_Epoch/train_phase/test_stream/Task000 = 0.9493\n",
            "\tTop1_Acc_Epoch/train_phase/test_stream/Task000 = 0.8265\n",
            "100%|██████████| 68/68 [00:01<00:00, 44.23it/s]\n",
            "Epoch 1 ended.\n",
            "\tLoss_Epoch/train_phase/test_stream/Task000 = 0.0554\n",
            "\tTop1_Acc_Epoch/train_phase/test_stream/Task000 = 0.9820\n",
            "-- >> End of training phase << --\n",
            "Training completed\n",
            "Computing accuracy on the whole test set\n",
            "-- >> Start of eval phase << --\n",
            "-- Starting eval on experience 0 (Task 0) from test stream --\n",
            "100%|██████████| 58/58 [00:00<00:00, 62.29it/s]\n",
            "> Eval on experience 0 (Task 0) from test stream ended.\n",
            "\tLoss_Exp/eval_phase/test_stream/Task000/Exp000 = 5.7182\n",
            "\tTop1_Acc_Exp/eval_phase/test_stream/Task000/Exp000 = 0.1292\n",
            "-- Starting eval on experience 1 (Task 0) from test stream --\n",
            "100%|██████████| 68/68 [00:01<00:00, 63.02it/s]\n",
            "> Eval on experience 1 (Task 0) from test stream ended.\n",
            "\tLoss_Exp/eval_phase/test_stream/Task000/Exp001 = 0.0385\n",
            "\tTop1_Acc_Exp/eval_phase/test_stream/Task000/Exp001 = 0.9908\n",
            "-- Starting eval on experience 2 (Task 0) from test stream --\n",
            "100%|██████████| 62/62 [00:00<00:00, 62.99it/s]\n",
            "> Eval on experience 2 (Task 0) from test stream ended.\n",
            "\tLoss_Exp/eval_phase/test_stream/Task000/Exp002 = 6.7696\n",
            "\tTop1_Acc_Exp/eval_phase/test_stream/Task000/Exp002 = 0.0005\n",
            "-- Starting eval on experience 3 (Task 0) from test stream --\n",
            "100%|██████████| 64/64 [00:01<00:00, 62.25it/s]\n",
            "> Eval on experience 3 (Task 0) from test stream ended.\n",
            "\tLoss_Exp/eval_phase/test_stream/Task000/Exp003 = 8.4920\n",
            "\tTop1_Acc_Exp/eval_phase/test_stream/Task000/Exp003 = 0.0000\n",
            "-- Starting eval on experience 4 (Task 0) from test stream --\n",
            "100%|██████████| 63/63 [00:01<00:00, 61.01it/s]\n",
            "> Eval on experience 4 (Task 0) from test stream ended.\n",
            "\tLoss_Exp/eval_phase/test_stream/Task000/Exp004 = 6.8228\n",
            "\tTop1_Acc_Exp/eval_phase/test_stream/Task000/Exp004 = 0.0075\n",
            "-- >> End of eval phase << --\n",
            "\tLoss_Stream/eval_phase/test_stream/Task000 = 5.4749\n",
            "\tTop1_Acc_Stream/eval_phase/test_stream/Task000 = 0.2402\n",
            "Start of experience:  2\n",
            "Current classes:  [0, 8]\n",
            "-- >> Start of training phase << --\n",
            "-- Starting training on experience 2 (Task 0) from test stream --\n",
            "100%|██████████| 62/62 [00:01<00:00, 44.93it/s]\n",
            "Epoch 0 ended.\n",
            "\tLoss_Epoch/train_phase/test_stream/Task000 = 0.8801\n",
            "\tTop1_Acc_Epoch/train_phase/test_stream/Task000 = 0.8060\n",
            "100%|██████████| 62/62 [00:01<00:00, 43.99it/s]\n",
            "Epoch 1 ended.\n",
            "\tLoss_Epoch/train_phase/test_stream/Task000 = 0.0527\n",
            "\tTop1_Acc_Epoch/train_phase/test_stream/Task000 = 0.9836\n",
            "-- >> End of training phase << --\n",
            "Training completed\n",
            "Computing accuracy on the whole test set\n",
            "-- >> Start of eval phase << --\n",
            "-- Starting eval on experience 0 (Task 0) from test stream --\n",
            "100%|██████████| 58/58 [00:00<00:00, 61.49it/s]\n",
            "> Eval on experience 0 (Task 0) from test stream ended.\n",
            "\tLoss_Exp/eval_phase/test_stream/Task000/Exp000 = 6.4316\n",
            "\tTop1_Acc_Exp/eval_phase/test_stream/Task000/Exp000 = 0.0005\n",
            "-- Starting eval on experience 1 (Task 0) from test stream --\n",
            "100%|██████████| 68/68 [00:01<00:00, 63.45it/s]\n",
            "> Eval on experience 1 (Task 0) from test stream ended.\n",
            "\tLoss_Exp/eval_phase/test_stream/Task000/Exp001 = 6.2154\n",
            "\tTop1_Acc_Exp/eval_phase/test_stream/Task000/Exp001 = 0.0000\n",
            "-- Starting eval on experience 2 (Task 0) from test stream --\n",
            "100%|██████████| 62/62 [00:01<00:00, 60.60it/s]\n",
            "> Eval on experience 2 (Task 0) from test stream ended.\n",
            "\tLoss_Exp/eval_phase/test_stream/Task000/Exp002 = 0.0385\n",
            "\tTop1_Acc_Exp/eval_phase/test_stream/Task000/Exp002 = 0.9893\n",
            "-- Starting eval on experience 3 (Task 0) from test stream --\n",
            "100%|██████████| 64/64 [00:01<00:00, 59.78it/s]\n",
            "> Eval on experience 3 (Task 0) from test stream ended.\n",
            "\tLoss_Exp/eval_phase/test_stream/Task000/Exp003 = 9.2772\n",
            "\tTop1_Acc_Exp/eval_phase/test_stream/Task000/Exp003 = 0.0000\n",
            "-- Starting eval on experience 4 (Task 0) from test stream --\n",
            "100%|██████████| 63/63 [00:01<00:00, 60.85it/s]\n",
            "> Eval on experience 4 (Task 0) from test stream ended.\n",
            "\tLoss_Exp/eval_phase/test_stream/Task000/Exp004 = 7.3474\n",
            "\tTop1_Acc_Exp/eval_phase/test_stream/Task000/Exp004 = 0.0129\n",
            "-- >> End of eval phase << --\n",
            "\tLoss_Stream/eval_phase/test_stream/Task000 = 5.8942\n",
            "\tTop1_Acc_Stream/eval_phase/test_stream/Task000 = 0.1960\n",
            "Start of experience:  3\n",
            "Current classes:  [9, 3]\n",
            "-- >> Start of training phase << --\n",
            "-- Starting training on experience 3 (Task 0) from test stream --\n",
            "100%|██████████| 64/64 [00:01<00:00, 43.79it/s]\n",
            "Epoch 0 ended.\n",
            "\tLoss_Epoch/train_phase/test_stream/Task000 = 1.3467\n",
            "\tTop1_Acc_Epoch/train_phase/test_stream/Task000 = 0.7642\n",
            "100%|██████████| 64/64 [00:01<00:00, 44.47it/s]\n",
            "Epoch 1 ended.\n",
            "\tLoss_Epoch/train_phase/test_stream/Task000 = 0.1106\n",
            "\tTop1_Acc_Epoch/train_phase/test_stream/Task000 = 0.9698\n",
            "-- >> End of training phase << --\n",
            "Training completed\n",
            "Computing accuracy on the whole test set\n",
            "-- >> Start of eval phase << --\n",
            "-- Starting eval on experience 0 (Task 0) from test stream --\n",
            "100%|██████████| 58/58 [00:00<00:00, 59.46it/s]\n",
            "> Eval on experience 0 (Task 0) from test stream ended.\n",
            "\tLoss_Exp/eval_phase/test_stream/Task000/Exp000 = 6.8645\n",
            "\tTop1_Acc_Exp/eval_phase/test_stream/Task000/Exp000 = 0.0005\n",
            "-- Starting eval on experience 1 (Task 0) from test stream --\n",
            "100%|██████████| 68/68 [00:01<00:00, 59.67it/s]\n",
            "> Eval on experience 1 (Task 0) from test stream ended.\n",
            "\tLoss_Exp/eval_phase/test_stream/Task000/Exp001 = 5.7204\n",
            "\tTop1_Acc_Exp/eval_phase/test_stream/Task000/Exp001 = 0.0503\n",
            "-- Starting eval on experience 2 (Task 0) from test stream --\n",
            "100%|██████████| 62/62 [00:01<00:00, 61.17it/s]\n",
            "> Eval on experience 2 (Task 0) from test stream ended.\n",
            "\tLoss_Exp/eval_phase/test_stream/Task000/Exp002 = 6.0629\n",
            "\tTop1_Acc_Exp/eval_phase/test_stream/Task000/Exp002 = 0.1633\n",
            "-- Starting eval on experience 3 (Task 0) from test stream --\n",
            "100%|██████████| 64/64 [00:01<00:00, 60.58it/s]\n",
            "> Eval on experience 3 (Task 0) from test stream ended.\n",
            "\tLoss_Exp/eval_phase/test_stream/Task000/Exp003 = 0.0841\n",
            "\tTop1_Acc_Exp/eval_phase/test_stream/Task000/Exp003 = 0.9752\n",
            "-- Starting eval on experience 4 (Task 0) from test stream --\n",
            "100%|██████████| 63/63 [00:01<00:00, 59.85it/s]\n",
            "> Eval on experience 4 (Task 0) from test stream ended.\n",
            "\tLoss_Exp/eval_phase/test_stream/Task000/Exp004 = 8.0595\n",
            "\tTop1_Acc_Exp/eval_phase/test_stream/Task000/Exp004 = 0.0000\n",
            "-- >> End of eval phase << --\n",
            "\tLoss_Stream/eval_phase/test_stream/Task000 = 5.3312\n",
            "\tTop1_Acc_Stream/eval_phase/test_stream/Task000 = 0.2398\n",
            "Start of experience:  4\n",
            "Current classes:  [4, 7]\n",
            "-- >> Start of training phase << --\n",
            "-- Starting training on experience 4 (Task 0) from test stream --\n",
            "100%|██████████| 63/63 [00:01<00:00, 42.75it/s]\n",
            "Epoch 0 ended.\n",
            "\tLoss_Epoch/train_phase/test_stream/Task000 = 0.9018\n",
            "\tTop1_Acc_Epoch/train_phase/test_stream/Task000 = 0.8244\n",
            "100%|██████████| 63/63 [00:01<00:00, 43.11it/s]\n",
            "Epoch 1 ended.\n",
            "\tLoss_Epoch/train_phase/test_stream/Task000 = 0.0761\n",
            "\tTop1_Acc_Epoch/train_phase/test_stream/Task000 = 0.9756\n",
            "-- >> End of training phase << --\n",
            "Training completed\n",
            "Computing accuracy on the whole test set\n",
            "-- >> Start of eval phase << --\n",
            "-- Starting eval on experience 0 (Task 0) from test stream --\n",
            "100%|██████████| 58/58 [00:00<00:00, 58.99it/s]\n",
            "> Eval on experience 0 (Task 0) from test stream ended.\n",
            "\tLoss_Exp/eval_phase/test_stream/Task000/Exp000 = 4.4461\n",
            "\tTop1_Acc_Exp/eval_phase/test_stream/Task000/Exp000 = 0.0081\n",
            "-- Starting eval on experience 1 (Task 0) from test stream --\n",
            "100%|██████████| 68/68 [00:01<00:00, 58.85it/s]\n",
            "> Eval on experience 1 (Task 0) from test stream ended.\n",
            "\tLoss_Exp/eval_phase/test_stream/Task000/Exp001 = 4.0818\n",
            "\tTop1_Acc_Exp/eval_phase/test_stream/Task000/Exp001 = 0.1204\n",
            "-- Starting eval on experience 2 (Task 0) from test stream --\n",
            "100%|██████████| 62/62 [00:01<00:00, 56.27it/s]\n",
            "> Eval on experience 2 (Task 0) from test stream ended.\n",
            "\tLoss_Exp/eval_phase/test_stream/Task000/Exp002 = 5.1815\n",
            "\tTop1_Acc_Exp/eval_phase/test_stream/Task000/Exp002 = 0.2436\n",
            "-- Starting eval on experience 3 (Task 0) from test stream --\n",
            "100%|██████████| 64/64 [00:01<00:00, 60.03it/s]\n",
            "> Eval on experience 3 (Task 0) from test stream ended.\n",
            "\tLoss_Exp/eval_phase/test_stream/Task000/Exp003 = 7.2314\n",
            "\tTop1_Acc_Exp/eval_phase/test_stream/Task000/Exp003 = 0.3804\n",
            "-- Starting eval on experience 4 (Task 0) from test stream --\n",
            "100%|██████████| 63/63 [00:01<00:00, 58.92it/s]\n",
            "> Eval on experience 4 (Task 0) from test stream ended.\n",
            "\tLoss_Exp/eval_phase/test_stream/Task000/Exp004 = 0.0450\n",
            "\tTop1_Acc_Exp/eval_phase/test_stream/Task000/Exp004 = 0.9856\n",
            "-- >> End of eval phase << --\n",
            "\tLoss_Stream/eval_phase/test_stream/Task000 = 4.1886\n",
            "\tTop1_Acc_Stream/eval_phase/test_stream/Task000 = 0.3501\n"
          ]
        }
      ]
    },
    {
      "cell_type": "code",
      "metadata": {
        "id": "Lbm5KqmGw4E_"
      },
      "source": [
        "# train and test loop\n",
        "results = []\n",
        "for train_task in train_stream:\n",
        "  print(\"Current Classes: \", train_task.classes_in_this_experience)\n",
        "  cl_strategy.train(train_task)\n",
        "  results.append(cl_strategy.eval(test_stream))"
      ],
      "execution_count": null,
      "outputs": []
    },
    {
      "cell_type": "markdown",
      "metadata": {
        "id": "AIGyZXMfr-tQ"
      },
      "source": [
        "### **Rotated omniglot dataset**"
      ]
    },
    {
      "cell_type": "code",
      "metadata": {
        "colab": {
          "base_uri": "https://localhost:8080/"
        },
        "id": "28nCS7SvqhfJ",
        "outputId": "726c1739-e0c5-4a2b-8dc1-fc004a0de01a"
      },
      "source": [
        "from avalanche.benchmarks.classic import RotatedOmniglot\n",
        "scenario = RotatedOmniglot(n_experiences=5, rotations_list=[30, 60, 90, 120, 150], seed=1)"
      ],
      "execution_count": null,
      "outputs": [
        {
          "output_type": "stream",
          "name": "stdout",
          "text": [
            "Files already downloaded and verified\n",
            "Files already downloaded and verified\n"
          ]
        }
      ]
    },
    {
      "cell_type": "code",
      "metadata": {
        "id": "PBIkNryjp517"
      },
      "source": [
        "# train and test loop\n",
        "results = []\n",
        "for train_task in train_stream:\n",
        "  print(\"Current Classes: \", train_task.classes_in_this_experience)\n",
        "  cl_strategy.train(train_task)\n",
        "  results.append(cl_strategy.eval(test_stream))"
      ],
      "execution_count": null,
      "outputs": []
    },
    {
      "cell_type": "markdown",
      "metadata": {
        "id": "bPCLLEBZsBAg"
      },
      "source": [
        "### **Permuted omniglot dataset**"
      ]
    },
    {
      "cell_type": "code",
      "metadata": {
        "colab": {
          "base_uri": "https://localhost:8080/"
        },
        "id": "KBErZ6pkrOJL",
        "outputId": "4d2f7a9c-6218-4649-8d2f-72bded2f29a6"
      },
      "source": [
        "from avalanche.benchmarks.classic import PermutedOmniglot\n",
        "scenario = PermutedOmniglot(n_experiences=4, seed=1)"
      ],
      "execution_count": null,
      "outputs": [
        {
          "output_type": "stream",
          "name": "stdout",
          "text": [
            "Files already downloaded and verified\n",
            "Files already downloaded and verified\n"
          ]
        }
      ]
    },
    {
      "cell_type": "code",
      "metadata": {
        "id": "Uj55sLU7rQB8"
      },
      "source": [
        "# train and test loop\n",
        "results = []\n",
        "for train_task in train_stream:\n",
        "  print(\"Current Classes: \", train_task.classes_in_this_experience)\n",
        "  cl_strategy.train(train_task)\n",
        "  results.append(cl_strategy.eval(test_stream))"
      ],
      "execution_count": null,
      "outputs": []
    },
    {
      "cell_type": "markdown",
      "metadata": {
        "id": "0yUkfkOEy-Se"
      },
      "source": [
        "## **Testing on MNIST dataset**"
      ]
    },
    {
      "cell_type": "code",
      "metadata": {
        "id": "S1TwNsgJy5qm"
      },
      "source": [
        "# Then we can extract the parallel train and test streams\n",
        "train_stream = scenario.train_stream\n",
        "test_stream = scenario.test_stream"
      ],
      "execution_count": 36,
      "outputs": []
    },
    {
      "cell_type": "code",
      "metadata": {
        "colab": {
          "base_uri": "https://localhost:8080/"
        },
        "id": "kFEbBPbTyZRZ",
        "outputId": "5c74ece6-41ad-4ab2-af47-2e58d0738501"
      },
      "source": [
        "from avalanche.benchmarks.classic import SplitMNIST\n",
        "scenario = SplitMNIST(n_experiences=5, seed=1)\n",
        "# train and test loop\n",
        "results = []\n",
        "for train_task in train_stream:\n",
        "    cl_strategy.train(train_task, num_workers=4)\n",
        "    results.append(cl_strategy.eval(test_stream))"
      ],
      "execution_count": 37,
      "outputs": [
        {
          "output_type": "stream",
          "name": "stdout",
          "text": [
            "-- >> Start of training phase << --\n",
            "-- Starting training on experience 0 (Task 0) from train stream --\n"
          ]
        },
        {
          "output_type": "stream",
          "name": "stderr",
          "text": [
            "/usr/local/lib/python3.7/dist-packages/torch/utils/data/dataloader.py:481: UserWarning: This DataLoader will create 4 worker processes in total. Our suggested max number of worker in current system is 2, which is smaller than what this DataLoader is going to create. Please be aware that excessive worker creation might get DataLoader running slow or even freeze, lower the worker number to avoid potential slowness/freeze if necessary.\n",
            "  cpuset_checked))\n"
          ]
        },
        {
          "output_type": "stream",
          "name": "stdout",
          "text": [
            "100%|██████████| 355/355 [37:09<00:00,  6.28s/it]\n",
            "Epoch 0 ended.\n",
            "\tLoss_Epoch/train_phase/train_stream/Task000 = 0.1945\n",
            "\tTop1_Acc_Epoch/train_phase/train_stream/Task000 = 0.9453\n",
            "100%|██████████| 355/355 [00:07<00:00, 46.23it/s]\n",
            "Epoch 1 ended.\n",
            "\tLoss_Epoch/train_phase/train_stream/Task000 = 0.0615\n",
            "\tTop1_Acc_Epoch/train_phase/train_stream/Task000 = 0.9786\n",
            "-- >> End of training phase << --\n",
            "-- >> Start of eval phase << --\n",
            "-- Starting eval on experience 0 (Task 0) from test stream --\n",
            "100%|██████████| 58/58 [00:00<00:00, 63.65it/s]\n",
            "> Eval on experience 0 (Task 0) from test stream ended.\n",
            "\tLoss_Exp/eval_phase/test_stream/Task000/Exp000 = 0.0477\n",
            "\tTop1_Acc_Exp/eval_phase/test_stream/Task000/Exp000 = 0.9865\n",
            "-- Starting eval on experience 1 (Task 0) from test stream --\n",
            "100%|██████████| 68/68 [00:01<00:00, 63.37it/s]\n",
            "> Eval on experience 1 (Task 0) from test stream ended.\n",
            "\tLoss_Exp/eval_phase/test_stream/Task000/Exp001 = 4.4455\n",
            "\tTop1_Acc_Exp/eval_phase/test_stream/Task000/Exp001 = 0.0272\n",
            "-- Starting eval on experience 2 (Task 0) from test stream --\n",
            "100%|██████████| 62/62 [00:00<00:00, 65.45it/s]\n",
            "> Eval on experience 2 (Task 0) from test stream ended.\n",
            "\tLoss_Exp/eval_phase/test_stream/Task000/Exp002 = 9.1313\n",
            "\tTop1_Acc_Exp/eval_phase/test_stream/Task000/Exp002 = 0.0000\n",
            "-- Starting eval on experience 3 (Task 0) from test stream --\n",
            "100%|██████████| 64/64 [00:01<00:00, 63.77it/s]\n",
            "> Eval on experience 3 (Task 0) from test stream ended.\n",
            "\tLoss_Exp/eval_phase/test_stream/Task000/Exp003 = 12.2354\n",
            "\tTop1_Acc_Exp/eval_phase/test_stream/Task000/Exp003 = 0.0000\n",
            "-- Starting eval on experience 4 (Task 0) from test stream --\n",
            "100%|██████████| 63/63 [00:00<00:00, 63.28it/s]\n",
            "> Eval on experience 4 (Task 0) from test stream ended.\n",
            "\tLoss_Exp/eval_phase/test_stream/Task000/Exp004 = 4.2248\n",
            "\tTop1_Acc_Exp/eval_phase/test_stream/Task000/Exp004 = 0.0866\n",
            "-- >> End of eval phase << --\n",
            "\tLoss_Stream/eval_phase/test_stream/Task000 = 6.0759\n",
            "\tTop1_Acc_Stream/eval_phase/test_stream/Task000 = 0.2058\n",
            "-- >> Start of training phase << --\n",
            "-- Starting training on experience 1 (Task 0) from train stream --\n",
            "100%|██████████| 397/397 [00:08<00:00, 46.18it/s]\n",
            "Epoch 0 ended.\n",
            "\tLoss_Epoch/train_phase/train_stream/Task000 = 0.1507\n",
            "\tTop1_Acc_Epoch/train_phase/train_stream/Task000 = 0.9619\n",
            "100%|██████████| 397/397 [00:08<00:00, 46.03it/s]\n",
            "Epoch 1 ended.\n",
            "\tLoss_Epoch/train_phase/train_stream/Task000 = 0.0373\n",
            "\tTop1_Acc_Epoch/train_phase/train_stream/Task000 = 0.9893\n",
            "-- >> End of training phase << --\n",
            "-- >> Start of eval phase << --\n",
            "-- Starting eval on experience 0 (Task 0) from test stream --\n",
            "100%|██████████| 58/58 [00:00<00:00, 63.92it/s]\n",
            "> Eval on experience 0 (Task 0) from test stream ended.\n",
            "\tLoss_Exp/eval_phase/test_stream/Task000/Exp000 = 5.3202\n",
            "\tTop1_Acc_Exp/eval_phase/test_stream/Task000/Exp000 = 0.2054\n",
            "-- Starting eval on experience 1 (Task 0) from test stream --\n",
            "100%|██████████| 68/68 [00:01<00:00, 63.79it/s]\n",
            "> Eval on experience 1 (Task 0) from test stream ended.\n",
            "\tLoss_Exp/eval_phase/test_stream/Task000/Exp001 = 0.0198\n",
            "\tTop1_Acc_Exp/eval_phase/test_stream/Task000/Exp001 = 0.9945\n",
            "-- Starting eval on experience 2 (Task 0) from test stream --\n",
            "100%|██████████| 62/62 [00:00<00:00, 64.02it/s]\n",
            "> Eval on experience 2 (Task 0) from test stream ended.\n",
            "\tLoss_Exp/eval_phase/test_stream/Task000/Exp002 = 5.7010\n",
            "\tTop1_Acc_Exp/eval_phase/test_stream/Task000/Exp002 = 0.0957\n",
            "-- Starting eval on experience 3 (Task 0) from test stream --\n",
            "100%|██████████| 64/64 [00:01<00:00, 62.38it/s]\n",
            "> Eval on experience 3 (Task 0) from test stream ended.\n",
            "\tLoss_Exp/eval_phase/test_stream/Task000/Exp003 = 8.4004\n",
            "\tTop1_Acc_Exp/eval_phase/test_stream/Task000/Exp003 = 0.0000\n",
            "-- Starting eval on experience 4 (Task 0) from test stream --\n",
            "100%|██████████| 63/63 [00:01<00:00, 60.48it/s]\n",
            "> Eval on experience 4 (Task 0) from test stream ended.\n",
            "\tLoss_Exp/eval_phase/test_stream/Task000/Exp004 = 4.9304\n",
            "\tTop1_Acc_Exp/eval_phase/test_stream/Task000/Exp004 = 0.1657\n",
            "-- >> End of eval phase << --\n",
            "\tLoss_Stream/eval_phase/test_stream/Task000 = 4.7895\n",
            "\tTop1_Acc_Stream/eval_phase/test_stream/Task000 = 0.3055\n",
            "-- >> Start of training phase << --\n",
            "-- Starting training on experience 2 (Task 0) from train stream --\n",
            "100%|██████████| 368/368 [00:08<00:00, 45.42it/s]\n",
            "Epoch 0 ended.\n",
            "\tLoss_Epoch/train_phase/train_stream/Task000 = 0.1907\n",
            "\tTop1_Acc_Epoch/train_phase/train_stream/Task000 = 0.9569\n",
            "100%|██████████| 368/368 [00:08<00:00, 45.40it/s]\n",
            "Epoch 1 ended.\n",
            "\tLoss_Epoch/train_phase/train_stream/Task000 = 0.0333\n",
            "\tTop1_Acc_Epoch/train_phase/train_stream/Task000 = 0.9907\n",
            "-- >> End of training phase << --\n",
            "-- >> Start of eval phase << --\n",
            "-- Starting eval on experience 0 (Task 0) from test stream --\n",
            "100%|██████████| 58/58 [00:00<00:00, 61.50it/s]\n",
            "> Eval on experience 0 (Task 0) from test stream ended.\n",
            "\tLoss_Exp/eval_phase/test_stream/Task000/Exp000 = 6.9743\n",
            "\tTop1_Acc_Exp/eval_phase/test_stream/Task000/Exp000 = 0.0027\n",
            "-- Starting eval on experience 1 (Task 0) from test stream --\n",
            "100%|██████████| 68/68 [00:01<00:00, 59.97it/s]\n",
            "> Eval on experience 1 (Task 0) from test stream ended.\n",
            "\tLoss_Exp/eval_phase/test_stream/Task000/Exp001 = 6.4679\n",
            "\tTop1_Acc_Exp/eval_phase/test_stream/Task000/Exp001 = 0.0005\n",
            "-- Starting eval on experience 2 (Task 0) from test stream --\n",
            "100%|██████████| 62/62 [00:00<00:00, 62.11it/s]\n",
            "> Eval on experience 2 (Task 0) from test stream ended.\n",
            "\tLoss_Exp/eval_phase/test_stream/Task000/Exp002 = 0.0243\n",
            "\tTop1_Acc_Exp/eval_phase/test_stream/Task000/Exp002 = 0.9933\n",
            "-- Starting eval on experience 3 (Task 0) from test stream --\n",
            "100%|██████████| 64/64 [00:01<00:00, 62.41it/s]\n",
            "> Eval on experience 3 (Task 0) from test stream ended.\n",
            "\tLoss_Exp/eval_phase/test_stream/Task000/Exp003 = 8.2930\n",
            "\tTop1_Acc_Exp/eval_phase/test_stream/Task000/Exp003 = 0.0000\n",
            "-- Starting eval on experience 4 (Task 0) from test stream --\n",
            "100%|██████████| 63/63 [00:01<00:00, 61.19it/s]\n",
            "> Eval on experience 4 (Task 0) from test stream ended.\n",
            "\tLoss_Exp/eval_phase/test_stream/Task000/Exp004 = 5.3655\n",
            "\tTop1_Acc_Exp/eval_phase/test_stream/Task000/Exp004 = 0.1413\n",
            "-- >> End of eval phase << --\n",
            "\tLoss_Stream/eval_phase/test_stream/Task000 = 5.4494\n",
            "\tTop1_Acc_Stream/eval_phase/test_stream/Task000 = 0.2231\n",
            "-- >> Start of training phase << --\n",
            "-- Starting training on experience 3 (Task 0) from train stream --\n",
            "100%|██████████| 378/378 [00:08<00:00, 44.94it/s]\n",
            "Epoch 0 ended.\n",
            "\tLoss_Epoch/train_phase/train_stream/Task000 = 0.3055\n",
            "\tTop1_Acc_Epoch/train_phase/train_stream/Task000 = 0.9347\n",
            "100%|██████████| 378/378 [00:08<00:00, 44.95it/s]\n",
            "Epoch 1 ended.\n",
            "\tLoss_Epoch/train_phase/train_stream/Task000 = 0.0637\n",
            "\tTop1_Acc_Epoch/train_phase/train_stream/Task000 = 0.9793\n",
            "-- >> End of training phase << --\n",
            "-- >> Start of eval phase << --\n",
            "-- Starting eval on experience 0 (Task 0) from test stream --\n",
            "100%|██████████| 58/58 [00:00<00:00, 59.05it/s]\n",
            "> Eval on experience 0 (Task 0) from test stream ended.\n",
            "\tLoss_Exp/eval_phase/test_stream/Task000/Exp000 = 8.2466\n",
            "\tTop1_Acc_Exp/eval_phase/test_stream/Task000/Exp000 = 0.0005\n",
            "-- Starting eval on experience 1 (Task 0) from test stream --\n",
            "100%|██████████| 68/68 [00:01<00:00, 59.77it/s]\n",
            "> Eval on experience 1 (Task 0) from test stream ended.\n",
            "\tLoss_Exp/eval_phase/test_stream/Task000/Exp001 = 7.1744\n",
            "\tTop1_Acc_Exp/eval_phase/test_stream/Task000/Exp001 = 0.0000\n",
            "-- Starting eval on experience 2 (Task 0) from test stream --\n",
            "100%|██████████| 62/62 [00:01<00:00, 61.85it/s]\n",
            "> Eval on experience 2 (Task 0) from test stream ended.\n",
            "\tLoss_Exp/eval_phase/test_stream/Task000/Exp002 = 6.8729\n",
            "\tTop1_Acc_Exp/eval_phase/test_stream/Task000/Exp002 = 0.0660\n",
            "-- Starting eval on experience 3 (Task 0) from test stream --\n",
            "100%|██████████| 64/64 [00:01<00:00, 63.49it/s]\n",
            "> Eval on experience 3 (Task 0) from test stream ended.\n",
            "\tLoss_Exp/eval_phase/test_stream/Task000/Exp003 = 0.0415\n",
            "\tTop1_Acc_Exp/eval_phase/test_stream/Task000/Exp003 = 0.9866\n",
            "-- Starting eval on experience 4 (Task 0) from test stream --\n",
            "100%|██████████| 63/63 [00:01<00:00, 60.20it/s]\n",
            "> Eval on experience 4 (Task 0) from test stream ended.\n",
            "\tLoss_Exp/eval_phase/test_stream/Task000/Exp004 = 8.5693\n",
            "\tTop1_Acc_Exp/eval_phase/test_stream/Task000/Exp004 = 0.0000\n",
            "-- >> End of eval phase << --\n",
            "\tLoss_Stream/eval_phase/test_stream/Task000 = 6.1541\n",
            "\tTop1_Acc_Stream/eval_phase/test_stream/Task000 = 0.2122\n",
            "-- >> Start of training phase << --\n",
            "-- Starting training on experience 4 (Task 0) from train stream --\n",
            "100%|██████████| 379/379 [00:08<00:00, 44.62it/s]\n",
            "Epoch 0 ended.\n",
            "\tLoss_Epoch/train_phase/train_stream/Task000 = 0.2047\n",
            "\tTop1_Acc_Epoch/train_phase/train_stream/Task000 = 0.9572\n",
            "100%|██████████| 379/379 [00:08<00:00, 44.46it/s]\n",
            "Epoch 1 ended.\n",
            "\tLoss_Epoch/train_phase/train_stream/Task000 = 0.0472\n",
            "\tTop1_Acc_Epoch/train_phase/train_stream/Task000 = 0.9855\n",
            "-- >> End of training phase << --\n",
            "-- >> Start of eval phase << --\n",
            "-- Starting eval on experience 0 (Task 0) from test stream --\n",
            "100%|██████████| 58/58 [00:00<00:00, 58.01it/s]\n",
            "> Eval on experience 0 (Task 0) from test stream ended.\n",
            "\tLoss_Exp/eval_phase/test_stream/Task000/Exp000 = 4.2243\n",
            "\tTop1_Acc_Exp/eval_phase/test_stream/Task000/Exp000 = 0.0178\n",
            "-- Starting eval on experience 1 (Task 0) from test stream --\n",
            "100%|██████████| 68/68 [00:01<00:00, 58.59it/s]\n",
            "> Eval on experience 1 (Task 0) from test stream ended.\n",
            "\tLoss_Exp/eval_phase/test_stream/Task000/Exp001 = 4.0739\n",
            "\tTop1_Acc_Exp/eval_phase/test_stream/Task000/Exp001 = 0.0148\n",
            "-- Starting eval on experience 2 (Task 0) from test stream --\n",
            "100%|██████████| 62/62 [00:01<00:00, 60.83it/s]\n",
            "> Eval on experience 2 (Task 0) from test stream ended.\n",
            "\tLoss_Exp/eval_phase/test_stream/Task000/Exp002 = 4.9266\n",
            "\tTop1_Acc_Exp/eval_phase/test_stream/Task000/Exp002 = 0.2359\n",
            "-- Starting eval on experience 3 (Task 0) from test stream --\n",
            "100%|██████████| 64/64 [00:01<00:00, 60.73it/s]\n",
            "> Eval on experience 3 (Task 0) from test stream ended.\n",
            "\tLoss_Exp/eval_phase/test_stream/Task000/Exp003 = 6.9036\n",
            "\tTop1_Acc_Exp/eval_phase/test_stream/Task000/Exp003 = 0.3175\n",
            "-- Starting eval on experience 4 (Task 0) from test stream --\n",
            "100%|██████████| 63/63 [00:01<00:00, 59.50it/s]\n",
            "> Eval on experience 4 (Task 0) from test stream ended.\n",
            "\tLoss_Exp/eval_phase/test_stream/Task000/Exp004 = 0.0237\n",
            "\tTop1_Acc_Exp/eval_phase/test_stream/Task000/Exp004 = 0.9920\n",
            "-- >> End of eval phase << --\n",
            "\tLoss_Stream/eval_phase/test_stream/Task000 = 4.0256\n",
            "\tTop1_Acc_Stream/eval_phase/test_stream/Task000 = 0.3161\n"
          ]
        }
      ]
    }
  ]
}