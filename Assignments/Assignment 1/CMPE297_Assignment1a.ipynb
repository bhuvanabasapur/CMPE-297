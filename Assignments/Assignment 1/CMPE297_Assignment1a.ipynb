{
  "nbformat": 4,
  "nbformat_minor": 0,
  "metadata": {
    "accelerator": "GPU",
    "colab": {
      "name": "CMPE297_Assignment1a.ipynb",
      "provenance": [],
      "authorship_tag": "ABX9TyNAOfRe5/y4C2OsYmoEbt71",
      "include_colab_link": true
    },
    "kernelspec": {
      "display_name": "Python 3",
      "name": "python3"
    },
    "language_info": {
      "name": "python"
    }
  },
  "cells": [
    {
      "cell_type": "markdown",
      "metadata": {
        "id": "view-in-github",
        "colab_type": "text"
      },
      "source": [
        "<a href=\"https://colab.research.google.com/github/bhuvanabasapur/CMPE-297/blob/main/Assignments/Assignment%201/CMPE297_Assignment1a.ipynb\" target=\"_parent\"><img src=\"https://colab.research.google.com/assets/colab-badge.svg\" alt=\"Open In Colab\"/></a>"
      ]
    },
    {
      "cell_type": "markdown",
      "metadata": {
        "id": "tbexcxyi5W3-"
      },
      "source": [
        "#SimCLR Implementation in Pytorch"
      ]
    },
    {
      "cell_type": "markdown",
      "metadata": {
        "id": "G9I3pdvgayWp"
      },
      "source": [
        "The 4 components of SimCLR are: \n",
        "\n",
        " 1) **Data Augmentation Module** to transform the dara stochastically to generae two correlated views of the same example. \n",
        "\n",
        "  2) **Base Encoder** for example ResNet-50 will be used to extract representation vectors from the augmented samples (through the final average pooling layer)\n",
        "\n",
        "  3) **Projection Head** or MLP withone hidden layer to map the representations from the base encoder to 128 dimensional latent space where loss is applied and uses Relu activation function\n",
        "\n",
        "  4) **Contrastive Loss function **"
      ]
    },
    {
      "cell_type": "code",
      "metadata": {
        "colab": {
          "base_uri": "https://localhost:8080/"
        },
        "id": "IMg06rF7YRsc",
        "outputId": "ee912bd1-1a51-46bf-ab7c-971358b1c360"
      },
      "source": [
        "!nvidia-smi"
      ],
      "execution_count": 1,
      "outputs": [
        {
          "output_type": "stream",
          "name": "stdout",
          "text": [
            "Wed Sep 29 05:47:40 2021       \n",
            "+-----------------------------------------------------------------------------+\n",
            "| NVIDIA-SMI 470.63.01    Driver Version: 460.32.03    CUDA Version: 11.2     |\n",
            "|-------------------------------+----------------------+----------------------+\n",
            "| GPU  Name        Persistence-M| Bus-Id        Disp.A | Volatile Uncorr. ECC |\n",
            "| Fan  Temp  Perf  Pwr:Usage/Cap|         Memory-Usage | GPU-Util  Compute M. |\n",
            "|                               |                      |               MIG M. |\n",
            "|===============================+======================+======================|\n",
            "|   0  Tesla K80           Off  | 00000000:00:04.0 Off |                    0 |\n",
            "| N/A   72C    P8    36W / 149W |      0MiB / 11441MiB |      0%      Default |\n",
            "|                               |                      |                  N/A |\n",
            "+-------------------------------+----------------------+----------------------+\n",
            "                                                                               \n",
            "+-----------------------------------------------------------------------------+\n",
            "| Processes:                                                                  |\n",
            "|  GPU   GI   CI        PID   Type   Process name                  GPU Memory |\n",
            "|        ID   ID                                                   Usage      |\n",
            "|=============================================================================|\n",
            "|  No running processes found                                                 |\n",
            "+-----------------------------------------------------------------------------+\n"
          ]
        }
      ]
    },
    {
      "cell_type": "code",
      "metadata": {
        "id": "2vzzyXP1-kDg"
      },
      "source": [
        "import numpy as np\n",
        "import torch\n",
        "from torchvision import transforms as T\n",
        "from torchsummary import summary\n",
        "import torch.nn as nn\n",
        "import torch.optim as optim\n",
        "from torch.utils.data import Dataset, DataLoader\n",
        "from torchvision.models import resnet18, resnet50\n",
        "\n",
        "import os\n",
        "from PIL import Image\n",
        "from collections import OrderedDict\n",
        "\n",
        "import random\n",
        "\n",
        "import matplotlib.pyplot as plt\n",
        "from google.colab.patches import cv2_imshow\n",
        "from sklearn.manifold import TSNE\n",
        "import seaborn as sns\n",
        "tsne = TSNE()"
      ],
      "execution_count": 2,
      "outputs": []
    },
    {
      "cell_type": "markdown",
      "metadata": {
        "id": "kt6jPKtR5Uu4"
      },
      "source": [
        "##Obtaining the dataset: \n",
        "Source: https://github.com/thunderInfy/imagenet-5-categories\n",
        "https://github.com/mf1024/ImageNet-Datasets-Downloader "
      ]
    },
    {
      "cell_type": "code",
      "metadata": {
        "colab": {
          "base_uri": "https://localhost:8080/"
        },
        "id": "ibuVgatU5NgW",
        "outputId": "1ed7b84a-1d4e-421e-fdc9-8f4ad78b374b"
      },
      "source": [
        "!git clone https://github.com/thunderInfy/imagenet-5-categories"
      ],
      "execution_count": 3,
      "outputs": [
        {
          "output_type": "stream",
          "name": "stdout",
          "text": [
            "Cloning into 'imagenet-5-categories'...\n",
            "remote: Enumerating objects: 1532, done.\u001b[K\n",
            "remote: Total 1532 (delta 0), reused 0 (delta 0), pack-reused 1532\u001b[K\n",
            "Receiving objects: 100% (1532/1532), 88.56 MiB | 30.48 MiB/s, done.\n",
            "Resolving deltas: 100% (1/1), done.\n"
          ]
        }
      ]
    },
    {
      "cell_type": "markdown",
      "metadata": {
        "id": "70v3NPuUhAbw"
      },
      "source": [
        "### Creating train and test images"
      ]
    },
    {
      "cell_type": "code",
      "metadata": {
        "colab": {
          "base_uri": "https://localhost:8080/"
        },
        "id": "mM-ydEzU-tHk",
        "outputId": "19b286e2-2fcd-4843-b5a6-87ca547ab498"
      },
      "source": [
        "train_directory = sorted(os.listdir('/content/imagenet-5-categories/train'))\n",
        "test_directory = sorted(os.listdir('/content/imagenet-5-categories/test'))\n",
        "random.seed(3)\n",
        "train_files = random.sample(train_directory, len(train_directory))\n",
        "test_files = random.sample(test_directory, len(test_directory))\n",
        "print(f'Train Data size: ', len(train_files))\n",
        "print(f'Test Data Size: ', len(test_files))"
      ],
      "execution_count": 4,
      "outputs": [
        {
          "output_type": "stream",
          "name": "stdout",
          "text": [
            "Train Data size:  1250\n",
            "Test Data Size:  250\n"
          ]
        }
      ]
    },
    {
      "cell_type": "code",
      "metadata": {
        "colab": {
          "base_uri": "https://localhost:8080/"
        },
        "id": "KDDKGq_MOPcY",
        "outputId": "f6d66dab-1079-4a23-bfe1-9f9780676ad7"
      },
      "source": [
        "test_files"
      ],
      "execution_count": 5,
      "outputs": [
        {
          "output_type": "execute_result",
          "data": {
            "text/plain": [
              "['elephant_67028545_4df7a600ce.jpg',\n",
              " 'car_1260288332_8f3ec15630.jpg',\n",
              " 'dog_431241943_809206eedb.jpg',\n",
              " 'airplane_2315183009_7a1a42e53d.jpg',\n",
              " 'dog_355633623_dbace3e0c3.jpg',\n",
              " 'cat_468615076_a2450bf20b.jpg',\n",
              " 'airplane_2576984819_daa8e59e75.jpg',\n",
              " 'dog_437176079_947526e681.jpg',\n",
              " 'dog_1460011399_85bf054ef1.jpg',\n",
              " 'elephant_171242004_b9c098a9a3.jpg',\n",
              " 'airplane_26176200_25bd110677.jpg',\n",
              " 'elephant_541037016_ecfa6df5e5.jpg',\n",
              " 'elephant_529299460_829382d065.jpg',\n",
              " 'elephant_1512248794_a732f0d77c.jpg',\n",
              " 'elephant_2211547306_caca11f275.jpg',\n",
              " 'airplane_108887665_86a1047ae4.jpg',\n",
              " 'car_2431313043_0726effd05.jpg',\n",
              " 'dog_3127747_8b48b6cbb6.jpg',\n",
              " 'airplane_2238500615_0331fa9a26.jpg',\n",
              " 'cat_157662884_8e2d1dd295.jpg',\n",
              " 'car_2405552020_ee3df8170e.jpg',\n",
              " 'cat_310343121_dc734b21fa.jpg',\n",
              " 'cat_2095245869_167f4df935.jpg',\n",
              " 'elephant_290934359_df434fea07.jpg',\n",
              " 'car_2470019607_20dca68cb4.jpg',\n",
              " 'cat_527547399_7f7b3c6157.jpg',\n",
              " 'cat_754108251_f92d09ee98.jpg',\n",
              " 'airplane_2043159074_1b5dabcb37.jpg',\n",
              " 'airplane_525299872_15866f6ee8.jpg',\n",
              " 'car_2222620715_5dcdc8107e.jpg',\n",
              " 'cat_347227923_11052bff23.jpg',\n",
              " 'airplane_508060193_9c49eb2d91.jpg',\n",
              " 'airplane_2885315_db5dd13d26.jpg',\n",
              " 'airplane_356218681_4174483173.jpg',\n",
              " 'dog_406630010_dfdcd4221e.jpg',\n",
              " 'airplane_531326560_e50926d902.jpg',\n",
              " 'dog_312709157_843ad502ca.jpg',\n",
              " 'cat_2156521163_f7d45b6f6e.jpg',\n",
              " 'dog_24892618_e8f5b26ccb.jpg',\n",
              " 'cat_1210503252_5383fe1c12.jpg',\n",
              " 'dog_180300673_180c64d718.jpg',\n",
              " 'airplane_1203776763_cc136816f4.jpg',\n",
              " 'elephant_171263686_1a9a034aa6.jpg',\n",
              " 'cat_1010884970_1aa4af4701.jpg',\n",
              " 'airplane_2043177578_681270a538.jpg',\n",
              " 'airplane_548896275_db0585f740.jpg',\n",
              " 'dog_531463060_2d55403b0d.jpg',\n",
              " 'dog_145824251_7dec967dd3.jpg',\n",
              " 'elephant_485991491_17a7885564.jpg',\n",
              " 'car_2513290185_66c46228bc.jpg',\n",
              " 'airplane_661682258_52d55b9cf5.jpg',\n",
              " 'dog_1890689502_00198c6bd1.jpg',\n",
              " 'airplane_2676695368_9f9b4eae18.jpg',\n",
              " 'airplane_295656508_3672afa948.jpg',\n",
              " 'elephant_212353461_c1f252fdd3.jpg',\n",
              " 'elephant_99995533_59a7784f09.jpg',\n",
              " 'elephant_171252662_0177a9b8c6.jpg',\n",
              " 'cat_502335523_a27cc49840.jpg',\n",
              " 'car_1389914352_58f4d44bd5.jpg',\n",
              " 'car_534980886_bad9a81cc9.jpg',\n",
              " 'airplane_2536232265_b8bfed0ac8.jpg',\n",
              " 'elephant_311928137_0e3b2cadf5.jpg',\n",
              " 'car_90623098_7730e7e18e.jpg',\n",
              " 'elephant_1238594110_02b42477aa.jpg',\n",
              " 'airplane_148113522_3b0c62dcf1.jpg',\n",
              " 'car_2431152745_eecfa49641.jpg',\n",
              " 'airplane_2485485020_55f5f2ab3a.jpg',\n",
              " 'dog_689779238_2972f61170.jpg',\n",
              " 'elephant_641243299_4a58ecf802.jpg',\n",
              " 'dog_65983741_7258b41fd9.jpg',\n",
              " 'car_2483967922_e1c95dd28e.jpg',\n",
              " 'airplane_2670805281_ec2ce38c9f.jpg',\n",
              " 'car_847154336_f782942022.jpg',\n",
              " 'car_2708631349_52689879b0.jpg',\n",
              " 'dog_119613880_4356e931e5.jpg',\n",
              " 'airplane_231269454_708350495a.jpg',\n",
              " 'airplane_995968008_74475dee27.jpg',\n",
              " 'elephant_382853939_24ef96c69e.jpg',\n",
              " 'car_440197400_7ceb205417.jpg',\n",
              " 'elephant_1410735420_63e6f2b22c.jpg',\n",
              " 'cat_255186437_b7c6f78b86.jpg',\n",
              " 'car_2252854848_fe478a2c88.jpg',\n",
              " 'airplane_2165866735_d939404353.jpg',\n",
              " 'elephant_164321329_eecf2ca755.jpg',\n",
              " 'elephant_2191773107_7d1853fcf2.jpg',\n",
              " 'elephant_171268376_90d5ca25e9.jpg',\n",
              " 'dog_411390999_7097d3634b.jpg',\n",
              " 'car_2514077768_74511f44e0.jpg',\n",
              " 'cat_2215772954_e90cf8cd88.jpg',\n",
              " 'airplane_1386344436_12e9f5769b.jpg',\n",
              " 'car_2694724051_6838b26d06.jpg',\n",
              " 'cat_472715185_8308cc5bce.jpg',\n",
              " 'cat_1778591983_01e18958fc.jpg',\n",
              " 'cat_798503612_b64cc21817.jpg',\n",
              " 'cat_1284337059_29aaf74695.jpg',\n",
              " 'elephant_257264886_d95791f5e7.jpg',\n",
              " 'cat_512411718_da2e0a277d.jpg',\n",
              " 'dog_1114867042_00a54edba3.jpg',\n",
              " 'car_2501184817_e83512020b.jpg',\n",
              " 'dog_1412971589_b12e881204.jpg',\n",
              " 'dog_492288911_a3c455f54c.jpg',\n",
              " 'dog_470186220_7595143e12.jpg',\n",
              " 'cat_198519299_10c276b8fa.jpg',\n",
              " 'elephant_32614226_c0d069aff3.jpg',\n",
              " 'elephant_99995471_546ba6222b.jpg',\n",
              " 'dog_366070882_1419a396aa.jpg',\n",
              " 'elephant_113234587_4cfe62c52b.jpg',\n",
              " 'car_2491565093_3315d56e69.jpg',\n",
              " 'airplane_49072253_d7c099be66.jpg',\n",
              " 'car_2549993855_dbe4530875.jpg',\n",
              " 'elephant_2220993619_7bd7814dde.jpg',\n",
              " 'dog_139381434_f44371a96d.jpg',\n",
              " 'dog_410102108_ba3b4ead0a.jpg',\n",
              " 'elephant_1355838972_09ca54a84a.jpg',\n",
              " 'airplane_2073643014_8ecbdbd760.jpg',\n",
              " 'dog_1297270939_c8bf51c1b1.jpg',\n",
              " 'elephant_2141104611_56c21c113f.jpg',\n",
              " 'dog_406808925_239a383ee7.jpg',\n",
              " 'airplane_129260654_805dfe4c52.jpg',\n",
              " 'airplane_432296669_8e70269a64.jpg',\n",
              " 'elephant_518072244_2b96a023a6.jpg',\n",
              " 'cat_126564047_b929724c89.jpg',\n",
              " 'car_447282920_103e199bd8.jpg',\n",
              " 'car_2381133853_baa778028d.jpg',\n",
              " 'car_2697590827_ffed423ebc.jpg',\n",
              " 'cat_807828373_291a605452.jpg',\n",
              " 'airplane_28848637_fb93a8b2d3.jpg',\n",
              " 'airplane_2040809891_f399741467.jpg',\n",
              " 'car_2210892922_900a07f40c.jpg',\n",
              " 'car_2413834942_907709e5ac.jpg',\n",
              " 'elephant_438111209_c4534165e3.jpg',\n",
              " 'car_1576721872_a436b35dce.jpg',\n",
              " 'airplane_468435025_55f4acf9c7.jpg',\n",
              " 'airplane_2247971672_09ee26e459.jpg',\n",
              " 'cat_776126883_5bce88df32.jpg',\n",
              " 'cat_5874225_665db258f6.jpg',\n",
              " 'dog_436013847_c9749a1264.jpg',\n",
              " 'cat_1985731136_84840fcf96.jpg',\n",
              " 'car_2106429850_fb885a1abd.jpg',\n",
              " 'car_2287386733_ae621a7abe.jpg',\n",
              " 'elephant_330285980_d7eeca818d.jpg',\n",
              " 'airplane_66127344_96a3ee7a6e.jpg',\n",
              " 'cat_529305169_90b3031371.jpg',\n",
              " 'cat_439881434_c4d255c21c.jpg',\n",
              " 'cat_1973340147_e454e8f25f.jpg',\n",
              " 'cat_461692455_5ca4596359.jpg',\n",
              " 'cat_352355242352.jpg',\n",
              " 'cat_1972050799_f63e09067f.jpg',\n",
              " 'dog_180300665_18803acdb9.jpg',\n",
              " 'car_2735375964_9226b2ea80.jpg',\n",
              " 'elephant_173044982_fd1a0e389d.jpg',\n",
              " 'dog_142236307_9a364b60b4.jpg',\n",
              " 'elephant_171267834_b13b56a83b.jpg',\n",
              " 'dog_2126832940_9d36698813.jpg',\n",
              " 'cat_964126791_6f40ca5177.jpg',\n",
              " 'airplane_2734097830_603caa0767.jpg',\n",
              " 'airplane_2394014210_0c2679f0b3.jpg',\n",
              " 'airplane_209778573_07a297bc98.jpg',\n",
              " 'car_2492389532_9a2afb453a.jpg',\n",
              " 'elephant_87654345673872.jpg',\n",
              " 'airplane_2558435594_eb496300aa.jpg',\n",
              " 'elephant_543215461_c0496c4ba6.jpg',\n",
              " 'car_2577908327_83be663bce.jpg',\n",
              " 'cat_437815840_ac74ca2be7.jpg',\n",
              " 'car_45260804_1cdb221452.jpg',\n",
              " 'car_1410830620_2efe7370c2.jpg',\n",
              " 'dog_2141649454_4a04307194.jpg',\n",
              " 'car_172748956_13f0ab104f.jpg',\n",
              " 'dog_2039628037_5e273b0c20.jpg',\n",
              " 'car_2252853368_aca02d46ac.jpg',\n",
              " 'cat_54452243_48ce039967.jpg',\n",
              " 'elephant_444085033_c4fe2dc8c4.jpg',\n",
              " 'airplane_2334025078_6c07362507.jpg',\n",
              " 'cat_371068422_47a9b29455.jpg',\n",
              " 'car_2373896064_3acf6117fa.jpg',\n",
              " 'dog_312152610_94f33a8507.jpg',\n",
              " 'dog_426597193_4b2d975bb2.jpg',\n",
              " 'airplane_1584812375_c61879c676.jpg',\n",
              " 'car_1389196489_232f7351b5.jpg',\n",
              " 'dog_440296570_8728a9bfd5.jpg',\n",
              " 'elephant_171247089_59042a2b95.jpg',\n",
              " 'airplane_156117114_a849d1a6b5.jpg',\n",
              " 'airplane_2585674156_18aeb07be7.jpg',\n",
              " 'dog_948952651_ae88267702.jpg',\n",
              " 'dog_257226664_89781f6879.jpg',\n",
              " 'dog_104993381_ab5f7b8090.jpg',\n",
              " 'airplane_1831671971_c9bef61508.jpg',\n",
              " 'car_318219179_be7df590f7.jpg',\n",
              " 'elephant_74313201_05e777ebae.jpg',\n",
              " 'cat_899083296_736d18ae4b.jpg',\n",
              " 'cat_459964307_3cb4821ce9.jpg',\n",
              " 'elephant_273917192_56fc529b5a.jpg',\n",
              " 'car_2648659865_8672193d07.jpg',\n",
              " 'elephant_1608629679_f888063a0f.jpg',\n",
              " 'dog_1083277185_895b3462ac.jpg',\n",
              " 'dog_86291932_58fc26530a.jpg',\n",
              " 'dog_426965780_d9066d8d5e.jpg',\n",
              " 'airplane_2405986584_ef95c7c2fc.jpg',\n",
              " 'elephant_1218753234_017a0cbd49.jpg',\n",
              " 'cat_161285442_8bcc94a3d5.jpg',\n",
              " 'dog_2079401653_7f2c97404e.jpg',\n",
              " 'airplane_1038817887_adf7a57848.jpg',\n",
              " 'dog_312128999_538a288fb5.jpg',\n",
              " 'car_2307489487_1174478b88.jpg',\n",
              " 'dog_1516897105_9551eceb74.jpg',\n",
              " 'dog_426584142_22a2af1a1e.jpg',\n",
              " 'airplane_2455319970_3353b0b541.jpg',\n",
              " 'cat_433442298_f68577ef8b.jpg',\n",
              " 'dog_427063172_521e9f4719.jpg',\n",
              " 'car_2434443162_df523ce0da.jpg',\n",
              " 'cat_2197815717_ebee4547c4.jpg',\n",
              " 'car_2667096806_0d41ea9338.jpg',\n",
              " 'car_2254848065_6c119575bd.jpg',\n",
              " 'elephant_86753692_1770f441d3.jpg',\n",
              " 'dog_142225146_a6fd6f811f.jpg',\n",
              " 'cat_1287089510_f5569fdd22.jpg',\n",
              " 'cat_1737181061_d4391a9627.jpg',\n",
              " 'airplane_1386341970_cb2e833d33.jpg',\n",
              " 'car_2580085600_5e0cd8aba0.jpg',\n",
              " 'cat_516293432_b3624910b4.jpg',\n",
              " 'elephant_1095153437_a6fb001195.jpg',\n",
              " 'elephant_148655933_d5a0429b71.jpg',\n",
              " 'cat_129880737_1b8825c034.jpg',\n",
              " 'airplane_198836419_7715868a15.jpg',\n",
              " 'elephant_171269338_f51fb85aff.jpg',\n",
              " 'airplane_389068663_68b8cef101.jpg',\n",
              " 'car_2428576787_6658c61000.jpg',\n",
              " 'cat_37426080_30edeaf019.jpg',\n",
              " 'car_2715810931_648aa512c2.jpg',\n",
              " 'elephant_325999779_18c27f01ba.jpg',\n",
              " 'dog_178634525_3e34d4e572.jpg',\n",
              " 'car_2615671272_b620115fec.jpg',\n",
              " 'car_1211593365_544882367c.jpg',\n",
              " 'dog_2090987318_31b245a26b.jpg',\n",
              " 'dog_110345287_93f7070cb1.jpg',\n",
              " 'car_2586480449_a32cce2373.jpg',\n",
              " 'elephant_11543351_3c9cca11b0.jpg',\n",
              " 'cat_1484611144_d589752ffe.jpg',\n",
              " 'car_1306938883_43ac47fb70.jpg',\n",
              " 'elephant_1585198585_032c6af030.jpg',\n",
              " 'cat_1484751958_b16fedd4c2.jpg',\n",
              " 'elephant_1393923408_0223746cb5.jpg',\n",
              " 'elephant_511505250_3139785b47.jpg',\n",
              " 'cat_898500300_8cc2a6a0c2.jpg',\n",
              " 'dog_640212967_0d8b02dcdd.jpg',\n",
              " 'cat_461691100_5b9d9b1fea.jpg',\n",
              " 'cat_1224559581_c3c3464cca.jpg',\n",
              " 'cat_135579916_ce5bd90475.jpg',\n",
              " 'airplane_2321651122_6c0f09d96a.jpg',\n",
              " 'elephant_151963164_a4e1d06d1a.jpg']"
            ]
          },
          "metadata": {},
          "execution_count": 5
        }
      ]
    },
    {
      "cell_type": "code",
      "metadata": {
        "colab": {
          "base_uri": "https://localhost:8080/"
        },
        "id": "tAQ3MRMVzwF7",
        "outputId": "f5fe91ef-6f6f-4f3d-afd5-14e4ef17ca41"
      },
      "source": [
        "mapping = {\"cat\": 0, \"dog\": 1, \"elephant\": 2, \"car\": 3, \"airplane\": 4} # mapping for each of the classes based on the filenames\n",
        "train_labels, test_labels = [mapping[x.split(\"_\")[0]]for x in train_files], [mapping[x.split(\"_\")[0]] for x in test_files] \n",
        "print(train_labels)"
      ],
      "execution_count": 6,
      "outputs": [
        {
          "output_type": "stream",
          "name": "stdout",
          "text": [
            "[3, 2, 2, 3, 1, 2, 1, 2, 4, 2, 4, 1, 0, 2, 3, 3, 1, 2, 2, 1, 1, 3, 3, 3, 2, 1, 4, 4, 3, 2, 4, 0, 4, 0, 1, 1, 1, 1, 2, 1, 3, 0, 4, 4, 3, 2, 3, 0, 1, 2, 1, 2, 1, 2, 0, 2, 1, 3, 0, 4, 0, 3, 0, 2, 2, 2, 4, 3, 2, 0, 0, 3, 4, 1, 1, 4, 0, 4, 1, 2, 4, 0, 2, 1, 4, 4, 4, 1, 0, 2, 0, 2, 3, 2, 0, 4, 4, 4, 2, 4, 3, 1, 0, 0, 3, 4, 0, 0, 0, 3, 2, 1, 1, 2, 2, 4, 2, 0, 1, 3, 2, 1, 2, 2, 0, 2, 0, 4, 2, 0, 2, 2, 3, 4, 0, 1, 0, 2, 2, 2, 4, 4, 4, 1, 0, 1, 0, 0, 3, 0, 3, 0, 2, 0, 0, 1, 4, 4, 3, 2, 2, 3, 2, 3, 0, 3, 1, 4, 4, 0, 0, 3, 1, 3, 4, 2, 3, 1, 0, 3, 4, 4, 3, 0, 3, 0, 0, 4, 0, 3, 2, 2, 2, 1, 0, 1, 0, 1, 1, 4, 1, 2, 3, 4, 1, 2, 1, 3, 4, 1, 0, 0, 3, 4, 0, 4, 0, 2, 4, 3, 1, 4, 2, 1, 2, 3, 0, 4, 0, 4, 0, 0, 3, 4, 1, 2, 0, 4, 3, 4, 3, 1, 1, 0, 2, 1, 1, 4, 3, 4, 4, 4, 0, 1, 1, 4, 2, 2, 1, 3, 1, 2, 1, 2, 1, 2, 4, 3, 0, 0, 2, 3, 4, 1, 3, 2, 3, 0, 2, 0, 3, 4, 3, 3, 1, 1, 4, 1, 4, 2, 2, 4, 4, 2, 4, 3, 4, 2, 0, 4, 0, 2, 0, 3, 4, 3, 2, 3, 3, 0, 3, 0, 3, 3, 3, 4, 3, 3, 4, 4, 0, 4, 0, 0, 3, 1, 4, 0, 4, 2, 3, 3, 0, 0, 2, 2, 1, 0, 1, 4, 0, 1, 3, 2, 3, 2, 0, 1, 0, 1, 3, 0, 3, 1, 4, 3, 4, 0, 3, 0, 0, 1, 1, 3, 4, 3, 4, 4, 3, 2, 2, 1, 3, 2, 2, 2, 1, 1, 0, 2, 0, 1, 3, 2, 4, 1, 2, 0, 0, 4, 2, 2, 1, 4, 1, 4, 4, 1, 1, 2, 1, 4, 2, 2, 0, 3, 4, 1, 4, 2, 1, 2, 4, 2, 3, 0, 3, 0, 3, 1, 2, 4, 1, 1, 0, 0, 0, 2, 4, 0, 1, 4, 0, 2, 0, 3, 1, 4, 4, 2, 1, 0, 3, 2, 0, 0, 2, 3, 2, 3, 0, 2, 3, 0, 2, 4, 1, 0, 4, 3, 1, 4, 3, 1, 0, 1, 0, 0, 0, 0, 3, 4, 0, 3, 4, 4, 4, 0, 1, 1, 0, 1, 3, 1, 0, 4, 2, 3, 4, 4, 0, 1, 1, 4, 1, 0, 3, 0, 2, 2, 0, 0, 2, 1, 4, 3, 2, 2, 3, 3, 4, 4, 2, 1, 1, 3, 2, 4, 1, 0, 3, 2, 1, 2, 2, 2, 2, 2, 2, 3, 4, 1, 4, 3, 4, 1, 0, 0, 1, 2, 3, 1, 4, 3, 4, 4, 0, 0, 1, 3, 4, 0, 3, 4, 1, 4, 2, 4, 1, 3, 3, 4, 3, 3, 0, 3, 1, 4, 3, 3, 2, 3, 3, 1, 4, 2, 1, 1, 3, 2, 0, 1, 1, 3, 4, 3, 4, 3, 2, 3, 4, 2, 2, 3, 3, 1, 2, 1, 2, 0, 2, 0, 2, 0, 0, 2, 4, 3, 0, 4, 4, 2, 2, 1, 1, 4, 0, 4, 2, 2, 1, 1, 3, 2, 3, 2, 2, 4, 1, 0, 4, 1, 0, 0, 3, 3, 1, 2, 2, 2, 1, 1, 1, 0, 0, 1, 3, 1, 3, 3, 3, 3, 1, 0, 3, 2, 4, 4, 2, 0, 2, 2, 1, 4, 4, 1, 3, 2, 1, 4, 3, 2, 0, 1, 4, 0, 4, 0, 3, 3, 0, 2, 3, 0, 1, 3, 0, 1, 2, 1, 1, 2, 4, 2, 4, 0, 4, 0, 1, 1, 0, 1, 4, 0, 1, 2, 2, 3, 4, 4, 1, 1, 1, 2, 3, 2, 0, 0, 0, 4, 3, 1, 1, 3, 4, 4, 4, 2, 2, 0, 2, 4, 3, 2, 3, 0, 1, 0, 3, 4, 2, 0, 0, 0, 4, 1, 4, 1, 2, 1, 1, 1, 4, 1, 1, 1, 4, 2, 4, 3, 3, 0, 4, 2, 4, 2, 0, 0, 0, 2, 3, 0, 1, 0, 0, 3, 2, 0, 2, 3, 4, 4, 1, 1, 1, 3, 1, 0, 0, 0, 3, 0, 0, 3, 0, 3, 2, 3, 2, 2, 2, 1, 1, 0, 3, 1, 0, 0, 0, 0, 3, 4, 2, 4, 2, 1, 0, 0, 3, 2, 1, 3, 4, 4, 2, 4, 2, 2, 4, 4, 4, 3, 4, 2, 2, 3, 2, 3, 4, 0, 1, 4, 2, 0, 0, 1, 3, 2, 4, 4, 2, 0, 1, 1, 4, 2, 1, 2, 3, 3, 2, 4, 2, 3, 2, 2, 3, 1, 2, 4, 4, 4, 3, 2, 4, 1, 0, 0, 1, 4, 3, 4, 0, 0, 2, 1, 4, 1, 1, 2, 4, 2, 3, 1, 2, 4, 0, 3, 3, 4, 4, 2, 0, 1, 1, 4, 2, 1, 4, 3, 1, 0, 0, 3, 0, 0, 4, 4, 1, 0, 1, 0, 3, 4, 2, 4, 0, 0, 3, 1, 4, 2, 3, 3, 4, 0, 2, 0, 1, 0, 1, 1, 3, 0, 2, 2, 1, 0, 3, 0, 3, 1, 4, 0, 1, 2, 2, 0, 3, 2, 1, 3, 3, 2, 3, 0, 4, 0, 3, 4, 2, 3, 1, 0, 2, 0, 3, 3, 2, 4, 3, 0, 4, 3, 1, 3, 1, 1, 1, 1, 0, 2, 2, 3, 2, 0, 1, 4, 1, 4, 4, 1, 4, 2, 4, 0, 4, 3, 1, 0, 1, 3, 3, 1, 0, 1, 1, 0, 3, 3, 0, 3, 0, 4, 2, 2, 3, 2, 0, 3, 4, 1, 3, 3, 1, 3, 2, 4, 1, 2, 0, 0, 0, 4, 1, 4, 3, 0, 1, 1, 4, 4, 0, 0, 0, 3, 3, 4, 0, 1, 1, 0, 1, 4, 2, 1, 4, 4, 1, 0, 0, 4, 4, 3, 4, 2, 3, 1, 0, 2, 3, 3, 4, 2, 2, 2, 4, 3, 2, 0, 3, 2, 2, 2, 2, 3, 4, 4, 1, 1, 1, 0, 1, 1, 4, 3, 4, 2, 0, 3, 3, 0, 1, 3, 4, 1, 3, 3, 4, 3, 2, 2, 1, 3, 4, 4, 2, 4, 1, 0, 3, 1, 2, 0, 2, 3, 2, 4, 4, 2, 4, 2, 3, 3, 4, 0, 0, 3, 0, 3, 2, 3, 2, 1, 4, 3, 1, 3, 4, 3, 1, 2, 3, 4, 0, 2, 0, 0, 2, 3, 2, 1, 4, 1, 0, 2, 0, 2, 4, 1, 3, 2, 1, 2, 4, 1, 4, 3, 3, 0, 2, 0, 0, 4, 3, 2, 3, 4, 3, 1, 3, 4, 3, 1, 0, 1, 1, 3, 3, 4, 4, 0, 1, 2, 1, 0, 4, 3, 0, 4, 1, 1, 4, 3, 1, 2, 0, 3, 1, 4, 2, 0, 1, 3, 4, 0, 4, 1, 4, 2, 1, 0, 3, 4, 3, 0, 1, 1, 3, 3]\n"
          ]
        }
      ]
    },
    {
      "cell_type": "code",
      "metadata": {
        "id": "T9KncL1AS57y"
      },
      "source": [
        "#Will use 10% of data to train on linear classifier\n",
        "train_10_percent = random.sample(train_directory, len(train_directory)//10)\n",
        "train_10_percent_labels = [mapping[x.split('_')[0]] for x in train_10_percent]"
      ],
      "execution_count": 7,
      "outputs": []
    },
    {
      "cell_type": "markdown",
      "metadata": {
        "id": "A00x4tUE4xR4"
      },
      "source": [
        "##Data Augmentation Module"
      ]
    },
    {
      "cell_type": "code",
      "metadata": {
        "id": "osTwbGAu4Ggw"
      },
      "source": [
        "class MyDataset(Dataset):\n",
        "    def __init__(self, root_dir, filenames, labels, mutation=False):\n",
        "        self.root_dir = root_dir\n",
        "        self.file_names = filenames\n",
        "        self.labels = labels\n",
        "        self.mutation = mutation\n",
        "\n",
        "    def __len__(self):\n",
        "        return len(self.file_names)\n",
        "\n",
        "    def tensorify(self, img):\n",
        "        res = T.ToTensor()(img)\n",
        "        res = T.Normalize((0.5, 0.5, 0.5), (0.5, 0.5, 0.5))(res)\n",
        "        return res\n",
        "\n",
        "    def mutate_image(self, img):\n",
        "        res = T.RandomResizedCrop(224)(img)\n",
        "        res = get_color_distortion(1)(res)\n",
        "        return res\n",
        "\n",
        "    def __getitem__(self, idx):\n",
        "        if torch.is_tensor(idx):\n",
        "            idx = idx.tolist()\n",
        "\n",
        "        img_name = os.path.join(self.root_dir, self.file_names[idx])\n",
        "        image = Image.open(img_name)\n",
        "        label = self.labels[idx]\n",
        "        image = T.Resize((250, 250))(image)\n",
        "\n",
        "        if self.mutation:\n",
        "            image1 = self.mutate_image(image)\n",
        "            image1 = self.tensorify(image1)\n",
        "            image2 = self.mutate_image(image)\n",
        "            image2 = self.tensorify(image2)\n",
        "            sample = {'image1': image1, 'image2': image2, 'label': label}\n",
        "        else:\n",
        "            image = T.Resize((224, 224))(image)\n",
        "            image = self.tensorify(image)\n",
        "            sample = {'image': image, 'label': label}\n",
        "\n",
        "        return sample"
      ],
      "execution_count": 8,
      "outputs": []
    },
    {
      "cell_type": "code",
      "metadata": {
        "id": "SWSboDQe5EJK"
      },
      "source": [
        "def get_color_distortion(s=1.0):\n",
        "    #s = strength of color distortion\n",
        "    color_jitter = T.ColorJitter(0.8 * s, 0.8 * s, 0.8 * s, 0.2 * s)\n",
        "    rnd_color_jitter = T.RandomApply([color_jitter], p=0.8)\n",
        "    # p is the probability of grey scale\n",
        "    rnd_gray = T.RandomGrayscale(p=0.2)# p is the probability of grayscale, here 0.2\n",
        "    color_distort = T.Compose([rnd_color_jitter, rnd_gray])\n",
        "    \n",
        "    return color_distort"
      ],
      "execution_count": 9,
      "outputs": []
    },
    {
      "cell_type": "markdown",
      "metadata": {
        "id": "uDt1HRa-PRy4"
      },
      "source": [
        "Perform data augmentation on the train and test datasets"
      ]
    },
    {
      "cell_type": "code",
      "metadata": {
        "id": "nZ65S1MvPOqX"
      },
      "source": [
        "#datasets\n",
        "mutated_training_dataset = MyDataset('/content/imagenet-5-categories/train', train_directory, train_labels, mutation=True)\n",
        "training_dataset = MyDataset('/content/imagenet-5-categories/train', train_10_percent, train_10_percent_labels, mutation=False)\n",
        "testing_dataset = MyDataset('/content/imagenet-5-categories/train', test_directory, test_labels, mutation=False)"
      ],
      "execution_count": 10,
      "outputs": []
    },
    {
      "cell_type": "code",
      "metadata": {
        "id": "LxcKiHyUUvG-"
      },
      "source": [
        "#dataloaders\n",
        "dataloader_mutated_training_dataset = DataLoader(mutated_training_dataset, batch_size=125, shuffle=True, num_workers=2)\n",
        "dataloader_training_dataset = DataLoader(training_dataset, shuffle=True, batch_size=125, num_workers=2)\n",
        "dataloader_testing_dataset = DataLoader(testing_dataset, batch_size=125, num_workers=2, shuffle=True)\n",
        "\n"
      ],
      "execution_count": 11,
      "outputs": []
    },
    {
      "cell_type": "markdown",
      "metadata": {
        "id": "vPkpt9rZ-iLt"
      },
      "source": [
        "##Base Encoder Module"
      ]
    },
    {
      "cell_type": "code",
      "metadata": {
        "id": "7g6v_Ggc-nqy"
      },
      "source": [
        "# To extract representation vectors from the augmented samples using Resnet50\n",
        "\n",
        "# defining our deep learning architecture\n",
        "resnet = resnet18(pretrained=False)\n",
        "\n",
        "classifier = nn.Sequential(OrderedDict([\n",
        "    ('fc1', nn.Linear(resnet.fc.in_features, 100)),\n",
        "    ('added_relu1', nn.ReLU(inplace=True)),\n",
        "    ('fc2', nn.Linear(100, 50)),\n",
        "    ('added_relu2', nn.ReLU(inplace=True)),\n",
        "    ('fc3', nn.Linear(50, 25))\n",
        "]))\n",
        "\n",
        "resnet.fc = classifier"
      ],
      "execution_count": 12,
      "outputs": []
    },
    {
      "cell_type": "code",
      "metadata": {
        "colab": {
          "base_uri": "https://localhost:8080/"
        },
        "id": "jJoaqQskVuqI",
        "outputId": "8646b580-464d-428d-b303-39edaa016da9"
      },
      "source": [
        "#move resnet to device\n",
        "device = 'cpu'\n",
        "resnet.to(device)"
      ],
      "execution_count": 13,
      "outputs": [
        {
          "output_type": "execute_result",
          "data": {
            "text/plain": [
              "ResNet(\n",
              "  (conv1): Conv2d(3, 64, kernel_size=(7, 7), stride=(2, 2), padding=(3, 3), bias=False)\n",
              "  (bn1): BatchNorm2d(64, eps=1e-05, momentum=0.1, affine=True, track_running_stats=True)\n",
              "  (relu): ReLU(inplace=True)\n",
              "  (maxpool): MaxPool2d(kernel_size=3, stride=2, padding=1, dilation=1, ceil_mode=False)\n",
              "  (layer1): Sequential(\n",
              "    (0): BasicBlock(\n",
              "      (conv1): Conv2d(64, 64, kernel_size=(3, 3), stride=(1, 1), padding=(1, 1), bias=False)\n",
              "      (bn1): BatchNorm2d(64, eps=1e-05, momentum=0.1, affine=True, track_running_stats=True)\n",
              "      (relu): ReLU(inplace=True)\n",
              "      (conv2): Conv2d(64, 64, kernel_size=(3, 3), stride=(1, 1), padding=(1, 1), bias=False)\n",
              "      (bn2): BatchNorm2d(64, eps=1e-05, momentum=0.1, affine=True, track_running_stats=True)\n",
              "    )\n",
              "    (1): BasicBlock(\n",
              "      (conv1): Conv2d(64, 64, kernel_size=(3, 3), stride=(1, 1), padding=(1, 1), bias=False)\n",
              "      (bn1): BatchNorm2d(64, eps=1e-05, momentum=0.1, affine=True, track_running_stats=True)\n",
              "      (relu): ReLU(inplace=True)\n",
              "      (conv2): Conv2d(64, 64, kernel_size=(3, 3), stride=(1, 1), padding=(1, 1), bias=False)\n",
              "      (bn2): BatchNorm2d(64, eps=1e-05, momentum=0.1, affine=True, track_running_stats=True)\n",
              "    )\n",
              "  )\n",
              "  (layer2): Sequential(\n",
              "    (0): BasicBlock(\n",
              "      (conv1): Conv2d(64, 128, kernel_size=(3, 3), stride=(2, 2), padding=(1, 1), bias=False)\n",
              "      (bn1): BatchNorm2d(128, eps=1e-05, momentum=0.1, affine=True, track_running_stats=True)\n",
              "      (relu): ReLU(inplace=True)\n",
              "      (conv2): Conv2d(128, 128, kernel_size=(3, 3), stride=(1, 1), padding=(1, 1), bias=False)\n",
              "      (bn2): BatchNorm2d(128, eps=1e-05, momentum=0.1, affine=True, track_running_stats=True)\n",
              "      (downsample): Sequential(\n",
              "        (0): Conv2d(64, 128, kernel_size=(1, 1), stride=(2, 2), bias=False)\n",
              "        (1): BatchNorm2d(128, eps=1e-05, momentum=0.1, affine=True, track_running_stats=True)\n",
              "      )\n",
              "    )\n",
              "    (1): BasicBlock(\n",
              "      (conv1): Conv2d(128, 128, kernel_size=(3, 3), stride=(1, 1), padding=(1, 1), bias=False)\n",
              "      (bn1): BatchNorm2d(128, eps=1e-05, momentum=0.1, affine=True, track_running_stats=True)\n",
              "      (relu): ReLU(inplace=True)\n",
              "      (conv2): Conv2d(128, 128, kernel_size=(3, 3), stride=(1, 1), padding=(1, 1), bias=False)\n",
              "      (bn2): BatchNorm2d(128, eps=1e-05, momentum=0.1, affine=True, track_running_stats=True)\n",
              "    )\n",
              "  )\n",
              "  (layer3): Sequential(\n",
              "    (0): BasicBlock(\n",
              "      (conv1): Conv2d(128, 256, kernel_size=(3, 3), stride=(2, 2), padding=(1, 1), bias=False)\n",
              "      (bn1): BatchNorm2d(256, eps=1e-05, momentum=0.1, affine=True, track_running_stats=True)\n",
              "      (relu): ReLU(inplace=True)\n",
              "      (conv2): Conv2d(256, 256, kernel_size=(3, 3), stride=(1, 1), padding=(1, 1), bias=False)\n",
              "      (bn2): BatchNorm2d(256, eps=1e-05, momentum=0.1, affine=True, track_running_stats=True)\n",
              "      (downsample): Sequential(\n",
              "        (0): Conv2d(128, 256, kernel_size=(1, 1), stride=(2, 2), bias=False)\n",
              "        (1): BatchNorm2d(256, eps=1e-05, momentum=0.1, affine=True, track_running_stats=True)\n",
              "      )\n",
              "    )\n",
              "    (1): BasicBlock(\n",
              "      (conv1): Conv2d(256, 256, kernel_size=(3, 3), stride=(1, 1), padding=(1, 1), bias=False)\n",
              "      (bn1): BatchNorm2d(256, eps=1e-05, momentum=0.1, affine=True, track_running_stats=True)\n",
              "      (relu): ReLU(inplace=True)\n",
              "      (conv2): Conv2d(256, 256, kernel_size=(3, 3), stride=(1, 1), padding=(1, 1), bias=False)\n",
              "      (bn2): BatchNorm2d(256, eps=1e-05, momentum=0.1, affine=True, track_running_stats=True)\n",
              "    )\n",
              "  )\n",
              "  (layer4): Sequential(\n",
              "    (0): BasicBlock(\n",
              "      (conv1): Conv2d(256, 512, kernel_size=(3, 3), stride=(2, 2), padding=(1, 1), bias=False)\n",
              "      (bn1): BatchNorm2d(512, eps=1e-05, momentum=0.1, affine=True, track_running_stats=True)\n",
              "      (relu): ReLU(inplace=True)\n",
              "      (conv2): Conv2d(512, 512, kernel_size=(3, 3), stride=(1, 1), padding=(1, 1), bias=False)\n",
              "      (bn2): BatchNorm2d(512, eps=1e-05, momentum=0.1, affine=True, track_running_stats=True)\n",
              "      (downsample): Sequential(\n",
              "        (0): Conv2d(256, 512, kernel_size=(1, 1), stride=(2, 2), bias=False)\n",
              "        (1): BatchNorm2d(512, eps=1e-05, momentum=0.1, affine=True, track_running_stats=True)\n",
              "      )\n",
              "    )\n",
              "    (1): BasicBlock(\n",
              "      (conv1): Conv2d(512, 512, kernel_size=(3, 3), stride=(1, 1), padding=(1, 1), bias=False)\n",
              "      (bn1): BatchNorm2d(512, eps=1e-05, momentum=0.1, affine=True, track_running_stats=True)\n",
              "      (relu): ReLU(inplace=True)\n",
              "      (conv2): Conv2d(512, 512, kernel_size=(3, 3), stride=(1, 1), padding=(1, 1), bias=False)\n",
              "      (bn2): BatchNorm2d(512, eps=1e-05, momentum=0.1, affine=True, track_running_stats=True)\n",
              "    )\n",
              "  )\n",
              "  (avgpool): AdaptiveAvgPool2d(output_size=(1, 1))\n",
              "  (fc): Sequential(\n",
              "    (fc1): Linear(in_features=512, out_features=100, bias=True)\n",
              "    (added_relu1): ReLU(inplace=True)\n",
              "    (fc2): Linear(in_features=100, out_features=50, bias=True)\n",
              "    (added_relu2): ReLU(inplace=True)\n",
              "    (fc3): Linear(in_features=50, out_features=25, bias=True)\n",
              "  )\n",
              ")"
            ]
          },
          "metadata": {},
          "execution_count": 13
        }
      ]
    },
    {
      "cell_type": "markdown",
      "metadata": {
        "id": "ubPk8amL_Q9y"
      },
      "source": [
        "##Loss Function Module\n",
        "NT-Xent Loss function"
      ]
    },
    {
      "cell_type": "code",
      "metadata": {
        "id": "4uLfi1CyCVyO"
      },
      "source": [
        "tau = 0.05\n",
        "\n",
        "def loss_function(a, b):\n",
        "    # a, b are vectors containing N representations of the augmented images\n",
        "    a_norm = torch.norm(a, dim=1).reshape(-1, 1)\n",
        "    a_cap = torch.div(a, a_norm)\n",
        "    b_norm = torch.norm(b, dim=1).reshape(-1, 1)\n",
        "    b_cap = torch.div(b, b_norm)\n",
        "    a_cap_b_cap = torch.cat([a_cap, b_cap], dim=0)\n",
        "    a_cap_b_cap_transpose = torch.t(a_cap_b_cap)\n",
        "    b_cap_a_cap = torch.cat([b_cap, a_cap], dim=0)\n",
        "    sim = torch.mm(a_cap_b_cap, a_cap_b_cap_transpose)\n",
        "    sim_by_tau = torch.div(sim, tau)\n",
        "    exp_sim_by_tau = torch.exp(sim_by_tau)\n",
        "    sum_of_rows = torch.sum(exp_sim_by_tau, dim=1)\n",
        "    exp_sim_by_tau_diag = torch.diag(exp_sim_by_tau)\n",
        "    numerators = torch.exp(torch.div(torch.nn.CosineSimilarity()(a_cap_b_cap, b_cap_a_cap), tau))\n",
        "    denominators = sum_of_rows - exp_sim_by_tau_diag\n",
        "    num_by_den = torch.div(numerators, denominators)\n",
        "    neglog_num_by_den = -torch.log(num_by_den)\n",
        "    return torch.mean(neglog_num_by_den)"
      ],
      "execution_count": 14,
      "outputs": []
    },
    {
      "cell_type": "markdown",
      "metadata": {
        "id": "cyEE-a3kYrZX"
      },
      "source": [
        "##Projection Head Module"
      ]
    },
    {
      "cell_type": "code",
      "metadata": {
        "id": "glUyNJsTCcDe"
      },
      "source": [
        "#setting up the optimizer\n",
        "train_losses = []\n",
        "num_epochs = 10\n",
        "optimizer = optim.SGD(resnet.parameters(), lr=0.001, momentum=0.9)"
      ],
      "execution_count": 15,
      "outputs": []
    },
    {
      "cell_type": "code",
      "metadata": {
        "id": "Mgegd0OXZDok"
      },
      "source": [
        "#directory to store results\n",
        "\n",
        "# create directory to save the training results\n",
        "if not os.path.exists('results'):\n",
        "    os.makedirs('results')"
      ],
      "execution_count": 16,
      "outputs": []
    },
    {
      "cell_type": "code",
      "metadata": {
        "id": "ZnwPfpwjZSkO"
      },
      "source": [
        "# variable to chose to perform training\n",
        "TRAINING = True "
      ],
      "execution_count": 17,
      "outputs": []
    },
    {
      "cell_type": "code",
      "metadata": {
        "id": "dZMjN4kWZhfa"
      },
      "source": [
        "def get_mean_of_list(L):\n",
        "    return sum(L) / len(L)"
      ],
      "execution_count": 18,
      "outputs": []
    },
    {
      "cell_type": "code",
      "metadata": {
        "colab": {
          "base_uri": "https://localhost:8080/"
        },
        "id": "ttSRWXzxPDca",
        "outputId": "996d5c53-f36b-45e8-9036-8d75119b00f3"
      },
      "source": [
        "print(enumerate(dataloader_mutated_training_dataset))"
      ],
      "execution_count": 19,
      "outputs": [
        {
          "output_type": "stream",
          "name": "stdout",
          "text": [
            "<enumerate object at 0x7f2ce2094e60>\n"
          ]
        }
      ]
    },
    {
      "cell_type": "code",
      "metadata": {
        "colab": {
          "base_uri": "https://localhost:8080/"
        },
        "id": "QMEwJwbuZiqU",
        "outputId": "afc21f10-653b-4875-9fa0-a4983f99b8f0"
      },
      "source": [
        "if TRAINING:\n",
        "    # get resnet in train mode\n",
        "    resnet.train()\n",
        "\n",
        "    # run a for loop for num_epochs\n",
        "    for epoch in range(num_epochs):\n",
        "\n",
        "        # a list to store losses for each epoch\n",
        "        epoch_losses_train = []\n",
        "\n",
        "        # run a for loop for each batch\n",
        "        for (_, sample_batched) in enumerate(dataloader_mutated_training_dataset):\n",
        "            #print(sample_batched)\n",
        "            # zero out grads\n",
        "            optimizer.zero_grad()\n",
        "\n",
        "            # retrieve x1 and x2 the two image batches\n",
        "            x1 = sample_batched['image1']\n",
        "            x2 = sample_batched['image2']\n",
        "\n",
        "            # move them to the device\n",
        "            x1 = x1.to(device)\n",
        "            x2 = x2.to(device)\n",
        "\n",
        "            # get their outputs\n",
        "            y1 = resnet(x1)\n",
        "            y2 = resnet(x2)\n",
        "\n",
        "            # get loss value\n",
        "            loss = loss_function(y1, y2)\n",
        "            \n",
        "            # put that loss value in the epoch losses list\n",
        "            epoch_losses_train.append(loss.cpu().data.item())\n",
        "\n",
        "            # perform backprop on loss value to get gradient values\n",
        "            loss.backward()\n",
        "\n",
        "            # run the optimizer\n",
        "            optimizer.step()\n",
        "\n",
        "        # append mean of epoch losses to losses_train, essentially this will reflect mean batch loss\n",
        "        train_losses.append(get_mean_of_list(epoch_losses_train))\n",
        "\n",
        "        # Plot the training losses Graph and save it\n",
        "        fig = plt.figure(figsize=(10, 10))\n",
        "        sns.set_style('darkgrid')\n",
        "        plt.plot(train_losses)\n",
        "        plt.legend(['Training Losses'])\n",
        "        plt.savefig('losses.png')\n",
        "        plt.close()\n",
        "\n",
        "        # Store model and optimizer files\n",
        "        torch.save(resnet.state_dict(), 'results/model.pth')\n",
        "        torch.save(optimizer.state_dict(), 'results/optimizer.pth')\n",
        "        np.savez(\"results/lossesfile\", np.array(train_losses))"
      ],
      "execution_count": 20,
      "outputs": [
        {
          "output_type": "stream",
          "name": "stderr",
          "text": [
            "/usr/local/lib/python3.7/dist-packages/torch/nn/functional.py:718: UserWarning: Named tensors and all their associated APIs are an experimental feature and subject to change. Please do not use them for anything important until they are released as stable. (Triggered internally at  /pytorch/c10/core/TensorImpl.h:1156.)\n",
            "  return torch.max_pool2d(input, kernel_size, stride, padding, dilation, ceil_mode)\n"
          ]
        }
      ]
    },
    {
      "cell_type": "code",
      "metadata": {
        "id": "csJFUelZhdeN",
        "colab": {
          "base_uri": "https://localhost:8080/",
          "height": 592
        },
        "outputId": "f768856f-44ff-4ab0-b144-74b10edd5ea3"
      },
      "source": [
        "# Plot the training losses Graph and save it\n",
        "def plot_loss(loss):\n",
        "  fig = plt.figure(figsize=(10, 10))\n",
        "  sns.set_style('darkgrid')\n",
        "  plt.plot(loss)\n",
        "  plt.legend(['Training Losses'])\n",
        "  #plt.savefig('losses.png')\n",
        "  #plt.close()\n",
        "\n",
        "plot_loss(train_losses)"
      ],
      "execution_count": 21,
      "outputs": [
        {
          "output_type": "display_data",
          "data": {
            "image/png": "[encoded data removed]",
            "text/plain": [
              "<Figure size 720x720 with 1 Axes>"
            ]
          },
          "metadata": {}
        }
      ]
    },
    {
      "cell_type": "markdown",
      "metadata": {
        "id": "Lxr_mUW-Gbxq"
      },
      "source": [
        "##TSNE Visualization"
      ]
    },
    {
      "cell_type": "code",
      "metadata": {
        "colab": {
          "base_uri": "https://localhost:8080/",
          "height": 1000
        },
        "id": "08B1Eu_yGatC",
        "outputId": "f3a3c0b1-d494-425b-9250-7cf7181c99a2"
      },
      "source": [
        "# a function used to plot t-SNE visualizations\n",
        "def plot_vecs_n_labels(v,labels,fname):\n",
        "    fig = plt.figure(figsize = (10, 10))\n",
        "    plt.axis('off')\n",
        "    sns.set_style(\"darkgrid\")\n",
        "    sns.scatterplot(v[:,0], v[:,1], hue=labels, legend='full', palette=sns.color_palette(\"bright\", 5))\n",
        "    plt.legend(['car', 'dog', 'elephant','cat','airplane'])\n",
        "    plt.title(fname)\n",
        "    #plt.savefig(fname)\n",
        "    #plt.close()\n",
        "\n",
        "# Boolean variable to control whether to perform t-SNE visualization or not\n",
        "#TSNEVIS = False\n",
        "TSNEVIS = True\n",
        "\n",
        "if TSNEVIS:\n",
        "    # run resnet in eval mode\n",
        "    resnet.eval()\n",
        "\n",
        "    # get TSNE visualizations of 10% training dataset\n",
        "    for (_, sample_batched) in enumerate(dataloader_training_dataset):\n",
        "        x = sample_batched['image']\n",
        "        x = x.to(device)\n",
        "        y = resnet(x)\n",
        "        y_tsne = tsne.fit_transform(y.cpu().data)\n",
        "        labels = sample_batched['label']\n",
        "        plot_vecs_n_labels(y_tsne,labels,'tsne_train_last_layer.png')\n",
        "        x = None\n",
        "        y = None\n",
        "        y_tsne = None\n",
        "        sample_batched = None\n",
        "\n",
        "    # get TSNE visualizations of testing dataset\n",
        "    for (_, sample_batched) in enumerate(dataloader_testing_dataset):\n",
        "        x = sample_batched['image']\n",
        "        x = x.to(device)\n",
        "        y = resnet(x)\n",
        "        y_tsne = tsne.fit_transform(y.cpu().data)\n",
        "        labels = sample_batched['label']\n",
        "        plot_vecs_n_labels(y_tsne,labels,'tsne_test_last_layer.png')\n",
        "        x = None\n",
        "        y = None\n",
        "        y_tsne = None\n",
        "        sample_batched = None\n",
        "\n",
        "# Removing the last layer and the relu layer, we remove layers incrementally and look t-SNE visualizations\n",
        "resnet.fc = nn.Sequential(*list(resnet.fc.children())[:-2])\n",
        "\n",
        "if TSNEVIS:\n",
        "    for (_, sample_batched) in enumerate(dataloader_training_dataset):\n",
        "        x = sample_batched['image']\n",
        "        x = x.to(device)\n",
        "        y = resnet(x)\n",
        "        y_tsne = tsne.fit_transform(y.cpu().data)\n",
        "        labels = sample_batched['label']\n",
        "        plot_vecs_n_labels(y_tsne,labels,'tsne_train_second_last_layer.png')\n",
        "        x = None\n",
        "        y = None\n",
        "        y_tsne = None\n",
        "        sample_batched = None\n",
        "\n",
        "    for (_, sample_batched) in enumerate(dataloader_testing_dataset):\n",
        "        x = sample_batched['image']\n",
        "        x = x.to(device)\n",
        "        y = resnet(x)\n",
        "        y_tsne = tsne.fit_transform(y.cpu().data)\n",
        "        labels = sample_batched['label']\n",
        "        plot_vecs_n_labels(y_tsne,labels,'tsne_test_second_last_layer.png')\n",
        "        x = None\n",
        "        y = None\n",
        "        y_tsne = None\n",
        "        sample_batched = None\n",
        "\n",
        "# removing one more layer, our entire projection head will be removed after this\n",
        "resnet.fc = nn.Sequential(*list(resnet.fc.children())[:-1])\n",
        "\n",
        "if TSNEVIS:\n",
        "    for (_, sample_batched) in enumerate(dataloader_training_dataset):\n",
        "        x = sample_batched['image']\n",
        "        x = x.to(device)\n",
        "        y = resnet(x)\n",
        "        y_tsne = tsne.fit_transform(y.cpu().data)\n",
        "        labels = sample_batched['label']\n",
        "        plot_vecs_n_labels(y_tsne,labels,'tsne_hidden_train.png')\n",
        "        x = None\n",
        "        y = None\n",
        "        y_tsne = None\n",
        "        sample_batched = None\n",
        "\n",
        "    for (_, sample_batched) in enumerate(dataloader_testing_dataset):\n",
        "        x = sample_batched['image']\n",
        "        x = x.to(device)\n",
        "        y = resnet(x)\n",
        "        y_tsne = tsne.fit_transform(y.cpu().data)\n",
        "        labels = sample_batched['label']\n",
        "        plot_vecs_n_labels(y_tsne,labels,'tsne_hidden_test.png')\n",
        "        x = None\n",
        "        y = None\n",
        "        y_tsne = None\n",
        "        sample_batched = None"
      ],
      "execution_count": 22,
      "outputs": [
        {
          "output_type": "stream",
          "name": "stderr",
          "text": [
            "/usr/local/lib/python3.7/dist-packages/seaborn/_decorators.py:43: FutureWarning: Pass the following variables as keyword args: x, y. From version 0.12, the only valid positional argument will be `data`, and passing other arguments without an explicit keyword will result in an error or misinterpretation.\n",
            "  FutureWarning\n"
          ]
        },
        {
          "output_type": "error",
          "ename": "FileNotFoundError",
          "evalue": "ignored",
          "traceback": [
            "\u001b[0;31m---------------------------------------------------------------------------\u001b[0m",
            "\u001b[0;31mFileNotFoundError\u001b[0m                         Traceback (most recent call last)",
            "\u001b[0;32m<ipython-input-22-0e15bb9d1c87>\u001b[0m in \u001b[0;36m<module>\u001b[0;34m()\u001b[0m\n\u001b[1;32m     32\u001b[0m \u001b[0;34m\u001b[0m\u001b[0m\n\u001b[1;32m     33\u001b[0m     \u001b[0;31m# get TSNE visualizations of testing dataset\u001b[0m\u001b[0;34m\u001b[0m\u001b[0;34m\u001b[0m\u001b[0;34m\u001b[0m\u001b[0m\n\u001b[0;32m---> 34\u001b[0;31m     \u001b[0;32mfor\u001b[0m \u001b[0;34m(\u001b[0m\u001b[0m_\u001b[0m\u001b[0;34m,\u001b[0m \u001b[0msample_batched\u001b[0m\u001b[0;34m)\u001b[0m \u001b[0;32min\u001b[0m \u001b[0menumerate\u001b[0m\u001b[0;34m(\u001b[0m\u001b[0mdataloader_testing_dataset\u001b[0m\u001b[0;34m)\u001b[0m\u001b[0;34m:\u001b[0m\u001b[0;34m\u001b[0m\u001b[0;34m\u001b[0m\u001b[0m\n\u001b[0m\u001b[1;32m     35\u001b[0m         \u001b[0mx\u001b[0m \u001b[0;34m=\u001b[0m \u001b[0msample_batched\u001b[0m\u001b[0;34m[\u001b[0m\u001b[0;34m'image'\u001b[0m\u001b[0;34m]\u001b[0m\u001b[0;34m\u001b[0m\u001b[0;34m\u001b[0m\u001b[0m\n\u001b[1;32m     36\u001b[0m         \u001b[0mx\u001b[0m \u001b[0;34m=\u001b[0m \u001b[0mx\u001b[0m\u001b[0;34m.\u001b[0m\u001b[0mto\u001b[0m\u001b[0;34m(\u001b[0m\u001b[0mdevice\u001b[0m\u001b[0;34m)\u001b[0m\u001b[0;34m\u001b[0m\u001b[0;34m\u001b[0m\u001b[0m\n",
            "\u001b[0;32m/usr/local/lib/python3.7/dist-packages/torch/utils/data/dataloader.py\u001b[0m in \u001b[0;36m__next__\u001b[0;34m(self)\u001b[0m\n\u001b[1;32m    519\u001b[0m             \u001b[0;32mif\u001b[0m \u001b[0mself\u001b[0m\u001b[0;34m.\u001b[0m\u001b[0m_sampler_iter\u001b[0m \u001b[0;32mis\u001b[0m \u001b[0;32mNone\u001b[0m\u001b[0;34m:\u001b[0m\u001b[0;34m\u001b[0m\u001b[0;34m\u001b[0m\u001b[0m\n\u001b[1;32m    520\u001b[0m                 \u001b[0mself\u001b[0m\u001b[0;34m.\u001b[0m\u001b[0m_reset\u001b[0m\u001b[0;34m(\u001b[0m\u001b[0;34m)\u001b[0m\u001b[0;34m\u001b[0m\u001b[0;34m\u001b[0m\u001b[0m\n\u001b[0;32m--> 521\u001b[0;31m             \u001b[0mdata\u001b[0m \u001b[0;34m=\u001b[0m \u001b[0mself\u001b[0m\u001b[0;34m.\u001b[0m\u001b[0m_next_data\u001b[0m\u001b[0;34m(\u001b[0m\u001b[0;34m)\u001b[0m\u001b[0;34m\u001b[0m\u001b[0;34m\u001b[0m\u001b[0m\n\u001b[0m\u001b[1;32m    522\u001b[0m             \u001b[0mself\u001b[0m\u001b[0;34m.\u001b[0m\u001b[0m_num_yielded\u001b[0m \u001b[0;34m+=\u001b[0m \u001b[0;36m1\u001b[0m\u001b[0;34m\u001b[0m\u001b[0;34m\u001b[0m\u001b[0m\n\u001b[1;32m    523\u001b[0m             \u001b[0;32mif\u001b[0m \u001b[0mself\u001b[0m\u001b[0;34m.\u001b[0m\u001b[0m_dataset_kind\u001b[0m \u001b[0;34m==\u001b[0m \u001b[0m_DatasetKind\u001b[0m\u001b[0;34m.\u001b[0m\u001b[0mIterable\u001b[0m \u001b[0;32mand\u001b[0m\u001b[0;31m \u001b[0m\u001b[0;31m\\\u001b[0m\u001b[0;34m\u001b[0m\u001b[0;34m\u001b[0m\u001b[0m\n",
            "\u001b[0;32m/usr/local/lib/python3.7/dist-packages/torch/utils/data/dataloader.py\u001b[0m in \u001b[0;36m_next_data\u001b[0;34m(self)\u001b[0m\n\u001b[1;32m   1201\u001b[0m             \u001b[0;32melse\u001b[0m\u001b[0;34m:\u001b[0m\u001b[0;34m\u001b[0m\u001b[0;34m\u001b[0m\u001b[0m\n\u001b[1;32m   1202\u001b[0m                 \u001b[0;32mdel\u001b[0m \u001b[0mself\u001b[0m\u001b[0;34m.\u001b[0m\u001b[0m_task_info\u001b[0m\u001b[0;34m[\u001b[0m\u001b[0midx\u001b[0m\u001b[0;34m]\u001b[0m\u001b[0;34m\u001b[0m\u001b[0;34m\u001b[0m\u001b[0m\n\u001b[0;32m-> 1203\u001b[0;31m                 \u001b[0;32mreturn\u001b[0m \u001b[0mself\u001b[0m\u001b[0;34m.\u001b[0m\u001b[0m_process_data\u001b[0m\u001b[0;34m(\u001b[0m\u001b[0mdata\u001b[0m\u001b[0;34m)\u001b[0m\u001b[0;34m\u001b[0m\u001b[0;34m\u001b[0m\u001b[0m\n\u001b[0m\u001b[1;32m   1204\u001b[0m \u001b[0;34m\u001b[0m\u001b[0m\n\u001b[1;32m   1205\u001b[0m     \u001b[0;32mdef\u001b[0m \u001b[0m_try_put_index\u001b[0m\u001b[0;34m(\u001b[0m\u001b[0mself\u001b[0m\u001b[0;34m)\u001b[0m\u001b[0;34m:\u001b[0m\u001b[0;34m\u001b[0m\u001b[0;34m\u001b[0m\u001b[0m\n",
            "\u001b[0;32m/usr/local/lib/python3.7/dist-packages/torch/utils/data/dataloader.py\u001b[0m in \u001b[0;36m_process_data\u001b[0;34m(self, data)\u001b[0m\n\u001b[1;32m   1227\u001b[0m         \u001b[0mself\u001b[0m\u001b[0;34m.\u001b[0m\u001b[0m_try_put_index\u001b[0m\u001b[0;34m(\u001b[0m\u001b[0;34m)\u001b[0m\u001b[0;34m\u001b[0m\u001b[0;34m\u001b[0m\u001b[0m\n\u001b[1;32m   1228\u001b[0m         \u001b[0;32mif\u001b[0m \u001b[0misinstance\u001b[0m\u001b[0;34m(\u001b[0m\u001b[0mdata\u001b[0m\u001b[0;34m,\u001b[0m \u001b[0mExceptionWrapper\u001b[0m\u001b[0;34m)\u001b[0m\u001b[0;34m:\u001b[0m\u001b[0;34m\u001b[0m\u001b[0;34m\u001b[0m\u001b[0m\n\u001b[0;32m-> 1229\u001b[0;31m             \u001b[0mdata\u001b[0m\u001b[0;34m.\u001b[0m\u001b[0mreraise\u001b[0m\u001b[0;34m(\u001b[0m\u001b[0;34m)\u001b[0m\u001b[0;34m\u001b[0m\u001b[0;34m\u001b[0m\u001b[0m\n\u001b[0m\u001b[1;32m   1230\u001b[0m         \u001b[0;32mreturn\u001b[0m \u001b[0mdata\u001b[0m\u001b[0;34m\u001b[0m\u001b[0;34m\u001b[0m\u001b[0m\n\u001b[1;32m   1231\u001b[0m \u001b[0;34m\u001b[0m\u001b[0m\n",
            "\u001b[0;32m/usr/local/lib/python3.7/dist-packages/torch/_utils.py\u001b[0m in \u001b[0;36mreraise\u001b[0;34m(self)\u001b[0m\n\u001b[1;32m    423\u001b[0m             \u001b[0;31m# have message field\u001b[0m\u001b[0;34m\u001b[0m\u001b[0;34m\u001b[0m\u001b[0;34m\u001b[0m\u001b[0m\n\u001b[1;32m    424\u001b[0m             \u001b[0;32mraise\u001b[0m \u001b[0mself\u001b[0m\u001b[0;34m.\u001b[0m\u001b[0mexc_type\u001b[0m\u001b[0;34m(\u001b[0m\u001b[0mmessage\u001b[0m\u001b[0;34m=\u001b[0m\u001b[0mmsg\u001b[0m\u001b[0;34m)\u001b[0m\u001b[0;34m\u001b[0m\u001b[0;34m\u001b[0m\u001b[0m\n\u001b[0;32m--> 425\u001b[0;31m         \u001b[0;32mraise\u001b[0m \u001b[0mself\u001b[0m\u001b[0;34m.\u001b[0m\u001b[0mexc_type\u001b[0m\u001b[0;34m(\u001b[0m\u001b[0mmsg\u001b[0m\u001b[0;34m)\u001b[0m\u001b[0;34m\u001b[0m\u001b[0;34m\u001b[0m\u001b[0m\n\u001b[0m\u001b[1;32m    426\u001b[0m \u001b[0;34m\u001b[0m\u001b[0m\n\u001b[1;32m    427\u001b[0m \u001b[0;34m\u001b[0m\u001b[0m\n",
            "\u001b[0;31mFileNotFoundError\u001b[0m: Caught FileNotFoundError in DataLoader worker process 0.\nOriginal Traceback (most recent call last):\n  File \"/usr/local/lib/python3.7/dist-packages/torch/utils/data/_utils/worker.py\", line 287, in _worker_loop\n    data = fetcher.fetch(index)\n  File \"/usr/local/lib/python3.7/dist-packages/torch/utils/data/_utils/fetch.py\", line 44, in fetch\n    data = [self.dataset[idx] for idx in possibly_batched_index]\n  File \"/usr/local/lib/python3.7/dist-packages/torch/utils/data/_utils/fetch.py\", line 44, in <listcomp>\n    data = [self.dataset[idx] for idx in possibly_batched_index]\n  File \"<ipython-input-8-5bb75329468c>\", line 26, in __getitem__\n    image = Image.open(img_name)\n  File \"/usr/local/lib/python3.7/dist-packages/PIL/Image.py\", line 2843, in open\n    fp = builtins.open(filename, \"rb\")\nFileNotFoundError: [Errno 2] No such file or directory: '/content/imagenet-5-categories/train/elephant_99995533_59a7784f09.jpg'\n"
          ]
        },
        {
          "output_type": "display_data",
          "data": {
            "image/png": "[encoded data removed]",
            "text/plain": [
              "<Figure size 720x720 with 1 Axes>"
            ]
          },
          "metadata": {}
        }
      ]
    }
  ]
}