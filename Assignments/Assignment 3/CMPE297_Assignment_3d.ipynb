{
  "nbformat": 4,
  "nbformat_minor": 0,
  "metadata": {
    "accelerator": "GPU",
    "colab": {
      "name": "CMPE297_HW3_TopicModeling",
      "provenance": [],
      "collapsed_sections": [
        "6ABe4kS-XZqa"
      ]
    },
    "kernelspec": {
      "display_name": "Python 3",
      "name": "python3"
    },
    "widgets": {
      "application/vnd.jupyter.widget-state+json": {
        "d555b6e003de479eb4a57df227eddf3f": {
          "model_module": "@jupyter-widgets/controls",
          "model_name": "HBoxModel",
          "model_module_version": "1.5.0",
          "state": {
            "_view_name": "HBoxView",
            "_dom_classes": [],
            "_model_name": "HBoxModel",
            "_view_module": "@jupyter-widgets/controls",
            "_model_module_version": "1.5.0",
            "_view_count": null,
            "_view_module_version": "1.5.0",
            "box_style": "",
            "layout": "IPY_MODEL_e7c2c529ee874cfba2efdd5ecdb32110",
            "_model_module": "@jupyter-widgets/controls",
            "children": [
              "IPY_MODEL_a18b72e823154907b78f21de36aa5f2c",
              "IPY_MODEL_8fb96e2a33e64616aed5cbb2c3182469",
              "IPY_MODEL_61a4ae0bdad64826a28fc7e4e72a8fe6"
            ]
          }
        },
        "e7c2c529ee874cfba2efdd5ecdb32110": {
          "model_module": "@jupyter-widgets/base",
          "model_name": "LayoutModel",
          "model_module_version": "1.2.0",
          "state": {
            "_view_name": "LayoutView",
            "grid_template_rows": null,
            "right": null,
            "justify_content": null,
            "_view_module": "@jupyter-widgets/base",
            "overflow": null,
            "_model_module_version": "1.2.0",
            "_view_count": null,
            "flex_flow": null,
            "width": null,
            "min_width": null,
            "border": null,
            "align_items": null,
            "bottom": null,
            "_model_module": "@jupyter-widgets/base",
            "top": null,
            "grid_column": null,
            "overflow_y": null,
            "overflow_x": null,
            "grid_auto_flow": null,
            "grid_area": null,
            "grid_template_columns": null,
            "flex": null,
            "_model_name": "LayoutModel",
            "justify_items": null,
            "grid_row": null,
            "max_height": null,
            "align_content": null,
            "visibility": null,
            "align_self": null,
            "height": null,
            "min_height": null,
            "padding": null,
            "grid_auto_rows": null,
            "grid_gap": null,
            "max_width": null,
            "order": null,
            "_view_module_version": "1.2.0",
            "grid_template_areas": null,
            "object_position": null,
            "object_fit": null,
            "grid_auto_columns": null,
            "margin": null,
            "display": null,
            "left": null
          }
        },
        "a18b72e823154907b78f21de36aa5f2c": {
          "model_module": "@jupyter-widgets/controls",
          "model_name": "HTMLModel",
          "model_module_version": "1.5.0",
          "state": {
            "_view_name": "HTMLView",
            "style": "IPY_MODEL_eb8692d5e0324cbc9af9e1840677b533",
            "_dom_classes": [],
            "description": "",
            "_model_name": "HTMLModel",
            "placeholder": "​",
            "_view_module": "@jupyter-widgets/controls",
            "_model_module_version": "1.5.0",
            "value": "Batches: 100%",
            "_view_count": null,
            "_view_module_version": "1.5.0",
            "description_tooltip": null,
            "_model_module": "@jupyter-widgets/controls",
            "layout": "IPY_MODEL_35c53389baaa4066866af79a98bb8ad7"
          }
        },
        "8fb96e2a33e64616aed5cbb2c3182469": {
          "model_module": "@jupyter-widgets/controls",
          "model_name": "FloatProgressModel",
          "model_module_version": "1.5.0",
          "state": {
            "_view_name": "ProgressView",
            "style": "IPY_MODEL_f229c15251004845917eedcb7675ab5c",
            "_dom_classes": [],
            "description": "",
            "_model_name": "FloatProgressModel",
            "bar_style": "success",
            "max": 75,
            "_view_module": "@jupyter-widgets/controls",
            "_model_module_version": "1.5.0",
            "value": 75,
            "_view_count": null,
            "_view_module_version": "1.5.0",
            "orientation": "horizontal",
            "min": 0,
            "description_tooltip": null,
            "_model_module": "@jupyter-widgets/controls",
            "layout": "IPY_MODEL_b0458921c66c499e821803c3f1c54f4e"
          }
        },
        "61a4ae0bdad64826a28fc7e4e72a8fe6": {
          "model_module": "@jupyter-widgets/controls",
          "model_name": "HTMLModel",
          "model_module_version": "1.5.0",
          "state": {
            "_view_name": "HTMLView",
            "style": "IPY_MODEL_ee46c973afba4326a5ef2aca6a8a15fa",
            "_dom_classes": [],
            "description": "",
            "_model_name": "HTMLModel",
            "placeholder": "​",
            "_view_module": "@jupyter-widgets/controls",
            "_model_module_version": "1.5.0",
            "value": " 75/75 [00:47&lt;00:00,  1.34it/s]",
            "_view_count": null,
            "_view_module_version": "1.5.0",
            "description_tooltip": null,
            "_model_module": "@jupyter-widgets/controls",
            "layout": "IPY_MODEL_45f2c93821994322886f41999306b2ac"
          }
        },
        "eb8692d5e0324cbc9af9e1840677b533": {
          "model_module": "@jupyter-widgets/controls",
          "model_name": "DescriptionStyleModel",
          "model_module_version": "1.5.0",
          "state": {
            "_view_name": "StyleView",
            "_model_name": "DescriptionStyleModel",
            "description_width": "",
            "_view_module": "@jupyter-widgets/base",
            "_model_module_version": "1.5.0",
            "_view_count": null,
            "_view_module_version": "1.2.0",
            "_model_module": "@jupyter-widgets/controls"
          }
        },
        "35c53389baaa4066866af79a98bb8ad7": {
          "model_module": "@jupyter-widgets/base",
          "model_name": "LayoutModel",
          "model_module_version": "1.2.0",
          "state": {
            "_view_name": "LayoutView",
            "grid_template_rows": null,
            "right": null,
            "justify_content": null,
            "_view_module": "@jupyter-widgets/base",
            "overflow": null,
            "_model_module_version": "1.2.0",
            "_view_count": null,
            "flex_flow": null,
            "width": null,
            "min_width": null,
            "border": null,
            "align_items": null,
            "bottom": null,
            "_model_module": "@jupyter-widgets/base",
            "top": null,
            "grid_column": null,
            "overflow_y": null,
            "overflow_x": null,
            "grid_auto_flow": null,
            "grid_area": null,
            "grid_template_columns": null,
            "flex": null,
            "_model_name": "LayoutModel",
            "justify_items": null,
            "grid_row": null,
            "max_height": null,
            "align_content": null,
            "visibility": null,
            "align_self": null,
            "height": null,
            "min_height": null,
            "padding": null,
            "grid_auto_rows": null,
            "grid_gap": null,
            "max_width": null,
            "order": null,
            "_view_module_version": "1.2.0",
            "grid_template_areas": null,
            "object_position": null,
            "object_fit": null,
            "grid_auto_columns": null,
            "margin": null,
            "display": null,
            "left": null
          }
        },
        "f229c15251004845917eedcb7675ab5c": {
          "model_module": "@jupyter-widgets/controls",
          "model_name": "ProgressStyleModel",
          "model_module_version": "1.5.0",
          "state": {
            "_view_name": "StyleView",
            "_model_name": "ProgressStyleModel",
            "description_width": "",
            "_view_module": "@jupyter-widgets/base",
            "_model_module_version": "1.5.0",
            "_view_count": null,
            "_view_module_version": "1.2.0",
            "bar_color": null,
            "_model_module": "@jupyter-widgets/controls"
          }
        },
        "b0458921c66c499e821803c3f1c54f4e": {
          "model_module": "@jupyter-widgets/base",
          "model_name": "LayoutModel",
          "model_module_version": "1.2.0",
          "state": {
            "_view_name": "LayoutView",
            "grid_template_rows": null,
            "right": null,
            "justify_content": null,
            "_view_module": "@jupyter-widgets/base",
            "overflow": null,
            "_model_module_version": "1.2.0",
            "_view_count": null,
            "flex_flow": null,
            "width": null,
            "min_width": null,
            "border": null,
            "align_items": null,
            "bottom": null,
            "_model_module": "@jupyter-widgets/base",
            "top": null,
            "grid_column": null,
            "overflow_y": null,
            "overflow_x": null,
            "grid_auto_flow": null,
            "grid_area": null,
            "grid_template_columns": null,
            "flex": null,
            "_model_name": "LayoutModel",
            "justify_items": null,
            "grid_row": null,
            "max_height": null,
            "align_content": null,
            "visibility": null,
            "align_self": null,
            "height": null,
            "min_height": null,
            "padding": null,
            "grid_auto_rows": null,
            "grid_gap": null,
            "max_width": null,
            "order": null,
            "_view_module_version": "1.2.0",
            "grid_template_areas": null,
            "object_position": null,
            "object_fit": null,
            "grid_auto_columns": null,
            "margin": null,
            "display": null,
            "left": null
          }
        },
        "ee46c973afba4326a5ef2aca6a8a15fa": {
          "model_module": "@jupyter-widgets/controls",
          "model_name": "DescriptionStyleModel",
          "model_module_version": "1.5.0",
          "state": {
            "_view_name": "StyleView",
            "_model_name": "DescriptionStyleModel",
            "description_width": "",
            "_view_module": "@jupyter-widgets/base",
            "_model_module_version": "1.5.0",
            "_view_count": null,
            "_view_module_version": "1.2.0",
            "_model_module": "@jupyter-widgets/controls"
          }
        },
        "45f2c93821994322886f41999306b2ac": {
          "model_module": "@jupyter-widgets/base",
          "model_name": "LayoutModel",
          "model_module_version": "1.2.0",
          "state": {
            "_view_name": "LayoutView",
            "grid_template_rows": null,
            "right": null,
            "justify_content": null,
            "_view_module": "@jupyter-widgets/base",
            "overflow": null,
            "_model_module_version": "1.2.0",
            "_view_count": null,
            "flex_flow": null,
            "width": null,
            "min_width": null,
            "border": null,
            "align_items": null,
            "bottom": null,
            "_model_module": "@jupyter-widgets/base",
            "top": null,
            "grid_column": null,
            "overflow_y": null,
            "overflow_x": null,
            "grid_auto_flow": null,
            "grid_area": null,
            "grid_template_columns": null,
            "flex": null,
            "_model_name": "LayoutModel",
            "justify_items": null,
            "grid_row": null,
            "max_height": null,
            "align_content": null,
            "visibility": null,
            "align_self": null,
            "height": null,
            "min_height": null,
            "padding": null,
            "grid_auto_rows": null,
            "grid_gap": null,
            "max_width": null,
            "order": null,
            "_view_module_version": "1.2.0",
            "grid_template_areas": null,
            "object_position": null,
            "object_fit": null,
            "grid_auto_columns": null,
            "margin": null,
            "display": null,
            "left": null
          }
        },
        "28b4bb4f05d4416eb78667bbc7fa2ec9": {
          "model_module": "@jupyter-widgets/controls",
          "model_name": "HBoxModel",
          "model_module_version": "1.5.0",
          "state": {
            "_view_name": "HBoxView",
            "_dom_classes": [],
            "_model_name": "HBoxModel",
            "_view_module": "@jupyter-widgets/controls",
            "_model_module_version": "1.5.0",
            "_view_count": null,
            "_view_module_version": "1.5.0",
            "box_style": "",
            "layout": "IPY_MODEL_bb2df48b9d7540fa83be779965c10b87",
            "_model_module": "@jupyter-widgets/controls",
            "children": [
              "IPY_MODEL_95a178190c594d4faf40a21a46d412cf",
              "IPY_MODEL_6ebf8600240e4d99ae3c6a87092ff6bc",
              "IPY_MODEL_949cc98070f448d19cc5815f6ad782d3"
            ]
          }
        },
        "bb2df48b9d7540fa83be779965c10b87": {
          "model_module": "@jupyter-widgets/base",
          "model_name": "LayoutModel",
          "model_module_version": "1.2.0",
          "state": {
            "_view_name": "LayoutView",
            "grid_template_rows": null,
            "right": null,
            "justify_content": null,
            "_view_module": "@jupyter-widgets/base",
            "overflow": null,
            "_model_module_version": "1.2.0",
            "_view_count": null,
            "flex_flow": null,
            "width": null,
            "min_width": null,
            "border": null,
            "align_items": null,
            "bottom": null,
            "_model_module": "@jupyter-widgets/base",
            "top": null,
            "grid_column": null,
            "overflow_y": null,
            "overflow_x": null,
            "grid_auto_flow": null,
            "grid_area": null,
            "grid_template_columns": null,
            "flex": null,
            "_model_name": "LayoutModel",
            "justify_items": null,
            "grid_row": null,
            "max_height": null,
            "align_content": null,
            "visibility": null,
            "align_self": null,
            "height": null,
            "min_height": null,
            "padding": null,
            "grid_auto_rows": null,
            "grid_gap": null,
            "max_width": null,
            "order": null,
            "_view_module_version": "1.2.0",
            "grid_template_areas": null,
            "object_position": null,
            "object_fit": null,
            "grid_auto_columns": null,
            "margin": null,
            "display": null,
            "left": null
          }
        },
        "95a178190c594d4faf40a21a46d412cf": {
          "model_module": "@jupyter-widgets/controls",
          "model_name": "HTMLModel",
          "model_module_version": "1.5.0",
          "state": {
            "_view_name": "HTMLView",
            "style": "IPY_MODEL_25ed69dff57b449c8cc1cd31005ca7e8",
            "_dom_classes": [],
            "description": "",
            "_model_name": "HTMLModel",
            "placeholder": "​",
            "_view_module": "@jupyter-widgets/controls",
            "_model_module_version": "1.5.0",
            "value": "Batches: 100%",
            "_view_count": null,
            "_view_module_version": "1.5.0",
            "description_tooltip": null,
            "_model_module": "@jupyter-widgets/controls",
            "layout": "IPY_MODEL_066a3a664ec54a4bbd55ecb9f4cbdab9"
          }
        },
        "6ebf8600240e4d99ae3c6a87092ff6bc": {
          "model_module": "@jupyter-widgets/controls",
          "model_name": "FloatProgressModel",
          "model_module_version": "1.5.0",
          "state": {
            "_view_name": "ProgressView",
            "style": "IPY_MODEL_11f83299b80746f6a3e8093711d8cca4",
            "_dom_classes": [],
            "description": "",
            "_model_name": "FloatProgressModel",
            "bar_style": "success",
            "max": 25,
            "_view_module": "@jupyter-widgets/controls",
            "_model_module_version": "1.5.0",
            "value": 25,
            "_view_count": null,
            "_view_module_version": "1.5.0",
            "orientation": "horizontal",
            "min": 0,
            "description_tooltip": null,
            "_model_module": "@jupyter-widgets/controls",
            "layout": "IPY_MODEL_7fc6e266429047b28c4509df0a2f799d"
          }
        },
        "949cc98070f448d19cc5815f6ad782d3": {
          "model_module": "@jupyter-widgets/controls",
          "model_name": "HTMLModel",
          "model_module_version": "1.5.0",
          "state": {
            "_view_name": "HTMLView",
            "style": "IPY_MODEL_7bdc7323eccc4e0992f3699ca33afa20",
            "_dom_classes": [],
            "description": "",
            "_model_name": "HTMLModel",
            "placeholder": "​",
            "_view_module": "@jupyter-widgets/controls",
            "_model_module_version": "1.5.0",
            "value": " 25/25 [00:15&lt;00:00,  1.41it/s]",
            "_view_count": null,
            "_view_module_version": "1.5.0",
            "description_tooltip": null,
            "_model_module": "@jupyter-widgets/controls",
            "layout": "IPY_MODEL_85a4962545b84735903c106873b64115"
          }
        },
        "25ed69dff57b449c8cc1cd31005ca7e8": {
          "model_module": "@jupyter-widgets/controls",
          "model_name": "DescriptionStyleModel",
          "model_module_version": "1.5.0",
          "state": {
            "_view_name": "StyleView",
            "_model_name": "DescriptionStyleModel",
            "description_width": "",
            "_view_module": "@jupyter-widgets/base",
            "_model_module_version": "1.5.0",
            "_view_count": null,
            "_view_module_version": "1.2.0",
            "_model_module": "@jupyter-widgets/controls"
          }
        },
        "066a3a664ec54a4bbd55ecb9f4cbdab9": {
          "model_module": "@jupyter-widgets/base",
          "model_name": "LayoutModel",
          "model_module_version": "1.2.0",
          "state": {
            "_view_name": "LayoutView",
            "grid_template_rows": null,
            "right": null,
            "justify_content": null,
            "_view_module": "@jupyter-widgets/base",
            "overflow": null,
            "_model_module_version": "1.2.0",
            "_view_count": null,
            "flex_flow": null,
            "width": null,
            "min_width": null,
            "border": null,
            "align_items": null,
            "bottom": null,
            "_model_module": "@jupyter-widgets/base",
            "top": null,
            "grid_column": null,
            "overflow_y": null,
            "overflow_x": null,
            "grid_auto_flow": null,
            "grid_area": null,
            "grid_template_columns": null,
            "flex": null,
            "_model_name": "LayoutModel",
            "justify_items": null,
            "grid_row": null,
            "max_height": null,
            "align_content": null,
            "visibility": null,
            "align_self": null,
            "height": null,
            "min_height": null,
            "padding": null,
            "grid_auto_rows": null,
            "grid_gap": null,
            "max_width": null,
            "order": null,
            "_view_module_version": "1.2.0",
            "grid_template_areas": null,
            "object_position": null,
            "object_fit": null,
            "grid_auto_columns": null,
            "margin": null,
            "display": null,
            "left": null
          }
        },
        "11f83299b80746f6a3e8093711d8cca4": {
          "model_module": "@jupyter-widgets/controls",
          "model_name": "ProgressStyleModel",
          "model_module_version": "1.5.0",
          "state": {
            "_view_name": "StyleView",
            "_model_name": "ProgressStyleModel",
            "description_width": "",
            "_view_module": "@jupyter-widgets/base",
            "_model_module_version": "1.5.0",
            "_view_count": null,
            "_view_module_version": "1.2.0",
            "bar_color": null,
            "_model_module": "@jupyter-widgets/controls"
          }
        },
        "7fc6e266429047b28c4509df0a2f799d": {
          "model_module": "@jupyter-widgets/base",
          "model_name": "LayoutModel",
          "model_module_version": "1.2.0",
          "state": {
            "_view_name": "LayoutView",
            "grid_template_rows": null,
            "right": null,
            "justify_content": null,
            "_view_module": "@jupyter-widgets/base",
            "overflow": null,
            "_model_module_version": "1.2.0",
            "_view_count": null,
            "flex_flow": null,
            "width": null,
            "min_width": null,
            "border": null,
            "align_items": null,
            "bottom": null,
            "_model_module": "@jupyter-widgets/base",
            "top": null,
            "grid_column": null,
            "overflow_y": null,
            "overflow_x": null,
            "grid_auto_flow": null,
            "grid_area": null,
            "grid_template_columns": null,
            "flex": null,
            "_model_name": "LayoutModel",
            "justify_items": null,
            "grid_row": null,
            "max_height": null,
            "align_content": null,
            "visibility": null,
            "align_self": null,
            "height": null,
            "min_height": null,
            "padding": null,
            "grid_auto_rows": null,
            "grid_gap": null,
            "max_width": null,
            "order": null,
            "_view_module_version": "1.2.0",
            "grid_template_areas": null,
            "object_position": null,
            "object_fit": null,
            "grid_auto_columns": null,
            "margin": null,
            "display": null,
            "left": null
          }
        },
        "7bdc7323eccc4e0992f3699ca33afa20": {
          "model_module": "@jupyter-widgets/controls",
          "model_name": "DescriptionStyleModel",
          "model_module_version": "1.5.0",
          "state": {
            "_view_name": "StyleView",
            "_model_name": "DescriptionStyleModel",
            "description_width": "",
            "_view_module": "@jupyter-widgets/base",
            "_model_module_version": "1.5.0",
            "_view_count": null,
            "_view_module_version": "1.2.0",
            "_model_module": "@jupyter-widgets/controls"
          }
        },
        "85a4962545b84735903c106873b64115": {
          "model_module": "@jupyter-widgets/base",
          "model_name": "LayoutModel",
          "model_module_version": "1.2.0",
          "state": {
            "_view_name": "LayoutView",
            "grid_template_rows": null,
            "right": null,
            "justify_content": null,
            "_view_module": "@jupyter-widgets/base",
            "overflow": null,
            "_model_module_version": "1.2.0",
            "_view_count": null,
            "flex_flow": null,
            "width": null,
            "min_width": null,
            "border": null,
            "align_items": null,
            "bottom": null,
            "_model_module": "@jupyter-widgets/base",
            "top": null,
            "grid_column": null,
            "overflow_y": null,
            "overflow_x": null,
            "grid_auto_flow": null,
            "grid_area": null,
            "grid_template_columns": null,
            "flex": null,
            "_model_name": "LayoutModel",
            "justify_items": null,
            "grid_row": null,
            "max_height": null,
            "align_content": null,
            "visibility": null,
            "align_self": null,
            "height": null,
            "min_height": null,
            "padding": null,
            "grid_auto_rows": null,
            "grid_gap": null,
            "max_width": null,
            "order": null,
            "_view_module_version": "1.2.0",
            "grid_template_areas": null,
            "object_position": null,
            "object_fit": null,
            "grid_auto_columns": null,
            "margin": null,
            "display": null,
            "left": null
          }
        }
      }
    }
  },
  "cells": [
    {
      "cell_type": "markdown",
      "metadata": {
        "id": "qmZ1uZecv7qW"
      },
      "source": [
        "# **Contextualized topic modeling to get topics out of a collections made of Wikipedia Abstracts**\n",
        "\n",
        "**Topic Models**\n",
        "Topic models allow us to discover latent topics in your documents in a completely unsuperivsed way.\n",
        "\n",
        "**Contextualized Topic Models**\n",
        "What are Contextualized Topic Models? **CTMs** are a family of topic models that combine the expressive power of BERT embeddings with the usupervised capabilities of topic models to get topics out of documents.\n",
        "\n",
        "## **References:**\n",
        "* https://colab.research.google.com/drive/1euxW3ya3_PX6Kj1tnCNrIQ7pjZIODsB6?usp=sharing"
      ]
    },
    {
      "cell_type": "markdown",
      "metadata": {
        "id": "sgxRbgSZ9MsB"
      },
      "source": [
        "## **Dataset:**\n",
        "\n",
        "Downloading some abstracts from Wikipedia and using them to run the topic modeling pipeline. "
      ]
    },
    {
      "cell_type": "code",
      "metadata": {
        "id": "WXZ8fOdYwdWO"
      },
      "source": [
        "%%capture\n",
        "!wget https://raw.githubusercontent.com/vinid/data/master/dbpedia_sample_abstract_20k_unprep.txt\n",
        "!wget https://raw.githubusercontent.com/vinid/data/master/dbpedia_sample_abstract_20k_prep.txt"
      ],
      "execution_count": 1,
      "outputs": []
    },
    {
      "cell_type": "code",
      "metadata": {
        "id": "BUw5EQi8v9r1"
      },
      "source": [
        "## Installing the contextualized topic model library\n",
        "%%capture\n",
        "!pip install contextualized-topic-models==1.8.1\n",
        "!pip install torch==1.6.0+cu101 torchvision==0.7.0+cu101 -f https://download.pytorch.org/whl/torch_stable.html"
      ],
      "execution_count": 2,
      "outputs": []
    },
    {
      "cell_type": "markdown",
      "metadata": {
        "id": "Uyi1s64-Glm1"
      },
      "source": [
        "## **Installing TensorBoard**\n"
      ]
    },
    {
      "cell_type": "code",
      "metadata": {
        "colab": {
          "base_uri": "https://localhost:8080/"
        },
        "id": "6kiKj_6ZGo14",
        "outputId": "cd7d822b-9201-4b57-93a1-6e68c78a7573"
      },
      "source": [
        "!pip install tensorboard"
      ],
      "execution_count": 25,
      "outputs": [
        {
          "output_type": "stream",
          "name": "stdout",
          "text": [
            "Requirement already satisfied: tensorboard in /usr/local/lib/python3.7/dist-packages (2.6.0)\n",
            "Requirement already satisfied: google-auth-oauthlib<0.5,>=0.4.1 in /usr/local/lib/python3.7/dist-packages (from tensorboard) (0.4.6)\n",
            "Requirement already satisfied: setuptools>=41.0.0 in /usr/local/lib/python3.7/dist-packages (from tensorboard) (57.4.0)\n",
            "Requirement already satisfied: wheel>=0.26 in /usr/local/lib/python3.7/dist-packages (from tensorboard) (0.37.0)\n",
            "Requirement already satisfied: tensorboard-data-server<0.7.0,>=0.6.0 in /usr/local/lib/python3.7/dist-packages (from tensorboard) (0.6.1)\n",
            "Requirement already satisfied: werkzeug>=0.11.15 in /usr/local/lib/python3.7/dist-packages (from tensorboard) (1.0.1)\n",
            "Requirement already satisfied: grpcio>=1.24.3 in /usr/local/lib/python3.7/dist-packages (from tensorboard) (1.41.0)\n",
            "Requirement already satisfied: requests<3,>=2.21.0 in /usr/local/lib/python3.7/dist-packages (from tensorboard) (2.23.0)\n",
            "Requirement already satisfied: tensorboard-plugin-wit>=1.6.0 in /usr/local/lib/python3.7/dist-packages (from tensorboard) (1.8.0)\n",
            "Requirement already satisfied: google-auth<2,>=1.6.3 in /usr/local/lib/python3.7/dist-packages (from tensorboard) (1.35.0)\n",
            "Requirement already satisfied: markdown>=2.6.8 in /usr/local/lib/python3.7/dist-packages (from tensorboard) (3.3.4)\n",
            "Requirement already satisfied: absl-py>=0.4 in /usr/local/lib/python3.7/dist-packages (from tensorboard) (0.12.0)\n",
            "Requirement already satisfied: protobuf>=3.6.0 in /usr/local/lib/python3.7/dist-packages (from tensorboard) (3.17.3)\n",
            "Requirement already satisfied: numpy>=1.12.0 in /usr/local/lib/python3.7/dist-packages (from tensorboard) (1.19.1)\n",
            "Requirement already satisfied: six in /usr/local/lib/python3.7/dist-packages (from absl-py>=0.4->tensorboard) (1.15.0)\n",
            "Requirement already satisfied: pyasn1-modules>=0.2.1 in /usr/local/lib/python3.7/dist-packages (from google-auth<2,>=1.6.3->tensorboard) (0.2.8)\n",
            "Requirement already satisfied: rsa<5,>=3.1.4 in /usr/local/lib/python3.7/dist-packages (from google-auth<2,>=1.6.3->tensorboard) (4.7.2)\n",
            "Requirement already satisfied: cachetools<5.0,>=2.0.0 in /usr/local/lib/python3.7/dist-packages (from google-auth<2,>=1.6.3->tensorboard) (4.2.4)\n",
            "Requirement already satisfied: requests-oauthlib>=0.7.0 in /usr/local/lib/python3.7/dist-packages (from google-auth-oauthlib<0.5,>=0.4.1->tensorboard) (1.3.0)\n",
            "Requirement already satisfied: importlib-metadata in /usr/local/lib/python3.7/dist-packages (from markdown>=2.6.8->tensorboard) (4.8.1)\n",
            "Requirement already satisfied: pyasn1<0.5.0,>=0.4.6 in /usr/local/lib/python3.7/dist-packages (from pyasn1-modules>=0.2.1->google-auth<2,>=1.6.3->tensorboard) (0.4.8)\n",
            "Requirement already satisfied: certifi>=2017.4.17 in /usr/local/lib/python3.7/dist-packages (from requests<3,>=2.21.0->tensorboard) (2021.5.30)\n",
            "Requirement already satisfied: urllib3!=1.25.0,!=1.25.1,<1.26,>=1.21.1 in /usr/local/lib/python3.7/dist-packages (from requests<3,>=2.21.0->tensorboard) (1.24.3)\n",
            "Requirement already satisfied: chardet<4,>=3.0.2 in /usr/local/lib/python3.7/dist-packages (from requests<3,>=2.21.0->tensorboard) (3.0.4)\n",
            "Requirement already satisfied: idna<3,>=2.5 in /usr/local/lib/python3.7/dist-packages (from requests<3,>=2.21.0->tensorboard) (2.10)\n",
            "Requirement already satisfied: oauthlib>=3.0.0 in /usr/local/lib/python3.7/dist-packages (from requests-oauthlib>=0.7.0->google-auth-oauthlib<0.5,>=0.4.1->tensorboard) (3.1.1)\n",
            "Requirement already satisfied: zipp>=0.5 in /usr/local/lib/python3.7/dist-packages (from importlib-metadata->markdown>=2.6.8->tensorboard) (3.6.0)\n",
            "Requirement already satisfied: typing-extensions>=3.6.4 in /usr/local/lib/python3.7/dist-packages (from importlib-metadata->markdown>=2.6.8->tensorboard) (3.7.4.3)\n"
          ]
        }
      ]
    },
    {
      "cell_type": "code",
      "metadata": {
        "id": "rm3yznoGG1Vl"
      },
      "source": [
        "# from keras.callbacks import TensorBoard\n",
        "# from time import time\n",
        "\n",
        "# # Create a TensorBoard instance with the path to the logs directory\n",
        "# tensorboard = TensorBoard(log_dir='logs/{}'.format(time()))"
      ],
      "execution_count": 23,
      "outputs": []
    },
    {
      "cell_type": "code",
      "metadata": {
        "id": "KOTOfLKHPvJF"
      },
      "source": [
        "from torch.utils.tensorboard import SummaryWriter\n",
        "tb = SummaryWriter()"
      ],
      "execution_count": 26,
      "outputs": []
    },
    {
      "cell_type": "markdown",
      "metadata": {
        "id": "eV1AXKcM4e5P"
      },
      "source": [
        "## **Installing necessary libraries**"
      ]
    },
    {
      "cell_type": "code",
      "metadata": {
        "id": "SZmTpQUov8y8"
      },
      "source": [
        "from contextualized_topic_models.models.ctm import CombinedTM\n",
        "from contextualized_topic_models.utils.data_preparation import bert_embeddings_from_file, TopicModelDataPreparation\n",
        "from contextualized_topic_models.datasets.dataset import CTMDataset\n",
        "from contextualized_topic_models.evaluation.measures import CoherenceNPMI, InvertedRBO\n",
        "from gensim.corpora.dictionary import Dictionary\n",
        "from gensim.models import ldamodel \n",
        "import os\n",
        "import numpy as np\n",
        "import pickle"
      ],
      "execution_count": 3,
      "outputs": []
    },
    {
      "cell_type": "markdown",
      "metadata": {
        "id": "XocA440_YW1h"
      },
      "source": [
        "Reading our data files and storing the documents as a lists of strings:"
      ]
    },
    {
      "cell_type": "code",
      "metadata": {
        "id": "tDElvKiWYWV3"
      },
      "source": [
        "with open(\"dbpedia_sample_abstract_20k_prep.txt\", 'r') as fr_prep:\n",
        "  text_training_preprocessed = [line.strip() for line in fr_prep.readlines()]\n",
        "\n",
        "with open(\"dbpedia_sample_abstract_20k_unprep.txt\", 'r') as fr_unprep:\n",
        "  text_training_not_preprocessed = [line.strip() for line in fr_unprep.readlines()]"
      ],
      "execution_count": 4,
      "outputs": []
    },
    {
      "cell_type": "markdown",
      "metadata": {
        "id": "_mECqdW0Lk53"
      },
      "source": [
        "NOTE: It is important to make sure that the lengths of the two lists of documents are the same and the index of a not preprocessed document corresponds to the index of the same preprocessed document. "
      ]
    },
    {
      "cell_type": "code",
      "metadata": {
        "id": "Gw7va3D3LP0e",
        "colab": {
          "base_uri": "https://localhost:8080/"
        },
        "outputId": "0d40e859-8804-4911-e8cc-774ede43d31d"
      },
      "source": [
        "assert len(text_training_preprocessed) == len(text_training_not_preprocessed)\n",
        "\n",
        "print(text_training_not_preprocessed[0])\n",
        "print(text_training_preprocessed[0])"
      ],
      "execution_count": 5,
      "outputs": [
        {
          "output_type": "stream",
          "name": "stdout",
          "text": [
            "The Mid-Peninsula Highway is a proposed freeway across the Niagara Peninsula in the Canadian province of Ontario. Although plans for a highway connecting Hamilton to Fort Erie south of the Niagara Escarpment have surfaced for decades,it was not until The Niagara Frontier International Gateway Study was published by the Ministry\n",
            "mid peninsula highway proposed across peninsula canadian province ontario although highway connecting hamilton fort south international study published ministry\n"
          ]
        }
      ]
    },
    {
      "cell_type": "markdown",
      "metadata": {
        "id": "BKO6mcaEsovb"
      },
      "source": [
        "## **Splitting the documents into training and testing**"
      ]
    },
    {
      "cell_type": "code",
      "metadata": {
        "id": "E2GYCcydstJW"
      },
      "source": [
        "training_bow_documents = text_training_preprocessed[0:15000]\n",
        "training_contextual_document = text_training_not_preprocessed[0:15000]\n",
        "\n",
        "testing_bow_documents = text_training_preprocessed[15000:]\n",
        "testing_contextual_documents = text_training_not_preprocessed[15000:]"
      ],
      "execution_count": 6,
      "outputs": []
    },
    {
      "cell_type": "markdown",
      "metadata": {
        "id": "V-AM070Ez6lW"
      },
      "source": [
        "## **Creating the Training Dataset**\n",
        "* Passing our files with preprocess data to our TopicModelDataPreparation object. \n",
        "* This object takes care of creating the bag of words for you and of obtaining the contextualized BERT representations of documents. \n",
        "* This operation allows us to create our training dataset.\n"
      ]
    },
    {
      "cell_type": "code",
      "metadata": {
        "id": "KhLt6VA3wvCB",
        "colab": {
          "base_uri": "https://localhost:8080/",
          "height": 136,
          "referenced_widgets": [
            "d555b6e003de479eb4a57df227eddf3f",
            "e7c2c529ee874cfba2efdd5ecdb32110",
            "a18b72e823154907b78f21de36aa5f2c",
            "8fb96e2a33e64616aed5cbb2c3182469",
            "61a4ae0bdad64826a28fc7e4e72a8fe6",
            "eb8692d5e0324cbc9af9e1840677b533",
            "35c53389baaa4066866af79a98bb8ad7",
            "f229c15251004845917eedcb7675ab5c",
            "b0458921c66c499e821803c3f1c54f4e",
            "ee46c973afba4326a5ef2aca6a8a15fa",
            "45f2c93821994322886f41999306b2ac"
          ]
        },
        "outputId": "7a8de3de-3628-4e20-db9e-333f1bad7b2a"
      },
      "source": [
        "tp = TopicModelDataPreparation(\"bert-base-nli-mean-tokens\")\n",
        "\n",
        "training_dataset = tp.create_training_set(training_contextual_document, training_bow_documents)"
      ],
      "execution_count": 7,
      "outputs": [
        {
          "output_type": "stream",
          "name": "stderr",
          "text": [
            "100%|██████████| 405M/405M [00:07<00:00, 52.7MB/s]\n",
            "Some weights of the model checkpoint at /root/.cache/torch/sentence_transformers/sbert.net_models_bert-base-nli-mean-tokens/0_BERT were not used when initializing BertModel: ['classifier.bias', 'classifier.weight']\n",
            "- This IS expected if you are initializing BertModel from the checkpoint of a model trained on another task or with another architecture (e.g. initializing a BertForSequenceClassification model from a BertForPreTraining model).\n",
            "- This IS NOT expected if you are initializing BertModel from the checkpoint of a model that you expect to be exactly identical (initializing a BertForSequenceClassification model from a BertForSequenceClassification model).\n"
          ]
        },
        {
          "output_type": "display_data",
          "data": {
            "application/vnd.jupyter.widget-view+json": {
              "model_id": "d555b6e003de479eb4a57df227eddf3f",
              "version_minor": 0,
              "version_major": 2
            },
            "text/plain": [
              "Batches:   0%|          | 0/75 [00:00<?, ?it/s]"
            ]
          },
          "metadata": {}
        }
      ]
    },
    {
      "cell_type": "markdown",
      "metadata": {
        "id": "edTXBg2PMlg1"
      },
      "source": [
        "\n",
        "**Preprocessed text:**\n",
        "\n",
        "We need text without punctuation to build the bag of word. Also, we might want only to have the most frequent words inside the BoW. Too many words might not help.\n",
        "\n",
        "**Unpreprocessed text**: \n",
        "\n",
        "We provide unpreprocessed text as the input for BERT (or the contextualized model of your choice) to let the model output more accurate document representations."
      ]
    },
    {
      "cell_type": "markdown",
      "metadata": {
        "id": "_WQtndP6N8kW"
      },
      "source": [
        "**Vocabulary:**"
      ]
    },
    {
      "cell_type": "code",
      "metadata": {
        "id": "9I3ThmBf0BcK",
        "colab": {
          "base_uri": "https://localhost:8080/"
        },
        "outputId": "702ef2d3-a411-4010-f2b5-e0e389b1f998"
      },
      "source": [
        "tp.vocab[:10]"
      ],
      "execution_count": 8,
      "outputs": [
        {
          "output_type": "execute_result",
          "data": {
            "text/plain": [
              "['abbreviated',\n",
              " 'academic',\n",
              " 'academy',\n",
              " 'access',\n",
              " 'according',\n",
              " 'achieved',\n",
              " 'acquired',\n",
              " 'acre',\n",
              " 'acres',\n",
              " 'across']"
            ]
          },
          "metadata": {},
          "execution_count": 8
        }
      ]
    },
    {
      "cell_type": "markdown",
      "metadata": {
        "id": "i5agbVqhxdnY"
      },
      "source": [
        "## **Training the Combined Contextualized Topic Model**\n",
        "\n",
        "Finally, we can fit our new topic model. \n",
        "Asking the model to find 50 topics in our collection (`n_component` parameter of the CombinedTM object). "
      ]
    },
    {
      "cell_type": "code",
      "metadata": {
        "id": "dALamw7HxLj-",
        "colab": {
          "base_uri": "https://localhost:8080/"
        },
        "outputId": "a4b76e05-7c98-43d5-cf23-6933f5648dfd"
      },
      "source": [
        "ctm = CombinedTM(input_size=len(tp.vocab), bert_input_size=768, num_epochs=50, n_components=50)\n",
        "ctm.fit(training_dataset)"
      ],
      "execution_count": 27,
      "outputs": [
        {
          "output_type": "stream",
          "name": "stderr",
          "text": [
            "Epoch: [50/50]\t Seen Samples: [750000/750000]\tTrain Loss: 136.03000888671875\tTime: 0:00:04.297509: : 50it [03:36,  4.34s/it]\n"
          ]
        }
      ]
    },
    {
      "cell_type": "code",
      "metadata": {
        "id": "4-bpFNtwQTvk"
      },
      "source": [
        "tb.add_scalar(\"Loss\", ctm.best_loss_train)\n",
        "tb.close()"
      ],
      "execution_count": 30,
      "outputs": []
    },
    {
      "cell_type": "markdown",
      "metadata": {
        "id": "A-Rvf4r92NWO"
      },
      "source": [
        "## **Saving the Model**"
      ]
    },
    {
      "cell_type": "code",
      "metadata": {
        "colab": {
          "base_uri": "https://localhost:8080/"
        },
        "id": "GovcXlu-2QUX",
        "outputId": "f11689dd-2f57-4f6f-b339-f1d0d0622934"
      },
      "source": [
        "ctm.save(models_dir=\"./\")"
      ],
      "execution_count": 10,
      "outputs": [
        {
          "output_type": "stream",
          "name": "stderr",
          "text": [
            "/usr/local/lib/python3.7/dist-packages/contextualized_topic_models/models/ctm.py:388: Warning: This is an experimental feature that we has not been fully tested. Refer to the following issue:https://github.com/MilaNLProc/contextualized-topic-models/issues/38\n",
            "  Warning)\n"
          ]
        }
      ]
    },
    {
      "cell_type": "markdown",
      "metadata": {
        "id": "4PneLVfb2R0r"
      },
      "source": [
        "## **Loading the Model**"
      ]
    },
    {
      "cell_type": "code",
      "metadata": {
        "id": "bShpxI7a2adS"
      },
      "source": [
        "# del ctm"
      ],
      "execution_count": null,
      "outputs": []
    },
    {
      "cell_type": "code",
      "metadata": {
        "id": "-p49TUxpuYez",
        "colab": {
          "base_uri": "https://localhost:8080/"
        },
        "outputId": "939e0bcf-7a5e-4687-ad4d-4fbe7e45cc99"
      },
      "source": [
        "!ls"
      ],
      "execution_count": 11,
      "outputs": [
        {
          "output_type": "stream",
          "name": "stdout",
          "text": [
            "'contextualized_topic_model_nc_50_tpm_0.0_tpv_0.98_hs_prodLDA_ac_(100, 100)_do_softplus_lr_0.2_mo_0.002_rp_0.99'\n",
            " dbpedia_sample_abstract_20k_prep.txt\n",
            " dbpedia_sample_abstract_20k_unprep.txt\n",
            " sample_data\n"
          ]
        }
      ]
    },
    {
      "cell_type": "code",
      "metadata": {
        "colab": {
          "base_uri": "https://localhost:8080/"
        },
        "id": "6qMC-8CU3NlL",
        "outputId": "924460de-3fc2-49cb-c8fd-e4cbb9aaaede"
      },
      "source": [
        "ctm = CombinedTM(input_size=len(tp.vocab), bert_input_size=768, num_epochs=100, n_components=50)\n",
        "\n",
        "ctm.load(\"contextualized_topic_model_nc_50_tpm_0.0_tpv_0.98_hs_prodLDA_ac_(100, 100)_do_softplus_lr_0.2_mo_0.002_rp_0.99/\",\n",
        "                                                                                                      epoch=99)"
      ],
      "execution_count": 12,
      "outputs": [
        {
          "output_type": "stream",
          "name": "stderr",
          "text": [
            "/usr/local/lib/python3.7/dist-packages/contextualized_topic_models/models/ctm.py:413: Warning: This is an experimental feature that we has not been fully tested. Refer to the following issue:https://github.com/MilaNLProc/contextualized-topic-models/issues/38\n",
            "  Warning)\n"
          ]
        }
      ]
    },
    {
      "cell_type": "markdown",
      "metadata": {
        "id": "-SEBG6wj9Zdu"
      },
      "source": [
        "## **Topics**\n",
        "\n",
        "After training, now it is the time to look at our topics: we can use the 'get_topic_lists' function to get the topics. It also accept a parameter that allows you to select how many words you want to see for each topic.\n",
        "\n",
        "If you look at the topics, you will see that they all make sense and are representative of a collection of documents that comes from Wikipedia (general knowledge)."
      ]
    },
    {
      "cell_type": "code",
      "metadata": {
        "id": "lxcKgjbx3V2o",
        "colab": {
          "base_uri": "https://localhost:8080/"
        },
        "outputId": "7063a0d8-7761-4635-e57b-c8d8281ea7bc"
      },
      "source": [
        "ctm.get_topic_lists(5)"
      ],
      "execution_count": 13,
      "outputs": [
        {
          "output_type": "execute_result",
          "data": {
            "text/plain": [
              "[['party', 'council', 'member', 'election', 'constituency'],\n",
              " ['book', 'novel', 'written', 'published', 'fiction'],\n",
              " ['member', 'politician', 'party', 'norwegian', 'political'],\n",
              " ['club', 'association', 'stadium', 'football', 'federation'],\n",
              " ['approximately', 'within', 'administrative', 'mi', 'poland'],\n",
              " ['school', 'high', 'education', 'college', 'students'],\n",
              " ['english', 'first', 'made', 'right', 'class'],\n",
              " ['family', 'brown', 'mm', 'found', 'described'],\n",
              " ['head', 'university', 'led', 'coach', 'represented'],\n",
              " ['company', 'founded', 'largest', 'based', 'headquartered'],\n",
              " ['son', 'st', 'bishop', 'john', 'priest'],\n",
              " ['best', 'known', 'director', 'american', 'born'],\n",
              " ['ice', 'hockey', 'professional', 'canadian', 'nhl'],\n",
              " ['czech', 'civil', 'village', 'parish', 'square'],\n",
              " ['usually', 'used', 'often', 'uses', 'generally'],\n",
              " ['west', 'east', 'south', 'within', 'capital'],\n",
              " ['united', 'states', 'representatives', 'senate', 'republican'],\n",
              " ['station', 'street', 'line', 'radio', 'fm'],\n",
              " ['season', 'division', 'team', 'th', 'league'],\n",
              " ['war', 'class', 'royal', 'ship', 'air'],\n",
              " ['game', 'video', 'developed', 'published', 'series'],\n",
              " ['list', 'national', 'complete', 'states', 'county'],\n",
              " ['american', 'york', 'new', 'major', 'former'],\n",
              " ['new', 'york', 'non', 'owned', 'radio'],\n",
              " ['film', 'directed', 'produced', 'stars', 'lead'],\n",
              " ['native', 'family', 'plant', 'common', 'natural'],\n",
              " ['born', 'plays', 'football', 'former', 'played'],\n",
              " ['law', 'served', 'wisconsin', 'american', 'born'],\n",
              " ['professor', 'university', 'journal', 'academic', 'reviewed'],\n",
              " ['chinese', 'greek', 'name', 'ancient', 'traditional'],\n",
              " ['information', 'system', 'systems', 'project', 'provide'],\n",
              " ['government', 'responsible', 'republic', 'ministry', 'national'],\n",
              " ['church', 'st', 'school', 'england', 'high'],\n",
              " ['island', 'point', 'named', 'coast', 'islands'],\n",
              " ['iran', 'persian', 'district', 'rural', 'census'],\n",
              " ['region', 'area', 'municipality', 'italian', 'province'],\n",
              " ['railway', 'line', 'station', 'airport', 'road'],\n",
              " ['state', 'airport', 'city', 'community', 'route'],\n",
              " ['album', 'band', 'released', 'rock', 'recorded'],\n",
              " ['held', 'race', 'place', 'grand', 'figure'],\n",
              " ['television', 'series', 'show', 'channel', 'bbc'],\n",
              " ['house', 'built', 'story', 'style', 'historic'],\n",
              " ['born', 'summer', 'gold', 'competed', 'russian'],\n",
              " ['away', 'chemical', 'planet', 'given', 'gene'],\n",
              " ['form', 'different', 'often', 'usually', 'either'],\n",
              " ['released', 'album', 'studio', 'band', 'recorded'],\n",
              " ['de', 'french', 'france', 'saint', 'la'],\n",
              " ['music', 'musician', 'rock', 'hop', 'record'],\n",
              " ['summer', 'world', 'events', 'event', 'olympic'],\n",
              " ['war', 'german', 'cross', 'knight', 'iron']]"
            ]
          },
          "metadata": {},
          "execution_count": 13
        }
      ]
    },
    {
      "cell_type": "markdown",
      "metadata": {
        "id": "K0EB30NeuGmJ"
      },
      "source": [
        "## **Using the Test Set**\n",
        "\n",
        "Now we are going to use the testset: we want to predict the topic for unseen documents."
      ]
    },
    {
      "cell_type": "code",
      "metadata": {
        "id": "On9saaijuKcV",
        "colab": {
          "base_uri": "https://localhost:8080/",
          "height": 136,
          "referenced_widgets": [
            "28b4bb4f05d4416eb78667bbc7fa2ec9",
            "bb2df48b9d7540fa83be779965c10b87",
            "95a178190c594d4faf40a21a46d412cf",
            "6ebf8600240e4d99ae3c6a87092ff6bc",
            "949cc98070f448d19cc5815f6ad782d3",
            "25ed69dff57b449c8cc1cd31005ca7e8",
            "066a3a664ec54a4bbd55ecb9f4cbdab9",
            "11f83299b80746f6a3e8093711d8cca4",
            "7fc6e266429047b28c4509df0a2f799d",
            "7bdc7323eccc4e0992f3699ca33afa20",
            "85a4962545b84735903c106873b64115"
          ]
        },
        "outputId": "8cae5ecf-c3f2-4473-909e-b6743efee9e7"
      },
      "source": [
        "testing_dataset = tp.create_test_set(testing_contextual_documents, testing_bow_documents) # create dataset for the testset\n",
        "predictions = ctm.get_doc_topic_distribution(testing_dataset, n_samples=1)"
      ],
      "execution_count": 14,
      "outputs": [
        {
          "output_type": "stream",
          "name": "stderr",
          "text": [
            "Some weights of the model checkpoint at /root/.cache/torch/sentence_transformers/sbert.net_models_bert-base-nli-mean-tokens/0_BERT were not used when initializing BertModel: ['classifier.bias', 'classifier.weight']\n",
            "- This IS expected if you are initializing BertModel from the checkpoint of a model trained on another task or with another architecture (e.g. initializing a BertForSequenceClassification model from a BertForPreTraining model).\n",
            "- This IS NOT expected if you are initializing BertModel from the checkpoint of a model that you expect to be exactly identical (initializing a BertForSequenceClassification model from a BertForSequenceClassification model).\n"
          ]
        },
        {
          "output_type": "display_data",
          "data": {
            "application/vnd.jupyter.widget-view+json": {
              "model_id": "28b4bb4f05d4416eb78667bbc7fa2ec9",
              "version_minor": 0,
              "version_major": 2
            },
            "text/plain": [
              "Batches:   0%|          | 0/25 [00:00<?, ?it/s]"
            ]
          },
          "metadata": {}
        },
        {
          "output_type": "stream",
          "name": "stderr",
          "text": [
            "Sampling: [1/1]: : 1it [00:01,  1.34s/it]\n"
          ]
        }
      ]
    },
    {
      "cell_type": "code",
      "metadata": {
        "id": "1xEn4nTCvuoG",
        "colab": {
          "base_uri": "https://localhost:8080/"
        },
        "outputId": "10b56d0c-0c94-4f94-e8c6-f07173a47493"
      },
      "source": [
        "print(testing_contextual_documents[10])\n",
        "\n",
        "topic_index = np.argmax(predictions[10])\n",
        "ctm.get_topic_lists(5)[topic_index]"
      ],
      "execution_count": 15,
      "outputs": [
        {
          "output_type": "stream",
          "name": "stdout",
          "text": [
            "The Special Operations Task Force (Abbreviation: SOTF; Chinese: 特别行动队; Malay: Operasi Khas Pasukan Khas) is a Special operations Force created by the Singapore Armed Forces to better combat terrorists threats that would harm Singaporean interests at home and overseas. According to Colonel Benedict Lim, then Assistant Chief of General Staff\n"
          ]
        },
        {
          "output_type": "execute_result",
          "data": {
            "text/plain": [
              "['government', 'responsible', 'republic', 'ministry', 'national']"
            ]
          },
          "metadata": {},
          "execution_count": 15
        }
      ]
    },
    {
      "cell_type": "markdown",
      "metadata": {
        "id": "p4E1o5i8vafe"
      },
      "source": [
        "# **Gradio**"
      ]
    },
    {
      "cell_type": "code",
      "metadata": {
        "id": "cQfgGOhpvXXZ"
      },
      "source": [
        "!pip install -q gradio"
      ],
      "execution_count": 18,
      "outputs": []
    },
    {
      "cell_type": "code",
      "metadata": {
        "id": "EJXZtsIYvc8w",
        "colab": {
          "base_uri": "https://localhost:8080/",
          "height": 571
        },
        "outputId": "2af92bdc-827c-46d0-cfa1-128118b5e224"
      },
      "source": [
        "import tensorflow as tf\n",
        "import numpy as np\n",
        "# from urllib.request import urlretrieve\n",
        "import gradio as gr\n",
        "\n",
        "def NER(text):\n",
        "    # text_dataset = tp.create_test_set(text, text_for_bow=None)\n",
        "    # prediction = ctm.get_doc_topic_distribution(text_dataset, n_samples=1)\n",
        "    topic_index = np.argmax(predictions[10])\n",
        "    return ctm.get_topic_lists(5)[topic_index]\n",
        "\n",
        "gr.Interface(fn=NER, \n",
        "             inputs=\"textbox\", \n",
        "             outputs='textbox').launch(share=True);"
      ],
      "execution_count": 21,
      "outputs": [
        {
          "output_type": "stream",
          "name": "stdout",
          "text": [
            "Colab notebook detected. To show errors in colab notebook, set `debug=True` in `launch()`\n",
            "This share link will expire in 72 hours. If you need a permanent link, visit: https://gradio.app/introducing-hosted\n",
            "Running on External URL: https://46205.gradio.app\n"
          ]
        },
        {
          "output_type": "display_data",
          "data": {
            "text/html": [
              "\n",
              "        <iframe\n",
              "            width=\"900\"\n",
              "            height=\"500\"\n",
              "            src=\"https://46205.gradio.app\"\n",
              "            frameborder=\"0\"\n",
              "            allowfullscreen\n",
              "        ></iframe>\n",
              "        "
            ],
            "text/plain": [
              "<IPython.lib.display.IFrame at 0x7f9ed3a30a10>"
            ]
          },
          "metadata": {}
        }
      ]
    }
  ]
}